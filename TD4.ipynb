{
 "cells": [
  {
   "cell_type": "markdown",
   "metadata": {},
   "source": [
    "# Probabilités pour les sciences exactes\n",
    "\n",
    "## TD3 - Feuille 1 - Ensembles, dénombrements, combinatoire\n",
    "\n",
    "*Les documents des semaines précédentes et d'aujourd'hui sont disponibles à l'adresse :\n",
    "https://github.com/skunne/l2probabilites .*\n",
    "\n",
    "$\\newcommand{\\N}{\\mathbb{N}}$\n",
    "$\\newcommand{\\P}[1]{\\mathbb{P}\\left( #1 \\right)}$\n",
    "$\\newcommand{\\c}[2]{{#1 \\choose #2}}$"
   ]
  },
  {
   "cell_type": "markdown",
   "metadata": {},
   "source": [
    "# Coefficients binomiaux"
   ]
  },
  {
   "cell_type": "markdown",
   "metadata": {},
   "source": [
    "## Exercice 11\n",
    "\n",
    "Soit $n$ un entier strictement positif.\n",
    "\n",
    "**1.** Montrer que\n",
    "    $$\\binom{2n}{n}=\\displaystyle\\sum_{k=0}^n\\binom{n}{k}^2$$\n",
    "    \n",
    "(1.1). Considérer l'ensemble $E = \\{ 1, 2, ..., 2n \\}$ et ses deux sous-ensembles $E_1 = \\{ 1, 2, ..., n \\}$ et $E_2 = \\{ n+1, n+2, ..., 2n \\}$. Calculer le nombre de façons de choisir $n$ éléments dans $E$ en décomposant $E$ entre $E_1$ et $E_2$.\n",
    "\n",
    "**2.** Retrouver la relation précédente en utilisant l'identité:\n",
    "    $(1+t)^n(1+t)^n=(1+t)^{2n}$."
   ]
  },
  {
   "cell_type": "markdown",
   "metadata": {},
   "source": [
    "**1.** On appelle $F_n$ le nombre de manières de choisir $n$ éléments dans $E$. Il y a $2n$ éléments dans $E$, donc $$F_n = {2n \\choose n}.$$\n",
    "\n",
    "On va maintenant calculer $F_n$ d'une autre manière.\n",
    "\n",
    "Pour choisir $n$ éléments dans $E$, la première chose à choisir est le nombre de ces $n$ éléments qui est dans $E_1$ et le nombre de ces $n$ éléments qui est dans $E_2$. On choisit donc un entier $k$ compris entre $0$ et $n$ inclu et on va choisir $k$ éléments dans $E_1$ et donc $(n-k)$ éléments dans $E_2$.\n",
    "\n",
    "Supposons $k$ fixé : combien y a-t-il de manière de choisir $n$ éléments en en prenant $k$ dans $E_1$ et $k$ dans $E_2$ ?\n",
    "\n",
    "Il y a ${n \\choose k}$ manières de choisir $k$ éléments dans $E_1$. Il y a ${n \\choose n-k}$ manières de choisir $(n-k)$ éléments dans $E_2$. \n",
    "\n",
    "Le nombre de manières de choisir $n$ éléments dont $k$ dans $E_1$ et $(n-k)$ dans $E_2$ est donc le produit $${n \\choose k}{n \\choose n-k}$$\n",
    "\n",
    "On veut calculer $F_n$ le nombre total de manières de choisir $n$ éléments dans $E$. On appelle $A_n$ l'ensemble des manières de choisir $n$ éléments dans $E$. Pour chaque $k$, on appelle $B_{k,n}$ l'ensemble des manières de choisir $n$ éléments dans $E$ dont $k$ dans $E_1$ et $(n-k)$ dans $E_2$.\n",
    "\n",
    "Alors :\n",
    "$$F_n = |A_n|$$\n",
    "Par ailleurs, $$A_n = B_{0,n} \\cup B_{1, n} \\cup ... \\cup B_{n, n}$$\n",
    "$$A_n = \\bigcup_{k=0}^n B_{k,n}$$\n",
    "Et cette union est disjointe : pour tous $k$ et $j$, si $k \\neq j$, alors $B_{k,n} \\cap B_{j,n} = \\emptyset$. Il n'existe pas de manière de choisir $n$ éléments dans $E$ en ayant à la fois exactement $k$ éléments dans $E_1$ et exactement $j$ éléments dans $E_1$.\n",
    "\n",
    "Comme l'union est disjointe, on en déduit :\n",
    "$$|A_n| = \\sum_{k=0}^n |B_{k,n}|$$\n",
    "\n",
    "On a déjà calculé $|B_{k,n}|$, c'està-dire le nombre de manières de choisir $n$ éléments dans $E$ dont $k$ dans $E_1$ et $(n-k)$ dans $E_2$ :\n",
    "$$|B_{k,n}| = {n \\choose k}{n \\choose n-k}$$\n",
    "\n",
    "Donc $$F_n = |A_n| = \\sum_{k=0}^n |B_{k,n}|$$\n",
    "$$F_n = \\sum_{k=0}^n {n \\choose k}{n \\choose n-k}$$\n",
    "\n",
    "On a ainsi montré :\n",
    "$$F_n = {2n \\choose n} = \\sum_{k=0}^n {n \\choose k}{n \\choose n-k}$$\n",
    "\n",
    "Or on sait que :\n",
    "$${n \\choose k} = {n \\choose n-k}$$\n",
    "donc :\n",
    "$${n \\choose k}{n \\choose n-k} = {n \\choose k}^2$$\n",
    "\n",
    "Donc finalement, \n",
    "$$F_n = {2n \\choose n} = \\sum_{k=0}^n {n \\choose k}{n \\choose n-k} = \\sum_{k=0}^n {n \\choose k}^2$$"
   ]
  },
  {
   "cell_type": "markdown",
   "metadata": {},
   "source": [
    "**2.** Retrouver la relation précédente en utilisant l'identité:\n",
    "    $(1+t)^n(1+t)^n=(1+t)^{2n}$.\n",
    "    \n",
    "On développe :\n",
    "$$(1+t)^{2n} = \\sum_{k=0}^{2n} {2n \\choose k} t^k$$\n",
    "(on retrouve la formule en développant le produit :\n",
    "$$(1+t)^{N} = (1+t)(1+t)...(1+t)$$\n",
    "(il y a ${N \\choose k}$ manières de choisir $k$ fois $t$ lorsqu'on choisit un des deux termes dans chaque facteur)\n",
    "\n",
    "Donc ${2n \\choose n}$ est le coefficient de $t^n$ dans le polynome $(1+t)^{2n}$.\n",
    "\n",
    "On développe d'autre part $(1+t)^n(1+t)^n$ :\n",
    "$$(1+t)^n(1+t)^n = (\\sum_{k=0}^n {n \\choose k} t^k)(\\sum_{j=0}^n {n \\choose j} t^j)$$\n",
    "\n",
    "On sait calculer le coefficient d'un terme dans un produit de deux polynomes : le terme en $X^{n_0}$ du produit $$(a_0 + a_1 X + ... + a_n X^n)(b_0 + b_1 X + ... + b_n X^n)$$\n",
    "est :\n",
    "$$\\sum_{l = 0}^n a_l b_{n_0 - l} X^{n_0}$$\n",
    "\n",
    "\n",
    "Ici, le coefficient de $t^{n_0}$ pour un certain $n_0$ entre 0 et $2n$ est :\n",
    "$$\\sum_{l=0}^{n_0} {n \\choose l} {n \\choose n_0-l}$$\n",
    "et donc en posant $n_0 = n$, le coefficient de $t^n$ dans $(1+t)^n(1+t)^n$ est :\n",
    "$$\\sum_{l=0}^{n} {n \\choose l} {n \\choose n-l}$$\n",
    "\n",
    "Or la manière d'écrire un polynome donné comme somme $\\sum a_k t^k$ est unique. Ainsi, si $$\\sum a_k t^k = \\sum b_k t^k$$\n",
    "alors on peut identifier les coefficients des deux écritures du polynome, c'est-à-dire :\n",
    "$$\\forall k,\\, a_k = b_k$$\n",
    "\n",
    "Et donc on a montré que le coefficient de $t^n$ dans le polynome $(1+t)^{2n}$ est d'une part ${2n \\choose n}$, et d'autre part $\\sum_{l=0}^{n} {n \\choose l} {n \\choose n-l}$; donc par identification des coefficients des polynomes : $${2n \\choose n} = \\sum_{l=0}^{n} {n \\choose l} {n \\choose n-l}$$"
   ]
  },
  {
   "cell_type": "markdown",
   "metadata": {},
   "source": [
    "# Pour approfondir et pour aller plus loin\n",
    "## Exercice 12\n",
    "\n",
    "Une urne contient 10 boules numérotées de 1 à 10. On extrait au hasard 5\n",
    "  boules successivement et sans remise.\n",
    "\n",
    "1. Quelle est la probabilité pour que les boules soient tirées dans l'ordre des\n",
    "    numéros croissants?\n",
    "2. Même question avec 100 boules."
   ]
  },
  {
   "cell_type": "markdown",
   "metadata": {},
   "source": [
    "Question 0: Définir l'univers $\\Omega$.\n",
    "\n",
    "L'univers est l'ensemble des 5-uplets $(a_1, a_2, a_3, a_4, a_5)$ avec les $a_i$ deux-à-deux distincts. Toutes les issues de cet univers sont équiprobables.\n",
    "\n",
    "De manière équivalente, l'univers $\\Omega$ est l'ensemble des fonctions $a$ qui ont comme ensemble de départ $\\{1,2,3,4,5\\}$ et comme ensemble d'arrivée $\\{1,2,3,4,5,6,7,8,9,10\\}$ et vérifiant la condition $a(i) \\neq a(j)$ pour tous $i \\neq j$, c'est-à-dire que la fonction $a$ est injective.\n",
    "\n",
    "Donc l'univers $\\Omega$ est l'ensemble des fonctions injectives $$\\{1,2,3,4,5\\} \\longrightarrow \\{1,2,3,4,5,6,7,8,9,10\\}$$\n",
    "\n",
    "Le cardinal de $\\Omega$ est le nombre d'arrangements de 5 éléments pris dans un ensemble à 10 éléments :\n",
    "$$|\\Omega| = A_{10}^5 = {10 \\choose 5} 5! = 10\\times 9\\times 8 \\times 7 \\times 6 = \\frac{10!}{5!}$$\n",
    "\n",
    "**1.** On s'intéresse à l'événement $E =$ \"les boules sont tirées dans l'ordre croissant\". On sait que $$P(E) = \\frac{|E|}{|\\Omega|}$$ car toutes les issues de $\\Omega$ sont équiprobables. On veut donc calculer $|E|$.\n",
    "\n",
    "$E$ est l'ensemble des fonctions strictement croissantes $\\{1,2,3,4,5\\} \\longrightarrow \\{1,2,3,4,5,6,7,8,9,10\\}$. Choisir une fonction de $E$ c'est choisir l'ensemble des 5 images (on n'a pas besoin de choisir leur ordre puisque la fonction est forcément croissante).\n",
    "\n",
    "Donc $$|E| = {10 \\choose 5}.$$\n",
    "\n",
    "Donc $$P(E) = \\frac{|E|}{|\\Omega|}$$\n",
    "$$P(E) = \\frac{{10 \\choose 5}}{{10 \\choose 5} 5!}$$\n",
    "$$P(E) = \\frac{1}{5!}$$"
   ]
  },
  {
   "cell_type": "markdown",
   "metadata": {},
   "source": [
    "**2.** Soit $N \\geq 5$ un entier. Même question avec 5 boules prises successivement et sans remise, au hasard parmi $N$ boules."
   ]
  },
  {
   "cell_type": "markdown",
   "metadata": {},
   "source": [
    "## Exercice 13\n",
    "\n",
    "Lors de la finale de natation du 100 mètres papillon, on attribue à\n",
    "  chacun des 8 finalistes le numéro de sa ligne d'eau. Les lignes sont numérotées de 1\n",
    "  à 8.\n",
    "\n",
    "1. Combien y a-t-il d'arrivées possibles ?\n",
    "2. Combien y a-t-il de classements où :\n",
    "\n",
    "(a) 1 arrive avant 2\n",
    "\n",
    "(b) 1, 2, 3 arrivent dans cet ordre et consécutifs ?\n",
    "\n",
    "(c) 1, 2, 3 arrivent dans cet ordre mais non nécessairement consécutifs ?\n",
    "\n",
    "(d) Les nageurs des lignes d'eau ayant un numéro pair occupent un rang pair dans le\n",
    "      classement ?"
   ]
  },
  {
   "cell_type": "markdown",
   "metadata": {},
   "source": [
    ".."
   ]
  },
  {
   "cell_type": "markdown",
   "metadata": {},
   "source": [
    ".."
   ]
  },
  {
   "cell_type": "markdown",
   "metadata": {},
   "source": [
    ".."
   ]
  },
  {
   "cell_type": "markdown",
   "metadata": {},
   "source": [
    "## Exercice 14\n",
    "\n",
    "Une assemblée de 24 personnes comprend 14 hommes et 10 femmes. On choisit dans cette assemblée un groupe de $n$ ($n\\leq 24$) individus.\n",
    "\n",
    "1. Quelle est la probabilité que ce groupe contienne au moins une femme et un homme ?\n",
    "2. Quelle est la plus petite valeur de l'entier $n$ telle que cette probabilité soit supérieure ou égale à 0.9 ?"
   ]
  },
  {
   "cell_type": "markdown",
   "metadata": {},
   "source": [
    ".."
   ]
  },
  {
   "cell_type": "markdown",
   "metadata": {},
   "source": [
    "## Exercice 15\n",
    "\n",
    "Soit $\\Omega$ un ensemble fini de cardinal $n \\geq 1$. Montrer que le nombre de parties de $\\Omega$ constituées d'un nombre pair d'éléments vaut $2^{n-1}$."
   ]
  },
  {
   "cell_type": "markdown",
   "metadata": {},
   "source": [
    ".."
   ]
  },
  {
   "cell_type": "markdown",
   "metadata": {},
   "source": [
    ".."
   ]
  },
  {
   "cell_type": "markdown",
   "metadata": {},
   "source": [
    "## Exercice 16\n",
    "\n",
    "Soit $E$ un ensemble fini de cardinal $n>1$ et $a$ et $b$ deux éléments\n",
    "  distincts de $E$.\n",
    "\n",
    "1. Combien y a-t-il de parties $A$ de $E$ de cardinal $p$ (où $p<n$) telles que :\n",
    "\n",
    "(a) $a$ et $b$ n'appartiennent pas à $A$.\n",
    "\n",
    "(b) $a$ et $b$ appartiennent à $A$.\n",
    "\n",
    "(c) $a$ appartient à $A$ mais pas $b$.\n",
    "\n",
    "2. En déduire la somme, pour $p\\le n-2$:\n",
    "    $$\\binom{n-2}{p-2}+2\\binom{n-2}{p-1}+\\binom{n-2}{p}$$ et vérifier ce résultat par le\n",
    "    calcul."
   ]
  },
  {
   "cell_type": "markdown",
   "metadata": {},
   "source": [
    ".."
   ]
  },
  {
   "cell_type": "markdown",
   "metadata": {},
   "source": [
    ".."
   ]
  },
  {
   "cell_type": "markdown",
   "metadata": {},
   "source": [
    ".."
   ]
  },
  {
   "cell_type": "markdown",
   "metadata": {},
   "source": []
  }
 ],
 "metadata": {
  "kernelspec": {
   "display_name": "Python 3",
   "language": "python",
   "name": "python3"
  },
  "language_info": {
   "codemirror_mode": {
    "name": "ipython",
    "version": 3
   },
   "file_extension": ".py",
   "mimetype": "text/x-python",
   "name": "python",
   "nbconvert_exporter": "python",
   "pygments_lexer": "ipython3",
   "version": "3.6.1"
  }
 },
 "nbformat": 4,
 "nbformat_minor": 4
}
