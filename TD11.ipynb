{
 "cells": [
  {
   "cell_type": "markdown",
   "metadata": {},
   "source": [
    "# Probabilités pour les sciences exactes\n",
    "\n",
    "## TD11 - Feuille 5 - Lois usuelles discrètes et moments\n",
    "\n",
    "*Les documents des semaines précédentes et d'aujourd'hui sont disponibles à l'adresse :\n",
    "https://github.com/skunne/l2probabilites .*\n",
    "\n",
    "$\\newcommand{\\N}{\\mathbb{N}}$\n",
    "$\\newcommand{\\P}[1]{\\mathbb{P}\\left( #1 \\right)}$\n",
    "$\\newcommand{\\E}[1]{\\mathbb{E}\\left( #1 \\right)}$\n",
    "$\\newcommand{\\V}[1]{\\operatorname{Var}\\left( #1 \\right)}$\n",
    "$\\newcommand{\\Cov}[1]{\\operatorname{Cov}\\left( #1 \\right)}$\n",
    "$\\newcommand{\\c}[2]{{#1 \\choose #2}}$\n",
    "$\\newcommand{\\non}[1]{\\overline{#1}}$"
   ]
  },
  {
   "cell_type": "markdown",
   "metadata": {},
   "source": [
    "### Exercice 9\n",
    "\n",
    "Soient $X, Y$ et $Z$ trois v.a.r indépendantes admettant un moment d’ordre 2. On pose : $U = X + Z$, $V = Y + Z$. Montrer que : $\\Cov {U, V} = \\V Z $."
   ]
  },
  {
   "cell_type": "markdown",
   "metadata": {},
   "source": [
    "On rappelle la définition de la covariance :\n",
    "\n",
    "* $\\Cov{X,Y} = \\E{(X - \\E X)(Y - \\E Y)}$\n",
    "\n",
    "* $\\Cov{X,Y} = \\E{XY} - \\E X \\E Y$\n",
    "\n",
    "On rappelle quelques propriétés utiles de la covariance :\n",
    "\n",
    "* $\\Cov{a X, c Y} = ac \\Cov{X, Y}$\n",
    "\n",
    "* $\\Cov{X+Y, Z} = \\Cov{X,Z} + \\Cov{Y,Z}$\n",
    "\n",
    "* $\\Cov{X, Y+Z} = \\Cov{X,Y} + \\Cov{X,Z}$\n",
    "\n",
    "(Les trois propriétés précédentes s'appellent \"bi-linéarité de la covariance\".)\n",
    "\n",
    "* $\\Cov{X,X} = \\V X$\n",
    "\n",
    "* Si $X$ et $Y$ sont indépendantes, alors $\\Cov{X,Y} = 0$.\n",
    "\n",
    "On veut montrer que $\\Cov{U,V} = \\V Z$.\n",
    "$$\\Cov{U,V} = \\Cov{X+Z, Y+Z}$$\n",
    "$$\\Cov{U,V} = \\Cov{X+Z, Y} + \\Cov{X+Z, Z}$$\n",
    "$$\\Cov{U,V} = \\Cov{X, Y} + \\Cov{Z,Y} + \\Cov{X, Z} + \\Cov{Z,Z}$$\n",
    "$$\\Cov{U,V} = 0 + 0 + 0 + \\V Z$$\n",
    "Les zéros sont obtenus grâce à l'indépendance des trois variables $X$, $Y$ et $Z$.\n"
   ]
  },
  {
   "cell_type": "markdown",
   "metadata": {},
   "source": [
    "### Exercice 10\n",
    "\n",
    "Soient $X$ et $Y$ deux v.a.r. suivant des lois de Bernoulli.\n",
    "\n",
    "1. Montrer que l'indépendance de $X$ et $Y$ équivaut à $\\text{Cov}(X,Y)=0$. Ce\n",
    "    résultat est-il vrai dans le cas général ? Quelle implication est toujours vraie ?\n",
    "\n",
    "2. On suppose que $X$ et $Y$ sont indépendantes, et toutes deux de paramètre\n",
    "    $p$. On pose\n",
    "    $$ U = X+Y, \\quad V=X-Y.$$\n",
    "    \n",
    "    Quelle est la loi du couple $(U,V)$ ?\n",
    "    Calculer $\\text{Cov}(U,V)$. Les variables aléatoires $U$ et $V$ sont-elles indépendantes ?"
   ]
  },
  {
   "cell_type": "markdown",
   "metadata": {},
   "source": [
    "**1.** Dans le cas général, on a toujours l'implication : si $X$ et $Y$ sont indépendantes, alors $\\Cov{X,Y} = 0$. La réciproque n'est pas toujours vraie. Il est possible que $X$ et $Y$ ne soient pas indépendantes mais qu'on ait quand même $\\Cov{X,Y} = 0$.\n",
    "\n",
    "Dans le cas particulier où $X$ et $Y$ suivent des lois de Bernouilli, on va montrer la réciproque : si $X$ et $Y$ suivent des lois de Bernouilli et $\\Cov{X,Y} = 0$, alors $X$ et $Y$ sont indépendantes.\n",
    "\n",
    "On suppose donc désormais que $\\Cov{X,Y} = 0$, c'est-à-dire $\\E{XY} - \\E X \\E Y = 0$, c'est-à-dire $\\E{XY} = \\E X \\E Y$. \n",
    "\n",
    "Or $X$ et $Y$ suivent des lois de Bernouilli; on pose $p_1 = \\E X$ et $p_2 = \\E Y$. C'est-à-dire que $X \\sim B(p_1)$ et $Y \\sim B(p_2)$.\n",
    "\n",
    "On veut montrer que $X$ et $Y$ sont indépendantes, c'est-à-dire que :\n",
    "$$(i)\\, \\P{X=0, Y=0} = \\P{X=0} \\P{Y = 0}$$\n",
    "$$(ii)\\, \\P{X=0, Y=1} = \\P{X=0} \\P{Y = 1}$$\n",
    "$$(iii)\\, \\P{X=1, Y=0} = \\P{X=1} \\P{Y = 0}$$\n",
    "$$(iv)\\, \\P{X=1, Y=1} = \\P{X=1} \\P{Y = 1}$$\n",
    "\n",
    "On remarque que $\\{ X = 1, Y = 1 \\} = \\{ XY = 1 \\}$. Donc $\\P{X=1,Y=1} = \\P{XY=1}$.\n",
    "\n",
    "Or $XY$ vaut toujours 0 ou 1, donc la variable $XY$ suit une loi de Bernouilli. Le paramètre de cette loi est $\\P{XY=1} = \\E{XY}$.\n",
    "\n",
    "On va démontrer l'égalité $(iv)$ :\n",
    "$$\\P{X=1,Y=1} = \\P{XY=1} = \\E{XY} = \\E X \\E Y = \\P{X=1} \\P{Y=1}$$\n",
    "\n",
    "On va démontrer l'égalité $(ii)$ :\n",
    "$$\\P{X=0, Y=1} = \\P{1-X=1, Y=1}$$\n",
    "Or $1-X$ est une variable aléatoire qui suit une loi de Bernouilli de paramètre $1-p_1$. On peut donc réappliquer le même raisonnement que pour $(iv)$, mais au lieu de l'appliquer aux variables aléatoires $X$ et $Y$, on l'applique à $1-X$ et $Y$ :\n",
    "$$\\P{1-X = 1, Y = 1} = \\P{(1-X)Y = 1} = \\E{(1-X)Y} = \\E{Y - XY} = \\E Y - \\E{XY} = \\E Y - \\E X \\E Y$$\n",
    "$$ = \\E Y (1 - \\E X) = \\P{Y = 1} \\E{1 - X} = \\P{Y = 1} \\P {1 - X = 1} = \\P{Y=1} \\P{X=0}$$\n",
    "\n",
    "Le raisonnement pour $(iii)$ est exactement le même que pour $(ii)$, en inversant $X$ et $Y$.\n",
    "\n",
    "Il reste à démontrer $(i)$. Là encore le raisonnement est le même en écrivant $\\P{X=0, Y=0} = \\P{1-X = 1, 1-Y = 1}$.\n",
    "\n",
    "Ainsi on a démontré les quatre égalités en faisant l'hypothèse $\\Cov{X,Y} = 0$. Donc si $\\Cov{X,Y} = 0$, alors les variables $X$ et $Y$ sont indépendantes.\n",
    "\n",
    "On a ainsi montré que dans le cas particulier de deux variables aléatoires $X$ et $Y$ suivant des lois de Bernouilli, il y équivalence entre $\\Cov{X,Y} = 0$ et \"$X$ et $Y$ sont indépendantes\".\n",
    "\n",
    "\n",
    "\n"
   ]
  },
  {
   "cell_type": "markdown",
   "metadata": {},
   "source": [
    "**2.**\n",
    "\n",
    "$X$ et $Y$ prennent chacun les valeurs 0 ou 1, donc :\n",
    "\n",
    "* $U = X+Y$ prend les valeurs 0 ou 1 ou 2;\n",
    "\n",
    "* $V = X - Y$ prend les valeurs -1, 0 ou 1.\n",
    "\n",
    "Loi du couple :\n",
    "\n",
    "| V\\U | 0 | 1 | 2 |\n",
    "| --- | --- | --- | --- |\n",
    "| -1 | 0 | $pq$ | 0 |\n",
    "| 0 | $q^2$ | 0 | $p^2$ |\n",
    "| 1 | 0 | $pq$ | 0 |\n",
    "\n",
    "(On a posé $q = 1-p$ pour que les valeurs soient plus courtes à écrire)\n",
    "\n",
    "On calcule $\\Cov{U,V}$ en utilisant la propriété de bilinéarité de la covariance :\n",
    "$$\\Cov{U,V} = \\Cov{X+Y, X-Y}$$\n",
    "$$\\Cov{U,V} = \\Cov{X, X-Y} + \\Cov{Y, X-Y}$$\n",
    "$$\\Cov{U,V} = \\Cov{X, X} - \\Cov{X, Y} + \\Cov{Y, X} - \\Cov{Y, Y}$$\n",
    "$$\\Cov{U,V} = \\V X - \\V Y$$\n",
    "\n",
    "Or $X$ et $Y$ suivent la même loi (de Bernouilli de paramètre $p$), donc $\\V X = \\V Y$. Donc :\n",
    "$$\\Cov{U,V} = 0$$\n",
    "\n",
    "Les variables $U$ et $V$ ne sont pas indépendantes, car la loi du couple ne forme pas une table de multiplication, sauf dans le cas très particulier où $p=0$ ou $p=1$.\n",
    "\n",
    "On a ainsi trouvé un exemple de deux variables $U$ et $V$ qui ne sont pas indépendantes mais qui vérifient quand même $\\Cov{U, V} = 0$."
   ]
  },
  {
   "cell_type": "markdown",
   "metadata": {},
   "source": [
    "### Exercice 11\n",
    "\n",
    "On lance $n$ fois une pièce de monnaie équilibrée et on considère la variable\n",
    "  aléatoire $Y$ égale au nombre de fois que le côté pile est obtenu.\n",
    "\n",
    "1. Définir un espace probabilisé $(\\Omega,P)$ associé à l'expérience.\n",
    "2. Déterminer la loi de $Y$.\n",
    "3. Soit $X$ la variable aléatoire égale à la différence entre le nombre de piles\n",
    "    et le nombre de faces obtenus. Exprimer $X$ en fonction de $Y$. En déduire les\n",
    "    valeurs possibles de $X$.\n",
    "4.  Calculer $\\E X$ et $\\V X$. Vérifier les valeurs pour $n=3$.\n",
    "5. Le résultat de $Y$ est affiché sur un écran correctement quand $Y>0$ mais\n",
    "    quand $Y=0$, l'écran affiche un nombre aléatoire suivant une loi uniforme sur\n",
    "    $\\{1,...,n\\}$. Soit $Z$ la variable aléatoire donnant le nombre affiché à\n",
    "    l'écran, déterminer $\\E Z$ et $\\V Z$."
   ]
  },
  {
   "cell_type": "markdown",
   "metadata": {},
   "source": [
    ".."
   ]
  },
  {
   "cell_type": "markdown",
   "metadata": {},
   "source": [
    "### Exercice 12\n",
    "\n",
    "On jette deux fois un dé à $6$ faces équilibré; on note $D_1$ et $D_2$ les nombres affichés. Soient les\n",
    "  variables aléatoires $X= D_1+ D_2$, $Y= D_2 - D_1$, $Z= \\max \\{ D_1,D_2 \\}$ et\n",
    "  $W = \\min \\{ D_1,D_2 \\}$.\n",
    "\n",
    "1. Rappeler la loi de $D_1$, son espérance et sa variance. En déduire\n",
    "    $\\E X$, $\\E Y$, $\\V X$ et $\\V Y$.\n",
    "\n",
    "2. Quelle est la loi de $X$? Retrouver son espérance et sa variance à partir de\n",
    "    cette loi.\n",
    "\n",
    "3. Même question pour $Y$ et $Z$.\n",
    "\n",
    "4. Calculer $\\E{XY}$. $X$ et $Y$ sont-elles corrélées? indépendantes?\n",
    "\n",
    "5. Que vaut $Z+ W$? En déduire $\\E W$."
   ]
  },
  {
   "cell_type": "markdown",
   "metadata": {},
   "source": [
    ".."
   ]
  },
  {
   "cell_type": "markdown",
   "metadata": {},
   "source": [
    "## TD11 - Feuille 6 - V. A. continues, Tchebychev, TCL"
   ]
  },
  {
   "cell_type": "markdown",
   "metadata": {},
   "source": [
    "### Exercice 2\n",
    "\n",
    "1. Le temps d’attente à un guichet d’une banque suit une loi uniforme $U([0,10])$ (en minutes).\n",
    "\n",
    "(a) Calculer la probabilité d’attendre au moins 6 minutes.\n",
    "\n",
    "(b) Calculer le temps d’attente moyen.\n",
    "\n",
    "(c) Que pensez-vous de la modélisation (choisie ou estimée statistiquement) ?\n",
    "\n",
    "2. Mêmes questions avec une loi exponentielle $\\mathcal{E}(\\frac{1}{5})$."
   ]
  },
  {
   "cell_type": "markdown",
   "metadata": {},
   "source": [
    "**1. a)**\n",
    "\n",
    "On appelle $X$ la variable aléatoire qui suit la loi uniforme $U([0,10])$. On veut calculer $\\P{X \\geq 6}$.\n",
    "\n",
    "On connaît la fonction de répartition $F_X$ de la loi uniforme :\n",
    "\n",
    "$$F_X(x) = \\P{X \\leq x} = \\int_{-\\infty}^x f_X(t)dt$$\n",
    "\n",
    "où $f_X$ est la densité de probabilité de $X$. On connaît la densité de probabilité de la loi uniforme :\n",
    "\n",
    "$$f_X(x) = \\frac{1}{10} \\mathbb{1}_{[0,10]}(x)$$\n",
    "\n",
    "donc\n",
    "\n",
    "$$\\P{X \\geq 6} = \\int_6^{+\\infty} f_X(x) dx$$\n",
    "$$\\P{X \\geq 6} = \\int_6^{+\\infty} \\frac{1}{10} \\mathbb{1}_{[0,10]}(x) dx$$\n",
    "$$\\P{X \\geq 6} = \\int_6^{10} \\frac{1}{10} dx$$\n",
    "$$\\P{X \\geq 6} = \\frac{1}{10} \\times (10- 6 ) = \\frac{4}{10} = \\frac{2}{5}$$\n"
   ]
  },
  {
   "cell_type": "markdown",
   "metadata": {},
   "source": [
    "**b)** On veut calculer $$\\E X = \\int_{-\\infty}^{+\\infty} x f_X(x) dx$$"
   ]
  },
  {
   "cell_type": "markdown",
   "metadata": {},
   "source": [
    "### Exercice 11\n",
    "\n",
    "Soit $X$ une variable aléatoire suivant la loi normale standard : $X ∼ N(0,1)$.\n",
    "\n",
    "On pose $Y=e^X$. Trouver la densité de la variable $Y$."
   ]
  },
  {
   "cell_type": "markdown",
   "metadata": {},
   "source": [
    ".."
   ]
  },
  {
   "cell_type": "markdown",
   "metadata": {},
   "source": [
    ".."
   ]
  },
  {
   "cell_type": "markdown",
   "metadata": {},
   "source": [
    ".."
   ]
  },
  {
   "cell_type": "markdown",
   "metadata": {},
   "source": [
    ".."
   ]
  }
 ],
 "metadata": {
  "kernelspec": {
   "display_name": "Python 3",
   "language": "python",
   "name": "python3"
  },
  "language_info": {
   "codemirror_mode": {
    "name": "ipython",
    "version": 3
   },
   "file_extension": ".py",
   "mimetype": "text/x-python",
   "name": "python",
   "nbconvert_exporter": "python",
   "pygments_lexer": "ipython3",
   "version": "3.6.1"
  }
 },
 "nbformat": 4,
 "nbformat_minor": 4
}
