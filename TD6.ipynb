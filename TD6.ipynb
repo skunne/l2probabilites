{
 "cells": [
  {
   "cell_type": "markdown",
   "metadata": {},
   "source": [
    "# Probabilités pour les sciences exactes\n",
    "\n",
    "## TD6 - Feuille 2 - Conditionnement, indépendance\n",
    "\n",
    "*Les documents des semaines précédentes et d'aujourd'hui sont disponibles à l'adresse :\n",
    "https://github.com/skunne/l2probabilites .*\n",
    "\n",
    "$\\newcommand{\\N}{\\mathbb{N}}$\n",
    "$\\newcommand{\\P}[1]{\\mathbb{P}\\left( #1 \\right)}$\n",
    "$\\newcommand{\\c}[2]{{#1 \\choose #2}}$\n",
    "$\\newcommand{\\non}[1]{\\overline{#1}}$"
   ]
  },
  {
   "cell_type": "markdown",
   "metadata": {},
   "source": [
    "### Exercice 5\n",
    "\n",
    "On va essayer de construire un contre-exemple.\n",
    "\n",
    "On considère un lancer de deux dés. On pose donc l'univers $\\Omega = \\{ 1,2,3,4,5,6\\}^2$ muni de la probabilité uniforme.\n",
    "\n",
    "On considère trois événements :\n",
    " * $A = $ \"le premier dé tombe sur la face 1\"\n",
    " * $B = $ \"le deuxième dé tombe sur une face paire\"\n",
    " * $C = $ \"les deux dés sont égaux (on a fait un double)\"\n",
    " \n",
    " \n",
    "**Exercice pour lundi prochain :**\n",
    " On vérifie que :\n",
    "  * $A$ et $B$ sont indépendants, c'est-à-dire $\\P A \\P B = \\P {A \\cap B}$\n",
    "  * $A$ et $C$ sont indépendants, c'est-à-dire $\\P A \\P C = \\P {A \\cap C}$\n",
    "  * $A$ et $B \\cup C$ ne sont pas indépendants, c'est-à-dire ??\n",
    "  * $A$ et $B \\cap C$ ne sont pas indépendants, c'est-à-dire ??\n",
    "  \n",
    "Si c'est faux : modifier légèrement les événements $A$, $B$, et $C$ pour trouver un bon contre-exemple."
   ]
  },
  {
   "cell_type": "markdown",
   "metadata": {},
   "source": [
    "**Indépendance de A et B et A et C**\n",
    "\n",
    "$$P(A) = \\frac{1}{6} ; P(B) = \\frac{1}{2} ; P(C) = \\frac{1}{6}$$\n",
    "$$P(A \\cap B) = \\frac{1}{12} ; P(B \\cap C) = \\frac{1}{12}$$\n",
    "$$\\P A \\P B = \\frac{1}{12} ; \\P B \\P C = \\frac{1}{12}$$\n",
    "On a ainsi vérifié $\\P A \\P B = \\P {A \\cap B}$; donc les événéments $A$ et $B$ sont indépendants. On a vérifié $\\P A \\P C = \\P {A \\cap C}$; donc les événements $A$ et $C$ sont indépendants.\n",
    "\n",
    "De même on aurait pu vérifier que $B$ et $C$ sont indépendants.\n",
    "\n",
    "On dit donc que les événements $A$, $B$ et $C$ sont deux-à-deux indépendants."
   ]
  },
  {
   "cell_type": "markdown",
   "metadata": {},
   "source": [
    "**Les événéments $A$ et $B \\cup C$ sont-ils indépendants ?**\n",
    "\n",
    "Deux événements sont indépendants si le produit de leurs probabilités est égal à la probabilité de leur intersection. On va donc calculer ces deux nombres et vérifier s'ils sont égaux ou non.\n",
    "\n",
    "On va calculer $\\P A \\P {B \\cup C}$ et $\\P {A \\cap (B \\cup C)}$.\n",
    "$$\\P {B \\cup C} = \\frac{21}{36} = \\frac{7}{12}$$\n",
    "$$\\P A \\P {B \\cup C} = \\frac{7}{72}$$\n",
    "$$\\P {A \\cap (B \\cup C)} = \\frac{4}{36} = \\frac{1}{9}$$\n",
    "\n",
    "On a ainsi montré que $\\P A \\P {B \\cup C} \\neq \\P {A \\cap (B \\cup C)}$, c'est-à-dire que les événements $A$ et $B \\cup C$ ne sont pas indépendants.\n",
    "\n",
    "**Les événéments $A$ et $B \\cup C$ sont-ils indépendants ?**\n",
    "\n",
    "On va calculer $\\P A \\P {B \\cap C}$ et $\\P {A \\cap B \\cap C}$.\n",
    "\n",
    "On a déjà calculé $\\P A = \\frac{1}{6}$ et $\\P{B \\cap C} = \\frac{1}{12}$. Donc $\\P A \\P {B \\cap C} = \\frac{1}{72}$.\n",
    "\n",
    "Par ailleurs $A \\cap B \\cap C = \\emptyset$, donc $\\P {A \\cap B \\cap C} = 0$.\n",
    "\n",
    "On a ainsi montré que $\\P {A \\cap B \\cap C} \\neq \\P A \\P {B \\cap C}$ ; donc $A$ et $B \\cup C$ ne sont pas indépendants."
   ]
  },
  {
   "cell_type": "markdown",
   "metadata": {},
   "source": [
    "### Exercice 6 (indépendance à trois)\n",
    "\n",
    "On place quatre billets dans un chapeau, portant les numéros : 112, 121, 211, 222; on tire un billet au hasard et on considère les évènements :\n",
    "* $A_1 $: le chiffre 1 occupe la première place du numéro tiré;\n",
    "* $A_2$: le chiffre 1 occupe la deuxième place du numéro tiré;\n",
    "* $A_3$: le chiffre 1 occupe la troisième place du numéro tiré. \n",
    "\n",
    "Vérifier que  les trois événements $A_1$, $A_2$ et $A_3$ sont deux-à-deux indépendants, mais ne forment pas une famille indépendante, car  $A_1$ et $A_2 \\cap A_3$ ne sont pas indépendants."
   ]
  },
  {
   "cell_type": "markdown",
   "metadata": {},
   "source": [
    "**Vérifier que les événements sont deux-à-deux indépendants**\n",
    "\n",
    "Pour vérifier la définition de l'indépendance, on va comparer $\\P {A_1 \\cap A_2}$ et $\\P {A_1} \\P {A_2}$, etc.\n",
    "\n",
    "D'une part :\n",
    "$$A_1 = \\{ 112, 121 \\} ; A_2 = \\{ 112, 211 \\} ; A_3 = \\{ 121, 121 \\} ; $$\n",
    "donc :\n",
    "$$\\P {A_1} = \\frac{2}{4} = \\frac{1}{2} ; \\P {A_2} = \\frac{2}{4} ; \\P {A_3} = \\frac{2}{4}$$\n",
    "$$\\P {A_1}\\P {A_2} = \\frac{1}{4} = \\P {A_1}\\P {A_3} = \\P {A_2} \\P {A_3} = \\frac{1}{4}$$\n",
    "D'autre part :\n",
    "$$A_1 \\cap A_2 = \\{ 112 \\} ; A_1 \\cap A_3 = \\{ 121 \\} ; A_2 \\cap A_3 = \\{ 211 \\}$$\n",
    "donc :\n",
    "$$\\P {A_1 \\cap A_2} = \\P {A_1 \\cap A_2} = \\P {A_1 \\cap A_2} = \\frac{1}{4}$$\n",
    "\n",
    "On a ainsi vérifié $\\P {A_1 \\cap A_2} = \\P {A_1} \\P {A_2}$ et de même pour $A_1$, $A_3$ et pour $A_2$, $A_3$. Donc Les trois événements $A_1$, $A_2$ et $A_3$ sont deux-à-deux indépendants.\n",
    "\n"
   ]
  },
  {
   "cell_type": "markdown",
   "metadata": {},
   "source": [
    "**Montrer que $A_1$ et $A_2 \\cap A_3$ ne sont pas indépendants**\n",
    "\n",
    "On veut comparer $\\P {A_1 \\cap A_2 \\cap A_3}$ et $\\P {A_1} \\P {A_2 \\cap A_3}$.\n",
    "\n",
    "$A_1 \\cap A_2 \\cap A_3 = $ \"les trois chiffres sont 1\"\n",
    "\n",
    "Or aucun ticket ne remplit cette condition ; donc :\n",
    "\n",
    "$$A_1 \\cap A_2 \\cap A_3 = \\emptyset$$\n",
    "$$\\P {A_1 \\cap A_2 \\cap A_3} = 0$$\n",
    "\n",
    "D'autre part :\n",
    "$$\\P {A_1} \\P {A_2 \\cap A_3} = \\frac{1}{2}\\frac{1}{4} = \\frac{1}{8}$$\n",
    "\n",
    "On a ainsi vérifié que $\\P {A_1 \\cap A_2 \\cap A_3} \\neq \\P {A_1} \\P {A_2 \\cap A_3}$ ; c'est-à-dire que l'événement $A_1$ n'est pas indépendant de l'événement $A_2 \\cap A_3$.\n",
    "\n",
    "Donc les trois événements $A_1, A_2$ et $A_3$ ne forment pas une famille indépendante."
   ]
  },
  {
   "cell_type": "markdown",
   "metadata": {},
   "source": [
    "### Exercice 7 (le lapin)\n",
    "\n",
    "Paul attend Virginie qui lui a dit qu'il y avait une chance sur deux pour\n",
    "que ses parents l'autorisent à sortir. Pour se rendre au rendez-vous, Virginie peut\n",
    "soit prendre l'autobus, soit utiliser son vélo, en aucun cas prendre le bateau.\n",
    "Paul, qui connait bien Virginie, admet qu'il y a une chance sur quatre pour qu'elle\n",
    "prenne l'autobus.\n",
    "\n",
    "L'autobus arrive, Virginie ne s'y trouve pas.  Quelle est la\n",
    "probabilité pour qu'elle vienne au rendez-vous ?"
   ]
  },
  {
   "cell_type": "markdown",
   "metadata": {},
   "source": [
    "On définit les événements suivants :\n",
    " * $S =$ \"Virginie est autorisée à sortir\" = \"Virginie vient au rendez-vous\" ;\n",
    " * $A =$ \"Virginie prend l'autobus\" ;\n",
    " * $V =$ \"Virginie prend son vélo\".\n",
    " \n",
    "Remarque : $A \\subset S$, donc $A \\cap S = A$ et $A \\cap \\non S = \\emptyset$.\n",
    " \n",
    "Répondre à la question posée, c'est donner la probabilité $\\P{S \\,|\\, \\non A}$.\n",
    "\n",
    "(Remarque : $\\P{S \\,|\\, \\non A} = \\P{S \\cap V \\,|\\, \\non A}$)\n",
    "\n",
    "On rappelle la définition d'une probabilité conditionnelle :\n",
    "$$\\P{S \\,|\\, \\non A} = \\frac{\\P {S \\cap \\non A}}{\\P {\\non A}}$$\n",
    "\n",
    "On connaît les probabilités suivantes :\n",
    " * $\\P S = \\frac{1}{2}$ ;\n",
    " * $\\P {A \\,|\\, S} = \\frac{1}{4}$ ;\n",
    " * $\\P {\\non A \\,|\\, S} = \\frac{3}{4}$ ;\n",
    " * $\\P {A \\,|\\, \\non S} = 0$ car l'événement $A \\cap \\non S =$\"Virginie reste chez elle et elle est dans le bus\"$= \\emptyset$ donc $\\P {A \\,|\\, \\non S} = \\frac{\\P{A \\cap \\non S}}{\\P {\\non S}} = \\frac{0}{1/2} = 0$;\n",
    "\n",
    "On veut maintenant calculer :\n",
    "$$\\P{S \\,|\\, \\non A} = \\frac{\\P {S \\cap \\non A}}{\\P {\\non A}}$$\n",
    "On remarque que $\\P {S \\cap \\non A} = \\P S - \\P {S \\cap A}$.\n",
    "D'autre part, $\\P {\\non A} = 1 - \\P A$ ; et $\\P A = \\P {A \\cap S} + \\P {A \\cap \\non S} = \\P {A \\cap S}$.\n",
    "\n",
    "$$\\P {A \\cap S} = \\P {A \\,|\\, S} \\P S$$\n",
    "\n",
    "Donc finalement :\n",
    "$$\\P{S \\,|\\, \\non A} = \\frac{\\P {S \\cap \\non A}}{\\P {\\non A}}$$\n",
    "$$\\P{S \\,|\\, \\non A} = \\frac{\\P S - \\P {S \\cap A}}{1 - \\P {A \\,|\\, S} \\P S}$$\n",
    "$$\\P{S \\,|\\, \\non A} = \\frac{\\P S - \\P {A \\,|\\, S} \\P S}{1 - \\P {A \\,|\\, S} \\P S}$$\n",
    "$$\\P{S \\,|\\, \\non A} = \\frac{1/2 - 1/4 \\times 1/2}{1 - 1/4 \\times 1/2}$$\n",
    "$$\\P{S \\,|\\, \\non A} = \\frac{3/8}{7/8} = \\frac{3}{7}$$\n",
    "\n",
    "Finalement, la probabilité $\\P { S \\,|\\, \\non A}$ que Virginie vienne au rendez-vous sachant qu'elle ne se trouve pas dans l'autobus est $\\frac{3}{7}$."
   ]
  },
  {
   "cell_type": "markdown",
   "metadata": {},
   "source": [
    "### Exercice 8 (familles nombreuses)\n",
    "\n",
    "Quelles sont les probabilités que, parmi les familles à $n$ enfants,\n",
    "$n \\geq 2$, une famille soit constituée d'enfants des deux sexes\n",
    "(événement $A$), puis de garçons et d'au plus une fille (événement\n",
    "$B$)? Construire un modèle et calculer $\\P{A \\cap B}$; \n",
    "comparer cette quantité à $\\P A \\P B$."
   ]
  },
  {
   "cell_type": "markdown",
   "metadata": {},
   "source": [
    "On considère les deux événements :\n",
    " * $A = $ \"il y au moins une fille et un garçon\" ;\n",
    " * $B =$ \"il y au plus une fille\".\n",
    " \n",
    " On définit l'univers $\\Omega$ :\n",
    " $$\\Omega = \\{g,f\\}^n$$\n",
    " C'est-à-dire que $\\Omega$ est l'ensemble des $n$-uplets $(x_1, ..., x_n)$ où les $x_i$ prennent chacun la valeur $g$ ou $f$.\n",
    " On munit l'univers $\\Omega$ de la probabilité uniforme : le cardinal de l'univers est $|\\Omega| = 2^n$ et toutes les issues ont même probabilité $1/2^n$.\n",
    " \n",
    " On définit les événements suivants :\n",
    "  * $C = $ \"il n'y a que des garçons\" (et on remarque $C = \\{(g,g,...,g)\\}$ donc $|C| = 1$ donc $\\P C = 1/|\\Omega| = 1/2^n$);\n",
    "  * $D =$ \"il y a une et une seule fille\" (et $D = \\{ (f,g, ..., g), (g, f, g, ..., g), ..., (g, ..., g, f) \\}$ donc $|D| = n$ et donc $\\P D = n / 2^n$);\n",
    "  * $F =$ \"il y a au moins une fille\" (et on remarque $\\non F = $ \"il n'y a pas de filles\" donc  $\\non F = C$ c'est-à-dire $F = \\non C$ donc $\\P F = 1 - \\P C = \\frac{2^n - 1}{2^n}$);\n",
    "  * $G = $ \"il y a au moins un garçon\" (et par symétrie $\\P G = \\P F = \\frac{2^n - 1}{2^n}$).\n",
    "\n",
    "On peut utiliser ces événements pour récrire $A$ et $B$ :\n",
    "$$A = F \\cap G$$\n",
    "$$B = D \\cup C$$\n",
    "\n",
    "On a $A = F \\cap G $ et on cherche la probabilité de $A$. Or on ne dispose pas de formule pour la probabilité d'une intersection. Par contre, on dispose d'une formule pour la probabilité d'une union. On va donc essayer d'écrire $A$ avec une union :\n",
    "$$\\non A = \\non {F \\cap G} = \\non F \\cup \\non G$$\n",
    "donc \n",
    "$$\\P {\\non A} = \\P {\\non F} + \\P {\\non G} - \\P {\\non F \\cap \\non G}$$\n",
    "$$\\P A = 1 - \\P {\\non A}$$\n",
    "$$\\P A = 1 - \\P {\\non F} - \\P {\\non G} + \\P {\\non F \\cap \\non G}$$\n",
    "$$\\P A = 1 - \\frac{1}{2^n} - \\frac{1}{2^n} + 0$$\n",
    "$$\\P A = 1 - \\frac{1}{2^{n-1}} = \\frac{2^{n-1}-1}{2^{n-1}}$$\n",
    "\n",
    "On calcule maintenant $\\P B$. On sait que $B = D \\cup C$.\n",
    "$$\\P B = \\P D + \\P C - \\P {D \\cap C}$$\n",
    "$$\\P B = \\frac{n}{2^n} + \\frac{1}{2^n} - 0$$\n",
    "$$\\P B = \\frac{n + 1}{2^n}$$\n",
    "\n",
    "Donc $$\\P A \\P B = \\frac{(2^{n-1}-1)}{2^{n-1}}\\frac{(n + 1)}{2^n}$$\n",
    "\n",
    "On s'intéresse désormais à l'événement $A \\cap B =$ \"il y a au moins une fille et un garçon et il y a au plus une fille\" $= D$.\n",
    "\n",
    "Donc $$\\P {A \\cap B} = \\P D = \\frac{n}{2^n}$$\n",
    "\n",
    "On veut comparer $\\P A \\P B$ et $\\P {A \\cap B}$. On va donc calculer la différence $\\Delta$ ; les événements $A$ et $B$ sont indépendants si et seulement si $\\Delta = 0$.\n",
    "$$\\Delta = \\P A \\P B - \\P {A \\cap B}$$\n",
    "$$\\Delta = \\frac{(2^{n-1}-1)(n + 1) - n 2^{n-1}}{2^{2n - 1}}$$\n",
    "$$\\Delta = \\frac{n 2^{n-1} + 2^{n-1} - n - 1 - n 2^{n-1} }{2^{2n - 1}}$$\n",
    "$$\\Delta = \\frac{2^{n-1} - n - 1}{2^{2n - 1}}$$\n",
    "\n",
    " * Donc $\\Delta > 0$ dès que $n \\geq 4$. Donc $A$ et $B$ ne sont pas indépendants dès que $n \\neq 4$.\n",
    " * Dans le cas $n = 2$, $\\Delta < 0$ donc $A$ et $B$ ne sont pas indépendants.\n",
    " * Dans le cas $n = 3$, $\\Delta = 0$ donc $A$ et $B$ sont indépendants."
   ]
  },
  {
   "cell_type": "markdown",
   "metadata": {},
   "source": [
    "### Exercice 9\n",
    "\n",
    " On vous présente un homme. Au cours de la conversation, vous\n",
    "  apprenez qu'il a deux enfants, dont au moins une fille.\n",
    "  \n",
    "1. Quelle est la probabilité qu'il ait deux filles ? Justifier en introduisant un espace de probabilité et des événements convenables.\n",
    "  \n",
    "2. Vous apprenez que l'aîné est une fille. Comment change la probabilité qu'il ait deux filles ?"
   ]
  },
  {
   "cell_type": "markdown",
   "metadata": {},
   "source": [
    ".."
   ]
  },
  {
   "cell_type": "markdown",
   "metadata": {},
   "source": [
    "### Exercice 10 (les malades imaginaires de Bayes)\n",
    "\n",
    "Une maladie touche une personne sur 10000. Un laboratoire pharmaceutique a mis au point un test de dépistage, et il annonce les résultats suivants :\n",
    " * si une personne porteuse de la maladie passe le test, celui-ci est positif à 99%.\n",
    " * si une personne saine passe le test, celui-ci est négatif à 99,9%.\n",
    "\n",
    "1. Calculer la probabilité que le test soit positif pour une personne saine. C'est ce qu'on appelle le taux de faux positifs.\n",
    "\n",
    "2. Calculer la probabilité que le test soit négatif pour une personne porteuse de la maladie.\n",
    "\n",
    "3. Calculer la probabilité qu'une personne dont le test est positif soit porteuse de la maladie.\n",
    "\n",
    "4. Le test est-il fiable ?"
   ]
  },
  {
   "cell_type": "code",
   "execution_count": null,
   "metadata": {},
   "outputs": [],
   "source": []
  }
 ],
 "metadata": {
  "kernelspec": {
   "display_name": "Python 3",
   "language": "python",
   "name": "python3"
  },
  "language_info": {
   "codemirror_mode": {
    "name": "ipython",
    "version": 3
   },
   "file_extension": ".py",
   "mimetype": "text/x-python",
   "name": "python",
   "nbconvert_exporter": "python",
   "pygments_lexer": "ipython3",
   "version": "3.9.1"
  }
 },
 "nbformat": 4,
 "nbformat_minor": 4
}
