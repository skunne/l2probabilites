{
 "cells": [
  {
   "cell_type": "markdown",
   "metadata": {},
   "source": [
    "# Probabilités pour les sciences exactes\n",
    "\n",
    "## TD5 - Feuille 2 - Conditionnement, indépendance\n",
    "\n",
    "*Les documents des semaines précédentes et d'aujourd'hui sont disponibles à l'adresse :\n",
    "https://github.com/skunne/l2probabilites .*\n",
    "\n",
    "$\\newcommand{\\N}{\\mathbb{N}}$\n",
    "$\\newcommand{\\P}[1]{\\mathbb{P}\\left( #1 \\right)}$\n",
    "$\\newcommand{\\c}[2]{{#1 \\choose #2}}$\n",
    "$\\newcommand{\\non}[1]{\\overline{#1}}$"
   ]
  },
  {
   "cell_type": "markdown",
   "metadata": {},
   "source": [
    "## Exercices de préparation"
   ]
  },
  {
   "cell_type": "markdown",
   "metadata": {},
   "source": [
    "### Exercice 1\n",
    "\n",
    "On lance trois fois de suite un dé à six faces supposé équitable. Quelle est la probabilité d’obtenir\n",
    "au moins un 1 ? Comment évolue cette probabilité si on lance six fois le dé ?\n",
    "\n",
    "Si l’on n’a pas tiré le 1 lors des trois premiers lancers, quelle est la probabilité de l’obtenir lors des trois\n",
    "derniers ?"
   ]
  },
  {
   "cell_type": "markdown",
   "metadata": {},
   "source": [
    "**Solution**\n",
    "\n",
    "**1.**\n",
    "On commence par définir l'univers :\n",
    "$$\\Omega = \\{ (1, 1, 1), (1, 1, 2), ..., (6, 6, 6) \\}$$\n",
    "$$\\Omega = \\{ (x,y,z),\\, x \\in \\{ 1, 2, 3, 4, 5, 6 \\}, y \\in \\{ 1, 2, 3, 4, 5, 6 \\}, z \\in \\{ 1, 2, 3, 4, 5, 6 \\},  \\}$$\n",
    "$$\\Omega = \\{ 1, 2, 3, 4, 5, 6 \\}^3$$\n",
    "\n",
    "On munit $\\Omega$ de la probabilité uniforme: pour tout triplet, $\\P{(x,y,z)} = \\frac{1}{|\\Omega|} = \\frac{1}{6^3} = \\frac{1}{216}$.\n",
    "\n",
    "On veut calculer la probabilité de l'événement $A =$ \"on obtient au moins une fois le chiffre 1\". Pour simplifier les calculs, on va passer au complémentaire et calculer la probabilité de l'événement $\\non A$ = \"on n'obtient jamais le chiffre 1\". On en déduira $\\P A$ car on sait que $\\P A = 1 - \\P {\\non A}$."
   ]
  },
  {
   "cell_type": "markdown",
   "metadata": {},
   "source": [
    "$\\non A =$ \"on n'obtient jamais le chiffre 1 au cours des trois lancers\"\n",
    "$$\\non A = \\{ (x,y,z) \\in \\Omega \\,|\\, x \\neq 1, y \\neq 1, z \\neq 1 \\}$$\n",
    "$$\\non A = \\{ 2, 3, 4, 5, 6 \\} ^3$$\n",
    "donc :\n",
    "$$|\\non A| = 5 ^ 3$$\n",
    "donc :\n",
    "$$\\P {\\non A} = \\frac{|\\non A|}{|\\Omega|}$$\n",
    "$$\\P {\\non A} = \\frac{5^3}{6^3}$$\n",
    "$$\\P {\\non A} = \\frac{125}{216}$$\n",
    "donc :\n",
    "$$\\P A = 1 - \\P {\\non A} = 1 - \\frac{125}{216} = \\frac{91}{216} \\approx 0,42$$\n",
    "\n",
    "**2.** Si on lance un nombre $n$ fois le dé, on définit l'univers $\\Omega_n = \\{ 1,2,3,4,5,6 \\}^n$ (un ensemble de $n$-uplets) et l'événement $A_n$ = \"on n'obtient jamais le 1 parmi ces $n$ lancers\" $= \\{ 2,3,4,5,6 \\}^n$. On trouve de la même manière :\n",
    "$$\\P {A_n} = 1 - \\frac{5^n}{6^n}$$\n",
    "Dans le cas $n = 6$, on trouve\n",
    "$$\\P {A_6} = 1 - \\frac{5^6}{6^6} \\approx 0,67$$\n",
    "\n",
    "On remarque que $5/6$ est inférieur à 1, donc plus $n$ est grand, plus $1 - (\\frac{5}{6})^n$ s'approche de 1. Ce qui confirme notre intuition : plus on lance le dé, plus la probabilité d'obtenir au moins une fois le chiffre 1 est grande.\n",
    "\n",
    "**3.** On lance six fois le dé. Si l'on n'a pas tiré le 1 lors des trois premiers lancers, quelle est la probabilité de l'obtenir au moins une fois lors des trois derniers lancers ?\n",
    "\n",
    "Intuitivement, ces deux événements \"lors des trois premiers lancers on n'obtient pas le 1\" et \"lors des trois derniers lancers, on obtient au moins une fois le 1\" sont indépendants.\n",
    "\n",
    "On pose l'univers $\\Omega_6 = \\{ 1, 2, 3, 4, 5, 6 \\} ^6$. On considère les deux événements :\n",
    "$$B = \\{ (x_1, x_2, x_3, x_4, x_5, x_6) \\in \\Omega \\,|\\, x_1 \\neq 1, x_2\\neq 1, x_3 \\neq 1 \\}$$\n",
    "$$C = \\{ (x_1, x_2, x_3, x_4, x_5, x_6) \\in \\Omega \\,|\\, x_4 = 1 ou x_5 = 1 ou x_6 = 1 \\}$$\n",
    "$$C = \\{ (x_1, x_2, x_3, x_4, x_5, x_6) \\in \\Omega \\,|\\, 1 \\in \\{x_4, x_5, x_6\\} \\}$$\n",
    "\n",
    "Je reformule la question : on nous demande de calculer $\\P{C | B}$. Intuitivement, $B$ et $C$ sont indépendants, donc $\\P{C | B} = \\P C = 1 - (5/6)^3$.\n",
    "\n",
    "On veut vérifier que $B$ et $C$ sont indépendants. On va donc calculer $\\P B$, $\\P C$ et $\\P {B \\cap C}$."
   ]
  },
  {
   "cell_type": "markdown",
   "metadata": {},
   "source": [
    "### Exercice 2\n",
    "\n",
    "Problème du Chevalier de Méré posé à Pascal (1654).\n",
    "\n",
    "Quel est l'évènement le plus probable :\n",
    " * obtenir au moins une fois un six en lançant quatre fois un dé;\n",
    " * ou obtenir au moins une fois un double six en lançant 24 fois deux dés ?\n",
    "\n",
    "On précisera bien l'espace $\\Omega$ dans les deux cas."
   ]
  },
  {
   "cell_type": "markdown",
   "metadata": {},
   "source": [
    "**Solution**\n",
    "\n",
    "On définit l'univers $\\Omega_1$ de la première situation : $$\\Omega_1 = \\{1, 2, 3, 4, 5, 6 \\}^4$$\n",
    "On constate que $$|\\Omega_1| = 6^4$$On munit $\\Omega_1$ de la probabilité uniforme : pour tout événement $A \\subseteq \\Omega_1$, $$\\P A = \\frac{|A|}{|\\Omega_1|}$$\n",
    "\n",
    "On définit l'univers $\\Omega_2$ correspondant à la seconde situation : on lance 24 fois deux dés. On considère l'ensemble $F = \\{ 1, 2, 3, 4, 5, 6 \\}^2$. On a alors :\n",
    "$$\\Omega_2 = F^{24}$$\n",
    "On munit $\\Omega_2$ de la probabilité uniforme : pour tout événement $B \\in \\Omega_2$,\n",
    "$$\\P B = \\frac{|B|}{|\\Omega_2|} = \\frac{|B|}{36^{24}}$$\n",
    "\n",
    "On considère l'événement $A \\subset \\Omega_1$ définit par :\n",
    "\n",
    "$A =$ \"on obtient au moins une fois un 6 au cours des quatre lancers\"\n",
    "\n",
    "Pour se simplifier les calculs, plutôt que de calculer $\\P A$ directement, on calcule d'abord la probabilité de l'événement complémentaire $\\non A =$ \"le 6 n'apparaît jamais au cours des quatre lancers\".\n",
    "$$\\non A = \\{ 1,2,3,4,5 \\}^4$$\n",
    "donc\n",
    "$$|\\non A| = 5^4$$\n",
    "donc\n",
    "$$\\P A = 1 - \\P {\\non A} = 1 - \\frac{5^4}{6^4} \\approx 0,52$$\n",
    "\n",
    "On considère maintenant l'événement $B =$ \"le double 6 apparaît au moins une fois lors des 24 doubles lancers\". Pour se simplifier les calculs on va d'abord calculer la probabilité $\\P {\\non B}$ de l'événement complémentaire $\\non B =$ \"le double 6 n'apparaît jamais au cours des 24 doubles lancers\".\n",
    "\n",
    "On avait définit l'ensemble $F = \\{ 1, 2, 3, 4, 5, 6 \\}^2$ qui nous a été utile pour décrire $\\Omega_2$. On définit maintenant l'ensemble $G = F \\setminus \\{(6,6)\\}$.\n",
    "$$\\non B = G ^ {24}$$\n",
    "$$|\\non B| = |G|^{24} = 35^{24}$$\n",
    "$$\\P {\\non B} = \\frac{|\\non B|}{|\\Omega_2|} = \\left(\\frac{35}{36} \\right)^{24}$$\n",
    "donc :\n",
    "$$\\P B = 1 - \\P{\\non B} = 1 - \\left(\\frac{35}{36} \\right)^{24} \\approx 0,49$$"
   ]
  },
  {
   "cell_type": "markdown",
   "metadata": {},
   "source": [
    "### Exercice 3\n",
    "\n",
    "Soient $A$ et $B$ deux événements tels que\n",
    "$$ P(A) = 0,3; \\quad P(B) = 0,2; \\quad P(A\\cap B) = 0,1. $$\n",
    "Calculer la probabilité que ni $A$ ni $B$ ne se réalisent."
   ]
  },
  {
   "cell_type": "markdown",
   "metadata": {},
   "source": [
    "**Solution**\n",
    "\n",
    "On s'intéresse à l'événement $C = $ \"ni $A$ ni $B$ ne se réalisent\".\n",
    "\n",
    "$C =$ \"$A$ ne se réalise pas et $B$ ne se réalise pas\"\n",
    "\n",
    "$C =$ \"$A$ ne se réalise pas\" $\\cap$ \"$B$ ne se réalise pas\"\n",
    "\n",
    "$$C = \\non A \\cap \\non B$$\n",
    "$$C = \\non {A \\cup B}$$\n",
    "Une autre manière d'arriver à ces deux formules aurait été de dessiner un diagramme de Wenn.\n",
    "\n",
    "On veut calculer $\\P C$. On va utiliser l'écriture $C = \\non {A \\cup B}$. De cette écriture on déduit :\n",
    "$$\\P C = 1 - \\P {A \\cup B}$$\n",
    "$$\\P C = 1 - (\\P A + \\P B - \\P{A \\cap B})$$\n",
    "$$\\P C = 1 - (0,3 + 0,2 - 0,1) = 0,6$$"
   ]
  },
  {
   "cell_type": "markdown",
   "metadata": {},
   "source": [
    "## Exercices traités en cours de travaux dirigés"
   ]
  },
  {
   "cell_type": "markdown",
   "metadata": {},
   "source": [
    ".."
   ]
  },
  {
   "cell_type": "markdown",
   "metadata": {},
   "source": [
    "### Exercice 4\n",
    "Montrer qu'une condition nécessaire et suffisante pour que deux événements $A$ et $B$ soient indépendants est que :\n",
    "$$\\P{A \\cap B} \\P{\\overline{A} \\cap \\overline{B}} = \\P{A \\cap \\overline{B}}\\P{\\overline{A} \\cap B}$$\n",
    "\n",
    "\n",
    "**Solution**\n",
    "\n",
    "On rappelle la définition de l'indépendance : deux événements $A$ et $B$ sont indépendants si et seulement si\n",
    "$$\\P {A \\cap B} = \\P A \\P B$$\n",
    "\n",
    "On va essayer de récrire chaque facteur de l'égalité $\\P{A \\cap B} \\P{\\overline{A} \\cap \\overline{B}} = \\P{A \\cap \\overline{B}}\\P{\\overline{A} \\cap B}$ en fonction des trois quantités $\\P {A \\cap B}$, $\\P A$ et $\\P B$.\n",
    "\n",
    "**1.**\n",
    "$$\\P{\\non A \\cap \\non B} = 1 - \\P{A \\cup B} = 1 - (\\P A + \\P B - \\P{A \\cap B})$$\n",
    "**2.**\n",
    "On utilise la formule $A = (A \\cap B) \\cup (A \\cap \\non B)$. L'union est disjointe donc $\\P A = \\P{A \\cap B} + \\P{A \\cap \\non B}$.\n",
    "$$\\P{A \\cap \\overline{B}} = \\P A - \\P{A \\cap B}$$\n",
    "**3.**\n",
    "De la même manière,\n",
    "$$\\P{\\non A \\cap B} = \\P B - \\P{A \\cap B}$$\n",
    "\n",
    "On peut maintenant développer les deux produits :\n",
    "\n",
    "à gauche,\n",
    "$$\\P{A \\cap B} \\P{\\overline{A} \\cap \\overline{B}} = \\P{A \\cap B}(1 - (\\P A + \\P B - \\P{A \\cap B}))$$\n",
    "$$\\P{A \\cap B} \\P{\\overline{A} \\cap \\overline{B}} = \\P{A \\cap B} - \\P A \\P{A \\cap B} - \\P B \\P{A \\cap B} + \\P{A \\cap B}^2$$\n",
    "\n",
    "à droite,\n",
    "$$\\P{A \\cap \\overline{B}}\\P{\\overline{A} \\cap B} = (\\P A - \\P{A \\cap B})(\\P B - \\P{A \\cap B})$$\n",
    "$$\\P{A \\cap \\overline{B}}\\P{\\overline{A} \\cap B} = \\P A \\P B - \\P A \\P{A \\cap B} - \\P B \\P{A \\cap B} + \\P{A \\cap B}^2$$\n",
    "\n",
    "On peut récrire toute l'égalité :\n",
    "$\\P{A \\cap B} \\P{\\overline{A} \\cap \\overline{B}} = \\P{A \\cap \\overline{B}}\\P{\\overline{A} \\cap B}$ si et seulement si\n",
    "$$\\P{A \\cap B} - \\P A \\P{A \\cap B} - \\P B \\P{A \\cap B} + \\P{A \\cap B}^2 = \\P A \\P B - \\P A \\P{A \\cap B} - \\P B \\P{A \\cap B} + \\P{A \\cap B}^2$$\n",
    "si et seulement si :\n",
    "$$\\P{A \\cap B}   = \\P A \\P B  $$\n",
    "On reconnaît la définition de l'indépendance de $A$ et $B$. On a donc montré que $A$ et $B$ sont indépendants si et seulement si \n",
    "$$\\P{A \\cap B} \\P{\\overline{A} \\cap \\overline{B}} = \\P{A \\cap \\overline{B}}\\P{\\overline{A} \\cap B}$$"
   ]
  },
  {
   "cell_type": "markdown",
   "metadata": {},
   "source": [
    ".."
   ]
  },
  {
   "cell_type": "markdown",
   "metadata": {},
   "source": [
    "### Exercice 5\n",
    "\n",
    "Soient $A$, $B$ et $C$ trois événements.\n",
    "\n",
    "**1.** Si $A$ et $B$ sont indépendants, que peut-on dire de $A$ et $\\non B$ ?\n",
    "\n",
    "**2.** Démontrer que $A$ est indépendant de tout événement si et seulement si $\\P A = 0$ ou $\\P A = 1$.\n",
    "\n",
    "**3.** On suppose que $A$ et $B$ sont indépendants et que $A$ et $C$ sont indépendants. Que peut-on dire de $A$ et $B \\cup C$ ?  Que peut-on dire de $A$ et $B \\cap C$ ? "
   ]
  },
  {
   "cell_type": "markdown",
   "metadata": {},
   "source": [
    "**Solution**\n",
    "\n",
    "On rappelle la définition de l'indépendance : deux événements $E$ et $F$ sont indépendants si et seulement si $$\\P A \\P B = \\P{A \\cap B}$$\n",
    "ce qui peut se récrire, dans le cas particulier où $\\P B \\neq 0$:\n",
    "$$\\P{A | B} = \\frac{\\P {A \\cap B}}{\\P B} = \\P A$$\n",
    "\n",
    "**1.** On suppose $A$ et $B$ indépendants. Pour montrer que $A$ et $\\non B$ sont indépendants, on s'intéresse à $\\P {A \\cap \\non B}$ et $\\P A \\P {\\non B}$ et on veut savoir si ces deux quantités sont forcément égales.\n",
    "\n",
    "On sait déjà que :$$\\P {A \\cap \\non B} = \\P A - \\P {A \\cap B}$$\n",
    "\n",
    "De l'autre côté on a :\n",
    "$$\\P A \\P {\\non B} = \\P A (1 - \\P {B})$$\n",
    "$$\\P A \\P {\\non B} = \\P A - \\P A \\P {B}$$\n",
    "\n",
    "On remarque que ces deux expressions se ressemblent ; plus précisément, $\\P {A \\cap B} =\\P A \\P {B}$ si et seulement si $\\P A - \\P {A \\cap B} = \\P A - \\P A \\P {B}$, c'est-à-dire si et seulement si $\\P {A \\cap \\non B} = \\P A \\P {\\non B}$.\n",
    "\n",
    "Donc $A$ et $B$ sont indépendants si et seulement si $A$ et $\\non B$ sont indépendants.\n",
    "\n",
    "On en déduit également :\n",
    " *  $A$ et $B$ sont indépendants si et seulement si $\\non A$ et $B$ sont indépendants\n",
    " *  $A$ et $B$ sont indépendants si et seulement si $\\non A$ et $\\non B$ sont indépendants"
   ]
  },
  {
   "cell_type": "markdown",
   "metadata": {},
   "source": [
    "**2.**\n",
    "On veut démontrer une équivalence. Il y a deux sens d'implication à montrer.\n",
    "\n",
    "**Premier sens d'implication.** On commence par supposer que $\\P A = 0$ ou $\\P A = 1$. On distingue deux cas.\n",
    "\n",
    "**Premier cas.** On commence par supposer $\\P A = 0$. On veut montrer que $A$ est indépendant de tout événement. Soit $B$ un événement. On va montrer que $A$ est indépendant de $B$. On veut donc montrer $\\P{A \\cap B} = \\P A \\P B$. On a supposé que $\\P A = 0$. On en déduit que $\\P A \\P B = 0$. Il nous suffit donc de montrer que $\\P{A \\cap B} = 0$. Or on sait que $A \\cap B \\subseteq A$. Donc  $0 \\leq \\P{A \\cap B} \\leq \\P A = 0$ ; donc $\\P{A \\cap B} = 0$. Donc $\\P{A \\cap B} = \\P A \\P B$, c'est-à-dire $A$ et $B$ sont indépendants, dans ce cas.\n",
    "\n"
   ]
  },
  {
   "cell_type": "markdown",
   "metadata": {},
   "source": [
    "**Deuxième cas.** On suppose $\\P A = 1$. Donc $\\P {\\non A} = 1 - \\P A = 0$. On vient justement de montrer (premier cas) que si la probabilité d'un événement, par exemple $\\non A$, est zéro, alors cet événément est indépendant de tout événement. Donc $\\non A$ est indépendant de tout événement. Donc, d'après le résultat du (1), $A$ est indépendant de tout événement."
   ]
  },
  {
   "cell_type": "markdown",
   "metadata": {},
   "source": [
    "**Deuxième sens d'implication.** on suppose désormais que $A$ est indépendant de tout événement. On veut montrer qu'alors $\\P A = 0$ ou $\\P A = 1$.\n",
    "\n",
    "On sait par hypothèse que pour n'importe quel événement $B$, on aura :\n",
    "$$\\P{A \\cap B} = \\P A \\P B$$\n",
    "\n",
    "On cherche un événement $B$ particulier pour que de cette formule on puisse déduire $\\P A = 0$ ou $\\P A = 1$.\n",
    "\n",
    "En particulier, avec $B = \\non A$, la formule devient :\n",
    "$$\\P {A \\cap \\non A} = \\P A \\P {\\non A}$$\n",
    "$$\\P {\\emptyset} = \\P A (1 - \\P A)$$\n",
    "$$0 = \\P A (1 - \\P A)$$\n",
    "\n",
    "On a ici un produit de deux facteurs qui est égal à zéro. On en déduit que l'un des deux facteurs est nul. C'est-à-dire : $\\P A = 0$ ou $(1 - \\P A) = 0$, c'est-à-dire $\\P A = 0$ ou $\\P A = 1$.\n",
    "\n",
    "On a ainsi démontré les deux sens de l'équivalence : un événement $A$ est indépendant de tout événement si et seulement si $\\P A = 0$ ou $\\P A = 1$ (c'est-à-dire $A$ ne se produit jamais ou $A$ se produit toujours)."
   ]
  },
  {
   "cell_type": "markdown",
   "metadata": {},
   "source": [
    "**3.** Attention, on distingue les deux assertions suivantes qui ne sont pas équivalentes :\n",
    " * $A$, $B$, $C$ forment une famille indépendante\n",
    " * $A$, $B$ et $C$ sont deux-à-deux indépendants\n",
    "\n",
    "\n",
    "On suppose que $A$ et $B$ sont indépendants et que $A$ et $C$ sont indépendants. Que peut-on dire de $A$ et $B \\cup C$ ?  Que peut-on dire de $A$ et $B \\cap C$ ? \n",
    "\n",
    "Pour montrer $A$ et $E = B \\cup C$ sont indépendants, on voudrait montrer la formule :\n",
    "$$\\P {A \\cap E} = \\P A \\P E $$\n",
    "$$\\P {A \\cap (B \\cup C)} = \\P A (\\P B + \\P C - \\P {B \\cap C})$$\n",
    "... on ne sait pas comment continuer cette démonstration.\n",
    "\n",
    "On va essayer de construire un contre-exemple.\n",
    "\n",
    "On considère un lancer de deux dés. On pose donc l'univers $\\Omega = \\{ 1,2,3,4,5,6\\}^2$ muni de la probabilité uniforme.\n",
    "\n",
    "On considère trois événements :\n",
    " * $A = $ \"le premier dé tombe sur la face 1\"\n",
    " * $B = $ \"le deuxième dé tombe sur une face paire\"\n",
    " * $C = $ \"les deux dés sont égaux (on a fait un double)\"\n",
    " \n",
    " \n",
    "**Exercice pour lundi prochain :**\n",
    " On vérifie que :\n",
    "  * $A$ et $B$ sont indépendants, c'est-à-dire $\\P A \\P B = \\P {A \\cap B}$\n",
    "  * $A$ et $C$ sont indépendants, c'est-à-dire $\\P A \\P C = \\P {A \\cap C}$\n",
    "  * $A$ et $B \\cup C$ ne sont pas indépendants, c'est-à-dire ??\n",
    "  * $A$ et $B \\cap C$ ne sont pas indépendants, c'est-à-dire ??\n",
    "  \n",
    "Si c'est faux : modifier légèrement les événements $A$, $B$, et $C$ pour trouver un bon contre-exemple."
   ]
  },
  {
   "cell_type": "markdown",
   "metadata": {},
   "source": [
    "### Exercice 6 (indépendance à trois)\n",
    "\n",
    "On place quatre billets dans un chapeau, portant les numéros : 112, 121, 211, 222; on tire un billet au hasard et on considère les évènements :\n",
    "* $A_1 $: le chiffre 1 occupe la première place du numéro tiré;\n",
    "* $A_2$: le chiffre 1 occupe la deuxième place du numéro tiré;\n",
    "* $A_3$: le chiffre 1 occupe la troisième place du numéro tiré. \n",
    "\n",
    "Vérifier que  les trois événements $A_1$, $A_2$ et $A_3$ sont deux-à-deux indépendants, mais ne forment pas une famille indépendante, car  $A_1$ et $A_2 \\cap A_3$ ne sont pas indépendants."
   ]
  },
  {
   "cell_type": "markdown",
   "metadata": {},
   "source": [
    ".."
   ]
  },
  {
   "cell_type": "markdown",
   "metadata": {},
   "source": [
    "### Exercice 7 (le lapin)\n",
    "\n",
    "Paul attend Virginie qui lui a dit qu'il y avait une chance sur deux pour\n",
    "que ses parents l'autorisent à sortir. Pour se rendre au rendez-vous, Virginie peut\n",
    "soit prendre l'autobus, soit utiliser son vélo, en aucun cas prendre le bateau.\n",
    "Paul, qui connait bien Virginie, admet qu'il y a une chance sur quatre pour qu'elle\n",
    "prenne l'autobus.\n",
    "\n",
    "L'autobus arrive, Virginie ne s'y trouve pas.  Quelle est la\n",
    "probabilité pour qu'elle vienne au rendez-vous ?"
   ]
  },
  {
   "cell_type": "markdown",
   "metadata": {},
   "source": [
    ".."
   ]
  },
  {
   "cell_type": "markdown",
   "metadata": {},
   "source": [
    "### Exercice 8\n",
    "\n",
    "Quelles sont les probabilités que, parmi les familles à $n$ enfants,\n",
    "$n \\geq 2$, une famille soit constituée d'enfants des deux sexes\n",
    "(événement $A$), puis de garçons et d'au plus une fille (événement\n",
    "$B$)? Construire un modèle et calculer $\\P(A \\cap B)$; \n",
    "comparer cette quantité à $\\P(A)\\P(B)$."
   ]
  },
  {
   "cell_type": "markdown",
   "metadata": {},
   "source": [
    ".."
   ]
  },
  {
   "cell_type": "markdown",
   "metadata": {},
   "source": [
    ".."
   ]
  },
  {
   "cell_type": "markdown",
   "metadata": {},
   "source": [
    ".."
   ]
  },
  {
   "cell_type": "markdown",
   "metadata": {},
   "source": [
    ".."
   ]
  }
 ],
 "metadata": {
  "kernelspec": {
   "display_name": "Python 3",
   "language": "python",
   "name": "python3"
  },
  "language_info": {
   "codemirror_mode": {
    "name": "ipython",
    "version": 3
   },
   "file_extension": ".py",
   "mimetype": "text/x-python",
   "name": "python",
   "nbconvert_exporter": "python",
   "pygments_lexer": "ipython3",
   "version": "3.9.1"
  }
 },
 "nbformat": 4,
 "nbformat_minor": 4
}
