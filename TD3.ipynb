{
 "cells": [
  {
   "cell_type": "markdown",
   "metadata": {},
   "source": [
    "# Probabilités pour les sciences exactes\n",
    "\n",
    "## TD3 - Feuille 1 - Ensembles, dénombrements, combinatoire\n",
    "\n",
    "*Les documents des semaines précédentes et d'aujourd'hui sont disponibles à l'adresse :\n",
    "https://github.com/skunne/l2probabilites .*\n",
    "\n",
    "$\\newcommand{\\N}{\\mathbb{N}}$\n",
    "$\\newcommand{\\P}[1]{\\mathbb{P}\\left( #1 \\right)}$\n",
    "$\\newcommand{\\c}[2]{{#1 \\choose #2}}$"
   ]
  },
  {
   "cell_type": "markdown",
   "metadata": {},
   "source": [
    "### Exercice 8\n",
    "\n",
    "On jette deux fois un dé équilibré et l'on considère les événements\n",
    "  suivants :\n",
    "  \n",
    "* $E =$ \"la somme des points est paire\" ;\n",
    "* $F =$ \"le 3 est obtenu au moins une fois\".\n",
    "\n",
    "1. Quel est l'ensemble $\\Omega$ de tous les issues possibles?\n",
    "2. Le jet d'un dé équilibré relève du langage codé: comment veut-on que vous le traduisiez?\n",
    "3. Calculer la probabilité des événements $E$ et $F$.\n",
    "4. Calculer la probabilité des événements $E \\cap F$, $E \\cup F$, $E \\cap \\bar F$, $(E \\cap \\bar F) \\cup \\bar E$, après en avoir précisé la signification."
   ]
  },
  {
   "cell_type": "markdown",
   "metadata": {},
   "source": [
    "**1.** On définit l'ensemble $\\Omega$ :\n",
    "$$\\Omega = \\{ (1,1), (1,2), ..., (2, 1), (2, 2), ..., (6, 6) \\}$$\n",
    "$$\\Omega = \\{ 1, ..., 6 \\} \\times \\{ 1, ..., 6 \\}$$\n",
    "$$\\Omega = \\{ 1, ..., 6 \\} ^ 2$$\n",
    "\n",
    "**2.** Toutes les issues sont équiprobables : lorsqu'on lance un dé, la probabilité de tomber sur chaque face est $1/6$. De même chaque issue, c'est-à-dire chaque élément de $\\Omega$, est équiprobable : $|\\Omega| = 36$, donc chaque issue a probabilité $1/36$.\n",
    "\n",
    "Donc la probabilité d'un événement $A \\subseteq \\Omega$ est :\n",
    "$$\\mathbb{P} (A) = \\frac{|A|}{|\\Omega|}$$"
   ]
  },
  {
   "cell_type": "markdown",
   "metadata": {},
   "source": [
    "**3.** $E =$ \"La somme des deux dés est paire\";\n",
    "\n",
    "$E =$ \"Les deux dés ont la même parité\";\n",
    "\n",
    "$E = $ \"Les deux dés sont pairs\" $\\cup$ \"Les deux dés sont impairs\".\n",
    "\n",
    "On pose $E_0=$ \"les deux dés sont pairs\" et $E_1 =$ \"les deux dés sont impairs\". On a donc :\n",
    "$$E_0 = \\{ 2, 4, 6 \\} ^ 2$$\n",
    "$$E_1 = \\{ 1, 3, 5 \\} ^ 2$$\n",
    "$$|E_0| = 3\\times 3 = 9$$\n",
    "$$|E_1| = 3\\times 3 = 9$$\n",
    "Donc :\n",
    "$$|E| = |E_0| + |E_1| (-|E_0 \\cap E_1|)$$\n",
    "$$|E| = 9 + 9 = 18$$\n",
    "$$\\mathbb{P} (E) = 18 / 36 = 1/2$$"
   ]
  },
  {
   "cell_type": "markdown",
   "metadata": {},
   "source": [
    "**Première méthode pour calculer $\\mathbb{P} (F)$ :**\n",
    "\n",
    "On écrit $F = \\Omega \\setminus \\bar F$. Avec $\\bar F =$ \"on n'obtient jamais le 3\" = \"on obtient 1,2,4,5 ou 6 au premier lancer et 1,2,4,5 ou 6 au second lancer\".\n",
    "\n",
    "Donc :\n",
    "$$\\bar F = \\{ 1,2,4,5,6 \\} \\times \\{ 1,2,4,5,6 \\}$$\n",
    "\n",
    "Donc $|\\bar F| = 5 \\times 5 = 25$. Donc $\\mathbb{P} ({\\bar F}) = 25/36$.\n",
    "\n",
    "Donc $$\\mathbb{P} ({\\bar F}) = (5/6)^2 = 25/36$$\n",
    "Donc $$\\mathbb{P} (F) = 1 - \\mathbb{P} ({\\bar F}) = 1 - 25/36 = 11 / 36$$\n",
    "\n",
    "**Deuxième méthode :**\n",
    "\n",
    "On écrit $F =$ \"le 3 est obtenu au premier lancer\" $\\cup$ \"le 3 est obtenu au deuxième lancer\". On sait que le cardinal d'une union c'est la somme des cardinaux moins le cardinal de l'intersection. Donc :\n",
    "$$|F| = 6 + 6 - 1 = 11$$\n",
    "Donc :\n",
    "$$\\mathbb{P} (F) = |F|/|\\Omega| = 11/36$$"
   ]
  },
  {
   "cell_type": "markdown",
   "metadata": {},
   "source": [
    "### $E \\cap F$\n",
    "\n",
    "$E \\cap F =$ \"la somme est paire\" $\\cap$ \"le 3 est obtenu au moins une fois\"\n",
    "\n",
    "$E \\cap F =$ (\"les deux dés sont pairs\" $\\cup$ \"les deux dés sont impairs\") $\\cap$ \"3 obtenu au moins une fois\"\n",
    "\n",
    "$E \\cap F = $ (\"les deux dés sont pairs\" $\\cap$ \"3 obtenu au moins une fois\") $\\cup$ (\"les deux dés sont impairs\" $\\cap$ \"3 obtenu au moins une fois\")\n",
    "\n",
    "$E \\cap F = $ \"les deux dés sont impairs\" $\\cap$ \"3 obtenu au moins une fois\"\n",
    "\n",
    "$E \\cap F = $ (\"les deux dés sont impairs\" $\\cap$ \"3 obtenu au premier lancer\") $\\cup$ (\"les deux dés sont impairs\" $\\cap$ \"3 obtenu au second lancer\")\n",
    "\n",
    "On calcule le cardinal de cette union :\n",
    "$$|E \\cap F| = 3 + 3 - 1 = 5$$\n",
    "$$\\mathbb{P} ({E \\cap F}) = 5/36$$"
   ]
  },
  {
   "cell_type": "markdown",
   "metadata": {},
   "source": [
    "### $E \\cup F$\n",
    "\n",
    "$$|E \\cup F| = |E| + |F| - |E \\cap F|$$\n",
    "$$|E \\cup F| = 18 + 11 - 5 = 24$$\n",
    "$$\\mathbb{P} ({E \\cup F}) = 24/36 = 4/6 = 2/3$$"
   ]
  },
  {
   "cell_type": "markdown",
   "metadata": {},
   "source": [
    "### $E \\cap \\bar F$\n",
    "\n",
    "$E \\cap \\bar F = E \\setminus F = $ \"les somme des dés est paire\" $\\cap$ \"le 3 n'est jamais obtenu\"\n",
    "\n",
    "$E \\cap \\bar F = $ (\"les deux dés sont pairs\" $\\cap$ \"le 3 n'est jamais obtenu\") $\\cup$ (\"les deux dés sont impairs\" $\\cap$ \"le 3 n'est jamais obtenu\")\n",
    "\n",
    "Or \"les deux dés sont pairs\"  $\\subseteq$  \"le 3 n'est jamais obtenu\", donc (\"les deux dés sont pairs\" $\\cap$ \"le 3 n'est jamais obtenu\") = \"les deux dés sont pairs\".\n",
    "\n",
    "De plus (\"les deux dés sont impairs\" $\\cap$ \"le 3 n'est jamais obtenu\") $= \\{ 1, 5 \\} \\times \\{ 1, 5 \\} $\n",
    "\n",
    "Donc :\n",
    "$$E \\cap \\bar F = E_1 \\cup (\\{ 1, 5 \\} \\times \\{ 1, 5 \\}) $$\n",
    "Donc on peut calculer le cardinal de cette union :\n",
    "$$|E \\cap \\bar F| = |E_1| + |\\{1,5\\}^2| - |E_1 \\cap \\{1,5\\}^2|$$\n",
    "$$|E \\cap \\bar F| = 9 + 4 - 0 = 13$$\n",
    "Donc $$\\mathbb{P} ({E \\cap \\bar F}) = 13/36$$"
   ]
  },
  {
   "cell_type": "markdown",
   "metadata": {},
   "source": [
    "### $(E \\cap \\bar F) \\cup \\bar E$\n",
    "\n",
    "On remarque que $\\bar E =$ \"les deux dés ont parité différente\" = \"le premier dé est pair et le second impair OU le premier dé est impair et le second pair\".\n",
    "\n",
    "$(E \\cap \\bar F) \\cup \\bar E = (E \\cap \\bar F) \\cup$ \"le premier dé est pair et le second impair\" $\\cup$ \"le premier dé est impair et le second pair\".\n",
    "\n",
    "Cette union est disjointe donc le cardinal de l'union est simplement la somme des cardinaux.\n",
    "\n",
    "$|(E \\cap \\bar F) \\cup \\bar E| = |(E \\cap \\bar F)| + |$\"le premier est pair et second impair\"$| + |$\"premier impair et second pair\"$|$\n",
    "$$|(E \\cap \\bar F) \\cup \\bar E| =13 + 9 + 9 = 31$$\n",
    "$$\\mathbb{P} ({(E \\cap \\bar F) \\cup \\bar E}) = 31/36$$"
   ]
  },
  {
   "cell_type": "markdown",
   "metadata": {},
   "source": [
    "## Exercice 9\n",
    "\n",
    "Une urne contient 2 boules blanches et 4 boules noires. On extrait successivement et au hasard toutes les boules. Quelle est la probabilité pour que toutes les boules blanches soient extraites lors des 4 premiers tirages ?"
   ]
  },
  {
   "cell_type": "markdown",
   "metadata": {},
   "source": [
    "**Première méthode**\n",
    "\n",
    "Le problème revient à choisir deux boules qui correspondront aux tirages 5 et 6 (et donc qui ne seront pas extraites lors des 4 premiers tirages).\n",
    "\n",
    "Il y a ${6 \\choose 2}$ manières de choisir ces deux boules pour les deux derniers tirages. Toutes ces manières sont équiprobables. On veut que toutes les boules blanches soient extraites lors des 4 premiers tirages, c'est-à-dire qu'il n'y ait que des boules noires pour les deux derniers tirages. Il y a ${4 \\choose 2}$ manières de choisir 2 boules noires parmi les 4 boules noires.\n",
    "\n",
    "Donc finalement, la probabilité d'extraire toutes les boules blanches lors des 4 premiers tirages, c'est-à-dire la probabilité de n'avoir que des boules noires lors des deux derniers tirages, est :\n",
    "$$\\frac{{4 \\choose 2}}{{6 \\choose 2}} = \\frac{6}{15} = \\frac{2}{5}$$\n",
    "\n",
    "Remarque : au lieu de s'intéresser aux deux boules des tirages 5 et 6, on pourrait s'intéresser aux 4 boules des tirages 1,2,3,4. On veut extraire les deux boules blanches, et 2 boules noires parmis les 4. Il y a donc ${2 \\choose 2} \\times {4 \\choose 2} = 6$ manières de choisir ces 4 boules en extrayant les deux boules blanches.\n",
    "\n",
    "Pour le dénominateur, on remarque qu'il y a autant de manières de choisir les 4 premières boules que de manières de choisir les 2 dernières boules : ${6 \\choose 4} = {6 \\choose 2}$. De manière générale :\n",
    "$${n \\choose k} = {n \\choose n-k}$$\n",
    "\n",
    "**Deuxième méthode**\n",
    "\n",
    "On extraie successivement toutes les boules. Donc l'univers c'est l'ensemble des suites de 6 couleurs noir/blanc. Donner une issue, c'est donner une suite \"blanc,noir,noir,blanc,noir,noir\". C'est dire pour chaque position de 1 à 6 si elle est blanche ou noire. Celà revient à choisir deux chiffres blancs entre 1 et 6, donc choisir une partie de cardinal 2 de $\\{1,2,3,4,5,6\\}$. Une issue est un ensemble à deux éléments qui sont les numéros des deux boules blanches.\n",
    "\n",
    "On écrit donc l'univers $\\Omega$ :\n",
    "$$\\Omega = \\{ W \\subseteq \\{1,2,3,4,5,6\\} \\,|\\, |W| = 2 \\}$$\n",
    "\n",
    "On munit $\\Omega$ de la loi de probabilités uniforme, c'est-à-dire que toutes les issues sont équiprobables. Comme $|\\Omega| = {6 \\choose 2} = 15$, pour tout événément $E$, on aura $\\mathbb{P} (E) = |E| / 15$.\n",
    "\n",
    "L'événement qui nous intéresse est $E = $ \"les deux boules blanches sont extraites lors des quatre premiers tirages\". Donc :\n",
    "$$E = \\{ W \\in \\Omega \\,|\\, W \\subseteq \\{1,2,3,4\\}\\}$$\n",
    "Donc $$|E| = {4 \\choose 2} = 6$$\n",
    "$$\\mathbb{P} (E) = \\frac{{4 \\choose 2}}{{6 \\choose 2}} = \\frac{2}{5}$$"
   ]
  },
  {
   "cell_type": "markdown",
   "metadata": {},
   "source": [
    "# Coefficients binomiaux\n",
    "## Exercice 10\n",
    "\n",
    "Soit $n$ un entier.\n",
    "\n",
    "**1.** Calculer: $\\displaystyle\\sum_{k=0}^n k \\binom{n}{k}$ et $ \\displaystyle\\sum_{k=0}^n k(k-1) \\binom{n}{k}.$\n",
    "\n",
    "**2.** En déduire: $ \\displaystyle\\sum_{k=0}^n k^2 \\binom{n}{k}$."
   ]
  },
  {
   "cell_type": "markdown",
   "metadata": {},
   "source": [
    "**1.** On connait la formule du binôme :\n",
    "$$(a+b)^n = \\sum_{k=0}^{n} {n \\choose k}a^k b^{n-k}$$\n",
    "On en déduit l'identité :\n",
    "$$2 ^ n = \\sum_{k=0}^{n} {n \\choose k}$$\n",
    "On veut calculer $\\sum_{k=0}^{n} k {n \\choose k}$. On aimerait faire \"disparaître\" le facteur $k$.\n",
    "\n",
    "On remarque que si $k \\geq 1$ :\n",
    "$${n \\choose k} = \\frac{n!}{k! (n-k)!}$$\n",
    "$$= \\frac{ n \\times (n-1)! }{ k \\times (k-1)! (n-k)! }$$\n",
    "$$= \\frac{n \\times (n-1)!}{k \\times (k-1)! \\times ((n-1) - (k-1))!}$$(on vient d'utiliser $A - B = (A-1) - (B-1)$)\n",
    "$$= \\frac{n}{k} \\times \\frac{(n-1)!}{(k-1)! \\times ((n-1) - (k-1))!}$$\n",
    "$${n \\choose k} =  \\frac{n}{k} \\times {n-1 \\choose k-1}$$\n",
    "\n",
    "On injecte cette formule dans notre somme :\n",
    "$$\\sum_{k=0}^{n} k {n \\choose k} = 0 + \\sum_{k=1}^{n} k {n \\choose k}$$\n",
    "$$\\sum_{k=0}^{n} k {n \\choose k} = \\sum_{k=1}^{n} k \\frac{n}{k} \\times {n-1 \\choose k-1}$$\n",
    "$$ = n \\sum_{k=1}^{n} {n-1 \\choose k-1}$$\n",
    "On procède à un changement de variable : on remplace $k-1 = j$. DOnc : \n",
    "$$\\sum_{k=0}^{n} k {n \\choose k} = n \\times \\sum_{j = 0}^{n-1} {n-1 \\choose j}$$\n",
    "$$\\sum_{k=0}^{n} k {n \\choose k} = n \\times 2^{n-1}$$"
   ]
  },
  {
   "cell_type": "markdown",
   "metadata": {},
   "source": [
    "On veut calculer $$\\sum_{k=0}^{n} k(k-1){n \\choose k}$$\n",
    "On remarque tout de suite que les deux premiers termes de la somme sont nuls :\n",
    "$$\\sum_{k=0}^{n} k(k-1){n \\choose k} = \\sum_{k=2}^{n} k(k-1){n \\choose k}$$\n",
    "On réutilise la formule précédente :\n",
    "$${n \\choose k} = \\frac{n}{k} \\times {n-1 \\choose k-1}$$\n",
    "On réapplique la formule à ${n-1 \\choose k-1}$ : \n",
    "$${n \\choose k} = \\frac{n}{k} \\times \\frac{n-1}{k-1} \\times {n-2 \\choose k-2}$$\n",
    "\n",
    "On applique cette formule pour calculer notre somme :\n",
    "$$\\sum_{k=0}^{n} k(k-1){n \\choose k} = \\sum_{k=2}^{n} k(k-1)\\frac{n}{k} \\times \\frac{n-1}{k-1} \\times {n-2 \\choose k-2}$$\n",
    "$$= n \\times (n-1) \\times \\sum_{k=2}^{n} {n-2 \\choose k-2}$$\n",
    "\n",
    "On procède au changement de variable $j = k-2$ :\n",
    "$$= n \\times (n-1) \\times \\sum_{j=0}^{n-2} {n-2 \\choose j}$$\n",
    "$$= n \\times (n-1) \\times  2 ^{n-2}$$"
   ]
  },
  {
   "cell_type": "markdown",
   "metadata": {},
   "source": [
    "**2.** On veut en déduire $$\\sum_{k=0}^n k^2 {n \\choose k}$$\n",
    "\n",
    "On remarque :$$k^2 = k(k-1) + k$$\n",
    "\n",
    "Donc :\n",
    "$$\\sum_{k=0}^n k^2 {n \\choose k} = \\sum_{k=0}^n k(k-1) {n \\choose k} + \\sum_{k=0}^n k {n \\choose k}$$\n",
    "$$\\sum_{k=0}^n k^2 {n \\choose k} = n(n-1) 2^{n-2} + n 2^{n-1}$$\n",
    "Or $2^{n-1} = 2 \\times 2^{n-2}$, donc :\n",
    "$$= n 2^{n-2}((n-1)+2)$$\n",
    "$$\\sum_{k=0}^n k^2 {n \\choose k} = n (n+1) 2 ^{n-2}$$"
   ]
  },
  {
   "cell_type": "markdown",
   "metadata": {},
   "source": [
    "## Exercice 11\n",
    "\n",
    "Soit $n$ un entier strictement positif.\n",
    "\n",
    "**1.** Montrer que\n",
    "    $$\\binom{2n}{n}=\\displaystyle\\sum_{k=0}^n\\binom{n}{k}^2$$\n",
    "    \n",
    "(1.1). Considérer l'ensemble $E = \\{ 1, 2, ..., 2n \\}$ et ses deux sous-ensembles $E_1 = \\{ 1, 2, ..., n \\}$ et $E_2 = \\{ n+1, n+2, ..., 2n \\}$. Calculer le nombre de façons de choisir $n$ éléments dans $E$ en décomposant $E$ entre $E_1$ et $E_2$.\n",
    "\n",
    "**2.** Retrouver la relation précédente en utilisant l'identité:\n",
    "    $(1+t)^n(1+t)^n=(1+t)^{2n}$."
   ]
  },
  {
   "cell_type": "markdown",
   "metadata": {},
   "source": [
    ".."
   ]
  },
  {
   "cell_type": "markdown",
   "metadata": {},
   "source": [
    "# Pour approfondir et pour aller plus loin\n",
    "## Exercice 12\n",
    "\n",
    "1. Quelle est la probabilité pour que les boules soient tirées dans l'ordre des\n",
    "    numéros croissants?\n",
    "2. Même question avec 100 boules."
   ]
  },
  {
   "cell_type": "markdown",
   "metadata": {},
   "source": [
    ".."
   ]
  },
  {
   "cell_type": "markdown",
   "metadata": {},
   "source": [
    "## Exercice 13\n",
    "\n",
    "Lors de la finale de natation du 100 mètres papillon, on attribue à\n",
    "  chacun des 8 finalistes le numéro de sa ligne d'eau. Les lignes sont numérotées de 1\n",
    "  à 8.\n",
    "\n",
    "1. Combien y a-t-il d'arrivées possibles ?\n",
    "2. Combien y a-t-il de classements où :\n",
    "\n",
    "(a) 1 arrive avant 2\n",
    "\n",
    "(b) 1, 2, 3 arrivent dans cet ordre et consécutifs ?\n",
    "\n",
    "(c) 1, 2, 3 arrivent dans cet ordre mais non nécessairement consécutifs ?\n",
    "\n",
    "(d) Les nageurs des lignes d'eau ayant un numéro pair occupent un rang pair dans le\n",
    "      classement ?"
   ]
  },
  {
   "cell_type": "markdown",
   "metadata": {},
   "source": [
    ".."
   ]
  },
  {
   "cell_type": "markdown",
   "metadata": {},
   "source": [
    ".."
   ]
  },
  {
   "cell_type": "markdown",
   "metadata": {},
   "source": [
    ".."
   ]
  }
 ],
 "metadata": {
  "kernelspec": {
   "display_name": "Python 3",
   "language": "python",
   "name": "python3"
  },
  "language_info": {
   "codemirror_mode": {
    "name": "ipython",
    "version": 3
   },
   "file_extension": ".py",
   "mimetype": "text/x-python",
   "name": "python",
   "nbconvert_exporter": "python",
   "pygments_lexer": "ipython3",
   "version": "3.9.1"
  }
 },
 "nbformat": 4,
 "nbformat_minor": 4
}
