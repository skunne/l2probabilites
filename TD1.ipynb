{
 "cells": [
  {
   "cell_type": "markdown",
   "metadata": {},
   "source": [
    "# Probabilités pour les sciences exactes\n",
    "\n",
    "## TD1 - Feuille 1 - Ensembles, dénombrements, combinatoire"
   ]
  },
  {
   "cell_type": "markdown",
   "metadata": {},
   "source": [
    "### Avant toute chose"
   ]
  },
  {
   "cell_type": "markdown",
   "metadata": {},
   "source": [
    "Envoyer un email à stephan.kunne@univ-nantes.fr\n",
    "\n",
    "**Sujet:** X22M090\n",
    "\n",
    "**Corps du message:**\n",
    " * Nom, Prénom\n",
    " * Réponse à l'exercice 0 ci-dessous\n",
    "\n",
    "**Format de la réponse à l'exercice à votre convenance:**\n",
    "  * Papier + Stylo + Photo\n",
    "  * Texte\n",
    "  * Document latex\n",
    "  * Lien vers une page https://mathb.in\n",
    "\n",
    "### Exercice 0\n",
    "Soient $A$ et $B$ deux sous-ensembles d'un ensemble $\\Omega$.\n",
    "\n",
    "Exprimer le complémentaire dans $\\Omega$ de $A\\cup B$, noté\n",
    "    $\\overline{A\\cup B}$, \n",
    "    en fonction des complémentaires $\\overline{A}$ et $\\overline{B}$. "
   ]
  },
  {
   "cell_type": "markdown",
   "metadata": {},
   "source": [
    "**Solution**\n",
    "\n",
    "D'après la loi de De Morgan :\n",
    "$$\\overline{A \\cup B} = \\overline A \\cap \\overline B$$"
   ]
  },
  {
   "cell_type": "markdown",
   "metadata": {},
   "source": [
    "## Exercices de révision\n",
    "### Exercice 1\n",
    "\n",
    "Soient $A$, $B$ et $C$ trois sous-ensembles d'un ensemble $\\Omega$.\n",
    "\n",
    "1. Exprimer le complémentaire dans $\\Omega$ de $A\\cup B\\cup C$, noté\n",
    "    $\\overline{A\\cup B\\cup C}$, \n",
    "    en fonction des complémentaires $\\overline{A}$, $\\overline{B}$ et $\\overline{C}$. \n",
    "    \n",
    "2. Soient $A_1$, $A_2$, ..., $A_n$ des sous-ensembles de $\\Omega$. Démontrer que:\n",
    "\n",
    "$$\\overline{\\underset{i=1}{\\overset{n}{\\cap}}A_i}=\\underset{i=1}{\\overset{n}{\\cup}}\\overline{A}_i$$"
   ]
  },
  {
   "cell_type": "markdown",
   "metadata": {},
   "source": [
    "**Solution**\n",
    "\n",
    "1. On écrit $A \\cup B \\cup C = A \\cup (B \\cup C)$.\n",
    "\n",
    "On peut donc appliquer la loi de De Morgan pour deux ensembles :\n",
    "\n",
    "$\\overline{A\\cup B\\cup C} = \\overline A \\cap \\overline{(B \\cup C)}$\n",
    "\n",
    "$\\overline{A\\cup B\\cup C} = \\overline A \\cap \\overline B \\cap \\overline C$\n",
    "\n",
    "\n",
    "2. On fait un raisonnement par récurrence.\n",
    "\n",
    "**Initialisation.** Si n = 2: on a directement le résultat par la loi de De Morgan. $\\overline{A_1 \\cap A_2} = \\overline A_1 \\cup \\overline A_2$\n",
    "\n",
    "**Hérédité.**  Soit $n$ un entier $n \\geq 2$. On suppose que $$\\overline{\\underset{i=1}{\\overset{n}{\\cap}}A_i}=\\underset{i=1}{\\overset{n}{\\cup}}\\overline{A}_i$$. On veut montrer $$\\overline{\\underset{i=1}{\\overset{n+1}{\\cap}}A_i}=\\underset{i=1}{\\overset{n+1}{\\cup}}\\overline{A}_i$$\n",
    "\n",
    "On écrit $$\\overline{\\underset{i=1}{\\overset{n+1}{\\cap}}A_i}=\\overline{(\\underset{i=1}{\\overset{n}{\\cap}}A_i) \\cap A_{n+1}}$$\n",
    "\n",
    "On applique la loi de De Morgan :\n",
    "$$\\overline{\\underset{i=1}{\\overset{n+1}{\\cap}}A_i}=\\overline{\\underset{i=1}{\\overset{n}{\\cap}}A_i} \\cup \\overline A_{n+1}$$\n",
    "\n",
    "On applique l'hypothèse de récurrence : \n",
    "$$\\overline{\\underset{i=1}{\\overset{n+1}{\\cap}}A_i}=(\\underset{i=1}{\\overset{n}{\\cup}}\\overline{A}_i)\\cup \\overline A_{n+1}$$\n",
    "$$\\overline{\\underset{i=1}{\\overset{n+1}{\\cap}}A_i}=\\underset{i=1}{\\overset{n+1}{\\cup}}\\overline{A}_i$$\n",
    "\n",
    "2. Autre méthode. On écrit :\n",
    "$$\\overline{\\underset{i=1}{\\overset{n}{\\cap}}A_i} = \\{ x \\in \\Omega | x \\notin \\underset{i=1}{\\overset{n}{\\cap}}A_i \\}$$\n",
    "\n",
    "\n",
    "Soit $x \\in \\Omega$. Alors $x \\in \\overline{\\underset{i=1}{\\overset{n}{\\cap}}A_i}$ si et seulement si $x \\notin \\underset{i=1}{\\overset{n}{\\cap}}A_i$, si et seulement si il existe un indice $i_0$ tel que $x \\notin A_{i_0}$.\n",
    "\n",
    "Or $x \\notin A_{i_0}$ si et seulement si $x \\in \\overline A_{i_0}$.\n",
    "\n",
    "Or il existe un indice $i_0$ tel que $x \\in \\overline A_{i_0}$ si et seulement si $x \\in \\underset{i=1}{\\overset{n}{\\cup}} \\overline A_i$.\n",
    "\n",
    "On a ainsi montré que $x \\in \\overline{\\underset{i=1}{\\overset{n}{\\cap}}A_i}$ si et seulement si $x \\in \\underset{i=1}{\\overset{n}{\\cup}} \\overline A_i$. C'est-à-dire que ces deux ensembles sont égaux :\n",
    "$$\\overline{\\underset{i=1}{\\overset{n}{\\cap}}A_i} = \\underset{i=1}{\\overset{n}{\\cup}} \\overline A_i$$"
   ]
  },
  {
   "cell_type": "markdown",
   "metadata": {},
   "source": [
    "### Exercice 2\n",
    "\n",
    "Soient $A_1,A_2,A_3$ trois événements. Exprimer, en fonction de $A_1,A_2,A_3$ et\n",
    "  des opérations ensemblistes les événements ci-dessous et décrire les événements\n",
    "  complémentaires:\n",
    "\n",
    "0. $A_1$ se produit.\n",
    "1. $A_1$ seul se produit.\n",
    "2. $A_1$ et $A_3$ se produisent, mais non $A_2$.\n",
    "3. Les trois événements se produisent.\n",
    "4. L'un au moins des événements se produit.\n",
    "5. Deux événements au moins se produisent. (2 ou 3 événements se produisent)\n",
    "6. Un événement au plus se produit. (0 ou 1 événement se produit)\n",
    "7. Aucun des trois événements ne se produit.\n",
    "8. Exactement deux événements se produisent.\n",
    "9. Au plus deux événements se produisent."
   ]
  },
  {
   "cell_type": "markdown",
   "metadata": {},
   "source": [
    "0. $A_1$. Complémentaire : $\\overline A_1$.\n",
    "1. $A_1 \\cap \\overline A_2 \\cap \\overline A_3$. Complémentaire : $\\overline A_1 \\cup  A_2 \\cup A_3$\n",
    "2. $A_1 \\cap \\overline A_2 \\cap A_3$. Complémentaire : $\\overline A_1 \\cup  A_2 \\cup \\overline A_3$\n",
    "3. $A_1 \\cap A_2 \\cap A_3$; Complémentaire : $\\overline A_1 \\cup \\overline A_2 \\cup \\overline A_3$"
   ]
  },
  {
   "cell_type": "markdown",
   "metadata": {},
   "source": [
    "4. $A_1 \\cup A_2 \\cup A_3$. Complémentaire : $\\overline A_1 \\cap \\overline A_2 \\cap \\overline A_3$\n",
    "5. $(A_1 \\cap A_2) \\cup (A_2 \\cap A_3) \\cup (A_1 \\cap A_3)$. Complémentaire : $(\\overline A_1 \\cup \\overline A_2) \\cap (\\overline A_2 \\cup \\overline A_3) \\cap (\\overline A_1 \\cup \\overline A_3)$\n",
    "6. $(\\overline A_2 \\cap \\overline A_3) \\cup (\\overline A_1 \\cap \\overline A_3) \\cup (\\overline A_1 \\cap \\overline A_2) = \\overline {(5)}$. Complémentaire = $(5)$.\n",
    "7. $\\overline A_1 \\cap\\overline A_2 \\cap\\overline A_3 = \\overline{A_1 \\cup A_2 \\cup A_3} = \\overline {(4)}$. Complémentaire = $(4)$."
   ]
  },
  {
   "cell_type": "markdown",
   "metadata": {},
   "source": [
    "8. $(A_1 \\cap A_2 \\cap \\overline A_3) \\cup (A_1 \\cap \\overline A_2 \\cap  A_3) \\cup (\\overline A_1 \\cap A_2 \\cap  A_3)$\n",
    "9. $\\overline{(3)}$"
   ]
  },
  {
   "cell_type": "markdown",
   "metadata": {},
   "source": [
    "**Apparté:** Montrer que $\\overline {(5)} = (6)$.\n",
    "\n",
    "Le plus simple est de réécrire $(5)$ et $(6)$ avec des intersections de trois événements au lieu d'intersections de deux événements.\n",
    "\n",
    "$(5) = (A_1 \\cap A_2) \\cup (A_2 \\cap A_3) \\cup (A_1 \\cap A_3)$\n",
    "\n",
    "$(5) = (A_1 \\cap A_2 \\cap A_3) \\cup (A_1 \\cap A_2 \\cap \\overline A_3) \\cup (A_1 \\cap \\overline A_2 \\cap A_3) \\cup (\\overline A_1 \\cap A_2 \\cap A_3)$\n",
    "\n",
    "$(6) = (\\overline A_2 \\cap \\overline A_3) \\cup (\\overline A_1 \\cap \\overline A_3) \\cup (\\overline A_1 \\cap \\overline A_2)$\n",
    "\n",
    "$(6) = (\\overline A_1 \\cap \\overline A_2 \\cap \\overline A_3) \\cup (A_1 \\cap \\overline A_2 \\cap \\overline A_3) \\cup (\\overline A_1 \\cap A_2 \\cap \\overline A_3) \\cup (\\overline A_1 \\cap \\overline A_2 \\cap A_3)$\n",
    "\n",
    "On s'aperçoit alors qu'on a listé huit possibilités deux-à-deux disjointes qui partitionnent l'espace :\n",
    "$$\\Omega = (A_1 \\cap A_2 \\cap A_3) \\cup (A_1 \\cap A_2 \\cap \\overline A_3) \\cup (A_1 \\cap \\overline A_2 \\cap A_3) \\cup (\\overline A_1 \\cap A_2 \\cap A_3) \\cup (\\overline A_2 \\cap \\overline A_3) \\cup (\\overline A_1 \\cap \\overline A_3) \\cup (\\overline A_1 \\cap \\overline A_2)$$\n",
    "On constate ainsi que $\\Omega$ est l'union disjointe de $(5)$ et $(6)$, donc par définition $(6) = \\Omega \\setminus (5) = \\overline {(5)}$.\n",
    "\n",
    "Il y a deux manières de voir comment passer de la première formule pour $(5)$ à la deuxième formule pour $(5)$. La première manière est d'utiliser la formule $X = (X \\cap Y) \\cup (X \\cap \\overline Y)$ pour remplacer les intersections de deux événements par des intersections de trois événements, en prenant $X = A_1 \\cap A_2$ et $Y = A_3$ et ainsi de suite.\n",
    "\n",
    "La deuxième manière est d'écrire $(5)$ comme l'union de \"exactement deux des trois événements se produisent\" et \"les trois événements se produisent\".\n",
    "\n",
    "De même pour obtenir la deuxième formule pour $(6)$, on peut développer en prenant $X = \\overline A_2 \\cap \\overline A_3$ et $Y = A_1$ pour obtenir des intersections de trois événements, ou alors on peut écrire $(6)$ comme l'union de \"aucun des événement ne se produit\" et \"exactement un des événements se produit\"."
   ]
  },
  {
   "cell_type": "markdown",
   "metadata": {},
   "source": [
    "### Exercice 3\n",
    "\n",
    "Dans une même UE, on dénombre 120 étudiants en  informatique et 45 étudiants en physique. De plus, 9 d'entre eux étudient l'informatique et la physique. Combien a-t-on d'étudiants dans cette UE ?"
   ]
  },
  {
   "cell_type": "markdown",
   "metadata": {},
   "source": [
    "Trois types d'étudiants :\n",
    "* Les étudiants en informatique seule : 120 - 9.\n",
    "* Les étudiants en physique seule : 45 - 9.\n",
    "* Les étudiants en informatique+physique : 9.\n",
    "\n",
    "Total : $(120-9) + (45-9) + 9 = 120+45-9 = 156$.\n",
    "\n",
    "**Méthode générale :**\n",
    "On a ici deux ensembles $A$ et $B$:\n",
    "* $A$ = ensemble des étudiants en informatique ;\n",
    "* $B$ = ensemble des étudiants en physique ;\n",
    "* $A \\cap B$ = ensemble des étudiants en double cursus informatique + physique ;\n",
    "* $A \\cup B$ = tous les étudiants.\n",
    "\n",
    "Nombre total d'étudiants = $|A \\cup B|$\n",
    "\n",
    "Si $C$ et $D$ sont deux ensembles disjoints, alors $|C \\cup D| = |C| + |D|$.\n",
    "\n",
    "$A = (A \\cap \\overline B) \\cup (A \\cap B)$\n",
    "\n",
    "Or $|A \\cap \\overline B| = |A| - |A \\cap B|$.\n",
    "\n",
    "Donc $|A \\cup B| = |(A \\cap \\overline B) \\cup (\\overline A \\cap B) \\cup (A \\cap B)|$.\n",
    "\n",
    "Or ces trois ensembles sont deux-à-deux disjoints, donc :\n",
    "\n",
    "$|A \\cup B| = |A \\cap \\overline B| + |\\overline A \\cap B| + |A \\cap B|$\n",
    "\n",
    "$|A \\cup B| = |A| - |A \\cap B| + |B| - |B \\cap A| + |A \\cap B|$\n",
    "\n",
    "D'où la formule générale pour le cardinal d'une union: $$|A \\cup B| = |A| + |B| - |A \\cap B|$$"
   ]
  },
  {
   "cell_type": "markdown",
   "metadata": {},
   "source": [
    "## Exercices à préparer\n",
    "\n",
    "### Exercice 4\n",
    "\n",
    "Soit $n$ un entier, $n\\ge 2$, on tire à pile ou face $n$ fois.\n",
    "\n",
    "1. Donner une représentation de l'univers $\\Omega$, l'ensemble des issues possibles de cette expérience."
   ]
  },
  {
   "cell_type": "markdown",
   "metadata": {},
   "source": [
    "2. Écrire l'événement $A=$ ``pile n'a pas été obtenu lors des 2 premiers lancers''\n",
    "    comme sous-ensemble de $\\Omega$."
   ]
  },
  {
   "cell_type": "markdown",
   "metadata": {},
   "source": [
    "3. Soit $i\\in\\{1,\\ldots,n\\}$, décrire les éléments de l'événement $B_i=$``le\n",
    "    résultat du $i$-ième lancer est pile''."
   ]
  },
  {
   "cell_type": "markdown",
   "metadata": {},
   "source": [
    "4. Écrire l'événement $A$ à l'aide des événements $B_i$."
   ]
  },
  {
   "cell_type": "markdown",
   "metadata": {},
   "source": [
    "5. Écrire à l'aide des événements $B_i$ l'événement $G=$``la pièce est tombée au\n",
    "    moins une fois sur pile''."
   ]
  },
  {
   "cell_type": "markdown",
   "metadata": {},
   "source": [
    "6. Écrire à l'aide des événements $B_i$ l'événement $H=$ ``la pièce est tombée au\n",
    "    moins deux fois sur pile''."
   ]
  },
  {
   "cell_type": "markdown",
   "metadata": {},
   "source": [
    "1. On définit $\\Omega = \\{ P,F \\}^n$, c'est-à-dire que $\\Omega$ est l'ensemble des suites de $n$ élements $P$ ou $F$, aussi appelées $n$-uplets de $P$ ou $F$.\n",
    "\n",
    "2. \n",
    "$$A = \\{ x \\in \\Omega \\,|\\, x_1 = x_2 = F \\}$$\n",
    "$$A = \\{ (F,F) \\} \\times \\{P,F\\}^{n-2}$$\n",
    "$$A = \\{ (x_1, x_2, x_3, ..., x_n )  | x_1 = x_2 = F\\}$$\n",
    "$$A = \\{ (F, F, x_3, ..., x_n ) \\}$$\n"
   ]
  },
  {
   "cell_type": "markdown",
   "metadata": {},
   "source": [
    "3. $B_i$ = \"le résultat du $i$ ème lancer est pile\"\n",
    "$$B_i = \\{x \\in \\Omega \\,|\\, x_i = P \\}$$\n",
    "$$B_i = \\{P,F\\}^{i-1} \\times \\{P\\} \\times \\{P,F\\}^{n-i}$$"
   ]
  },
  {
   "cell_type": "markdown",
   "metadata": {},
   "source": [
    "4. $A = \\overline B_1 \\cap \\overline B_2$\n",
    "\n",
    "En effet, $A$ est l'ensemble des $n$-uplets $x$ tels que $x_1$ n'est pas pile et $x_2$ n'est pas pile; c'est-à-dire l'ensemble des $n$-uplets $x$ tels que $x \\notin B_1$ et $x \\notin B_2$; c'està-dire $x \\in \\overline B_1 \\cap \\overline B_2$.\n",
    "\n",
    "Formulé différemment :\n",
    "\n",
    "Soit $x \\in \\Omega$. Alors $x \\in A$ si et seulement si $x_1 \\neq P$ et $x_2 \\neq P$, si et seulement si $x \\notin B_1$ et $x \\notin B_2$, si et seulement si $x \\in \\overline B_1 \\cap \\overline B_2$."
   ]
  },
  {
   "cell_type": "markdown",
   "metadata": {},
   "source": [
    "5. $G =$ \"la pièce est tombée au moins une fois sur pile\"\n",
    "\n",
    "$G = B_1 \\cup B_2 \\cup ... \\cup B_n$\n",
    "\n",
    "$G = \\underset{i=1}{\\overset{n}{\\cup}} B_i$"
   ]
  },
  {
   "cell_type": "markdown",
   "metadata": {},
   "source": [
    "6. $H = $ \"La pièce est tombée au moins deux fois sur pile\"\n",
    "\n",
    "$H =  \\underset{1 \\leq i < n}{\\cup} (\\underset{i < j \\leq n}{\\cup} (B_i \\cap B_j)) $\n",
    "\n",
    "$H =  \\underset{1 \\leq i < j \\leq n}{\\cup} (B_i \\cap B_j) $\n",
    "\n",
    "Remarque : $H$ est un sous-ensemble de $G$ ; c'est-à-dire que si l'événement $H$ se produit, alors $G$ se produit aussi forcément. On note $H \\subseteq G$."
   ]
  },
  {
   "cell_type": "markdown",
   "metadata": {},
   "source": [
    "### Exercice 5\n",
    "\n",
    "On dispose de 15 fruits différents que l'on répartit dans trois corbeilles (différentes).\n",
    "\n",
    "1. Combien y a-t-il de répartitions possibles ?\n",
    "\n",
    "2. Combien y a-t-il de répartitions laissant au moins une corbeille vide ?"
   ]
  },
  {
   "cell_type": "markdown",
   "metadata": {},
   "source": [
    ".."
   ]
  },
  {
   "cell_type": "markdown",
   "metadata": {},
   "source": [
    "### Exercice 6\n",
    "\n",
    "On dispose de 13 livres différents : 4 de mathématiques, 6 de physique et 3\n",
    "  d'informatique.\n",
    "\n",
    "1. Combien de façons y a-t-il de les ranger sur une même étagère ?\n",
    "2. Combien de façons y a-t-il de les ranger en regroupant les livres de mathématiques?\n",
    "3. Combien de façons y a-t-il de les ranger en les regroupant par matière ?"
   ]
  },
  {
   "cell_type": "markdown",
   "metadata": {},
   "source": [
    ".."
   ]
  },
  {
   "cell_type": "markdown",
   "metadata": {},
   "source": [
    ".."
   ]
  },
  {
   "cell_type": "markdown",
   "metadata": {},
   "source": [
    ".."
   ]
  },
  {
   "cell_type": "markdown",
   "metadata": {},
   "source": [
    ".."
   ]
  },
  {
   "cell_type": "markdown",
   "metadata": {},
   "source": [
    ".."
   ]
  },
  {
   "cell_type": "markdown",
   "metadata": {},
   "source": [
    ".."
   ]
  },
  {
   "cell_type": "code",
   "execution_count": null,
   "metadata": {},
   "outputs": [],
   "source": []
  }
 ],
 "metadata": {
  "kernelspec": {
   "display_name": "Python 3",
   "language": "python",
   "name": "python3"
  },
  "language_info": {
   "codemirror_mode": {
    "name": "ipython",
    "version": 3
   },
   "file_extension": ".py",
   "mimetype": "text/x-python",
   "name": "python",
   "nbconvert_exporter": "python",
   "pygments_lexer": "ipython3",
   "version": "3.9.1"
  }
 },
 "nbformat": 4,
 "nbformat_minor": 4
}
