{
 "cells": [
  {
   "cell_type": "markdown",
   "metadata": {},
   "source": [
    "# Probabilités pour les sciences exactes\n",
    "\n",
    "## TD9 - Feuille 3 - Variables aléatoires\n",
    "\n",
    "*Les documents des semaines précédentes et d'aujourd'hui sont disponibles à l'adresse :\n",
    "https://github.com/skunne/l2probabilites .*\n",
    "\n",
    "$\\newcommand{\\N}{\\mathbb{N}}$\n",
    "$\\newcommand{\\P}[1]{\\mathbb{P}\\left( #1 \\right)}$\n",
    "$\\newcommand{\\E}[1]{\\mathbb{E}\\left( #1 \\right)}$\n",
    "$\\newcommand{\\V}[1]{\\operatorname{Var}\\left( #1 \\right)}$\n",
    "$\\newcommand{\\c}[2]{{#1 \\choose #2}}$\n",
    "$\\newcommand{\\non}[1]{\\overline{#1}}$"
   ]
  },
  {
   "cell_type": "markdown",
   "metadata": {},
   "source": [
    "### Exercice 0\n",
    "\n",
    "Soient $X$ et $Y$ deux variables aléatoires réelles vérifiant $\\P{X \\in \\{0,1\\}} = 1$ et $\\P{Y \\in \\{-1, 0,1\\}} = 1$. Montrer que : $$\\P {X=0} = \\P{X=0, Y=-1} + \\P{X=0, Y=0} + \\P{X=0, Y=1}$$"
   ]
  },
  {
   "cell_type": "markdown",
   "metadata": {},
   "source": [
    "On connaît la formule pour deux événements $E$ et $F$ :\n",
    "$$\\P E = \\P {E \\cap F} + \\P {E \\cap \\non F}$$\n",
    "\n",
    "On va appliquer cette formule avec $E = \\{ X = 0 \\}$ et $F = \\{Y = 1\\}$ :\n",
    "$$\\P {X = 0} = \\P{X=0,Y=1} + \\P{X=0, Y \\neq 1}$$\n",
    "\n",
    "On applique de nouveau la formule $E = \\{ X=0, Y \\neq 1 \\}$ et $F = \\{ Y = -1 \\}$ :\n",
    "$$\\P { X=0, Y \\neq 1 } = \\P { X=0, Y\\neq 1, Y = -1} + \\P {X=0, Y\\neq 1, Y \\neq -1} $$\n",
    "\n",
    "On applique la formule une troisième fois, avec $E = \\{X=0, Y\\neq 1, Y \\neq -1\\}$ et $F = \\{ Y = 0 \\}$\n",
    "$$\\P {X=0, Y\\neq 1, Y \\neq -1} = \\P { X=0, Y = 0} + \\P {X=0, Y \\notin \\{ 0, 1, -1 \\} }$$\n",
    "$$\\P {X=0, Y\\neq 1, Y \\neq -1} = \\P { X=0, Y = 0} + 0$$\n",
    "\n",
    "Donc finalement :\n",
    "$$\\P {X = 0} = \\P{X=0,Y=1} + \\P{X=0, Y \\neq 1}$$\n",
    "$$\\P {X = 0} = \\P{X=0,Y=1} + (\\P { X=0, Y\\neq 1, Y = -1} + \\P {X=0, Y\\neq 1, Y \\neq -1})$$\n",
    "$$\\P {X = 0} = \\P{X=0,Y=1} + (\\P { X=0, Y = -1} + \\P {X=0, Y=0})$$"
   ]
  },
  {
   "cell_type": "markdown",
   "metadata": {},
   "source": [
    "### Exercice 8\n",
    "\n",
    "Soient X, Y deux variables aléatoires indépendantes et de loi uniforme sur $\\{0, . . . , n − 1\\}$. On étudie la variable aléatoire $Z = \\min(X, Y )$.\n",
    "\n",
    "1. Soit $z$ un nombre réel. Montrer que: $\\mathbb{P}(X\\geq z, Y \\geq z) = \\mathbb{P}(X \\geq z)\\mathbb{P}(Y \\geq z)$.\n",
    "2. En déduire $\\mathbb{P}(Z \\geq z)$.\n",
    "3. Trouver la loi de la variable aléatoire $Z = \\min(X, Y )$.\n"
   ]
  },
  {
   "cell_type": "markdown",
   "metadata": {},
   "source": [
    "**Solution**\n",
    "\n",
    "**1.** On va calculer d'une part $\\mathbb{P}(X \\geq z)\\mathbb{P}(Y \\geq z)$ et d'autre part $\\mathbb{P}(X\\geq z, Y \\geq z)$ et constater que ces deux quantités sont égales.\n",
    "\n",
    "On calcule d'abord $\\mathbb{P}(X \\geq z)\\mathbb{P}(Y \\geq z)$.\n",
    "\n",
    "On sait que :\n",
    "$$\\P {X \\geq z} = \\sum_{x \\geq z} \\P {X = x}$$\n",
    "$$\\P {X \\geq z} = \\sum_{x = \\lceil z \\rceil}^{+\\infty} \\P {X = x}$$\n",
    "Or $\\P {X = x}$ vaut zéro si $x$ n'est pas un entier entre $0$ et $n-1$. Donc :\n",
    "$$\\P {X \\geq z} = \\sum_{x = \\lceil z \\rceil}^{n-1} \\P {X = x}$$\n",
    "\n",
    "De plus $X$ suit la loi uniforme sur $\\{ 0, ..., n-1 \\}$ donc pour tout $x \\in \\{ 0, ..., n-1 \\}$, $\\P {X = x} = 1/n$. Donc :\n",
    "$$\\P {X \\geq z} = \\sum_{x = \\lceil z \\rceil}^{n-1} 1/n$$\n",
    "$$\\P {X \\geq z} = (n - 1 - \\lceil z \\rceil +1) \\times \\frac{1}{n}$$\n",
    "$$\\P {X \\geq z} = \\frac{n - \\lceil z \\rceil}{n}$$\n",
    "\n",
    "De plus, $X$ et $Y$ suivent la même loi, donc $$\\P {Y \\geq z} = \\P {X \\geq z}.$$\n",
    "\n",
    "Donc $$\\mathbb{P}(X \\geq z)\\mathbb{P}(Y \\geq z) = \\left( \\frac{n - \\lceil z \\rceil}{n} \\right) ^2$$"
   ]
  },
  {
   "cell_type": "markdown",
   "metadata": {},
   "source": [
    "On calcule maintenant $\\P {X \\geq z, Y\\geq z}$. L'événement $\\{X \\geq z, Y\\geq z\\}$ concerne le couple de variables aléatoires $(X,Y)$, on va donc le décomposer en fonction de toutes les valeurs possibles du couple.\n",
    "$$\\P {X \\geq z, Y\\geq z} = \\sum_{(x,y) | x\\geq z, y \\geq z} \\P {(X,Y) = (x,y)}$$\n",
    "$$\\P {X \\geq z, Y\\geq z} = \\sum_{x \\geq z}\\sum_{y \\geq z} \\P {X=x,Y=y}$$\n",
    "$$\\P {X \\geq z, Y\\geq z} = \\sum_{x = \\lceil z \\rceil}^{n-1}\\sum_{y = \\lceil z \\rceil}^{n-1} \\P {X=x,Y=y}$$\n",
    "\n",
    "Or $X$ et $Y$ sont deux variables aléatoires indépendantes, donc $\\P {X=x,Y=y} = \\P {X=x} \\P {Y=y} = 1/n \\times 1/n = 1/{n^2}$.\n",
    "\n",
    "Donc $$\\P {X \\geq z, Y\\geq z} = \\sum_{x = \\lceil z \\rceil}^{n-1}\\sum_{y = \\lceil z \\rceil}^{n-1} \\frac{1}{n^2}$$\n",
    "$$\\P {X \\geq z, Y\\geq z} = (n - \\lceil z \\rceil) (n - \\lceil z \\rceil) \\frac{1}{n^2}$$\n",
    "$$\\P {X \\geq z, Y\\geq z} = \\frac{(n - \\lceil z \\rceil)^2}{n^2}$$\n",
    "\n",
    "Donc $\\P {X \\geq z, Y\\geq z} = \\P {X \\geq z} \\P{ Y\\geq z}$."
   ]
  },
  {
   "cell_type": "markdown",
   "metadata": {},
   "source": [
    "**2.** On s'intéresse à l'événement $\\{ Z \\geq z \\}$.\n",
    "$$\\{ Z \\geq z \\} = \\{ \\min(X, Y) \\geq z \\}$$\n",
    "$$\\{ Z \\geq z \\} = \\{ X \\geq z \\} \\cap \\{ Y \\geq z \\}$$\n",
    "En effet, $\\min(X,Y) \\geq z$ implique $X \\geq Z$ et $Y \\geq Z$ ; réciproquement,  $X \\geq Z$ et $Y \\geq Z$ implique $\\min(X,Y) \\geq z$ ; par conséquent, les deux événements $\\{ \\min(X, Y) \\geq z \\}$ et $\\{ X \\geq z \\} \\cap \\{ Y \\geq z \\}$ sont égaux.\n",
    "\n",
    "Donc $$\\P {Z \\geq z} = \\P {X\\geq z, Y \\geq z}$$\n",
    " $$\\P {Z \\geq z} = \\left( \\frac{(n - \\lceil z \\rceil)}{n} \\right) ^2$$"
   ]
  },
  {
   "cell_type": "markdown",
   "metadata": {},
   "source": [
    "**3.** On vient de calculer $\\P {Z \\geq z}$, ce qui ressemble à la fonction de répartition de la variable aléatoire $Z$. On connaît le lien entre fonction de répartition et loi d'une variable aléatoire discrète entière :\n",
    "$$\\P {Z = z} = \\P{Z \\leq z} - \\P{Z \\leq z-1}$$\n",
    "De la même manière, on a la formule :\n",
    "$$\\P {Z = z } = \\P{Z \\geq z} - \\P{z + 1}$$\n",
    "En effet, $\\{ Z \\geq z \\} = \\{ Z = z \\} \\cup \\{ Z \\geq z+1 \\}$ et il s'agit d'une union disjointe, donc on peut sommer les probabilités : $\\P {Z \\geq z} = \\P {Z = z} + \\P{Z \\geq z+1}$.\n",
    "\n",
    "Par ailleurs, la variable $Z$ ne prend que des valeurs entières, donc $\\P{Z = z} = 0$ pour tout $z$ non entier. A partir de maintenant on suppose que $z$ est entier. En particulier $\\lceil z \\rceil = z$.\n",
    "\n",
    "$$\\P {Z = z } = \\left( \\frac{n - z}{n} \\right) ^2 - \\left( \\frac{n - (z+1)}{n} \\right) ^2$$\n",
    "$$\\P {Z = z } =  \\frac{n^2 - 2 n z + z^2 - (n^2 - 2 n (z+1) + (z+1)^2}{n^2}$$\n",
    "$$\\P {Z = z } =  \\frac{n^2 - 2 n z + z^2 - (n^2 - 2 n z - 2n + z^2+2z+1)}{n^2}$$\n",
    "$$\\P {Z = z } =  \\frac{2n-2z-1}{n^2}$$\n",
    "\n",
    "En conclusion, la variable aléatoire $\\min(X,Y)$ est aussi une variable aléatoire qui prend ses valeurs dans $\\{0, 1, 2, ..., n-1\\}$, mais la probabilité d'avoir un petit chiffre (par exemple 0 ou 1) est beaucoup plus grande que la probabilité d'avoir un grand chiffre (par exemple $n-1$ ou $n-2$)."
   ]
  },
  {
   "cell_type": "markdown",
   "metadata": {},
   "source": [
    "## TD9 - Feuille 5 - Variables aléatoires"
   ]
  },
  {
   "cell_type": "markdown",
   "metadata": {},
   "source": [
    "### Exercice 2\n",
    "\n",
    "Soit $p\\in ]0,1[$. On considère $X$ une v.a.r. telle que $X$ suit une loi Bernouilli de paramtre $1-p$, c'est-à-dire :\n",
    "\n",
    "  $X\\sim\\mathcal{B}(1-p)$ :\n",
    "  \n",
    "  $$ \\P{X=0} = p, \\quad \\P{X=1} = 1-p.$$\n",
    "  \n",
    "  1. Calculer $\\P{X>0}$, $\\P{X\\leq 1}$ et $\\P{X(1-X)=1}$.\n",
    "  2. Calculer $\\E X$ et $\\V X$.\n",
    "  3. Calculer $\\E {1+2X}$ et $\\V {1+2X}$.\n",
    "  4. Déterminer la loi de la v.a.r. $Y = 1 - \\sqrt{1-X}$.\n"
   ]
  },
  {
   "cell_type": "markdown",
   "metadata": {},
   "source": [
    "**1.** $$\\P{X > 0} = \\P{0 < X < 1} + \\P{X = 1}$$\n",
    "$$\\P{X > 0} = 0 + 1 - p = 1-p $$\n",
    "*\n",
    "$$\\P{X \\leq 1} = \\P{ X = 0} + \\P{0 < X < 1} + \\P{X = 1}$$\n",
    "$$\\P{X \\leq 1} = p + 0 + 1-p$$\n",
    "$$\\P{X \\leq 1} = 1$$\n",
    "*\n",
    "\n",
    "On peut calculer $\\P{X(1-X)=1}$ de deux manières différentes : soit on commence par décomposer en trois événements $\\{X(1-X)=1 \\text{ et } X=0\\}$, $\\{X(1-X)=1 \\text{ et } X=1\\}$, $\\{X(1-X)=1 \\text{ et } X\\notin \\{0,1\\}\\}$ ; soit on commence par résoudre l'équation du second degré pour réécrire l'événement sous la forme $X \\in \\{\\lambda_1, \\lambda_2 \\}$.\n",
    "\n",
    "Si on résout d'abord l'équation du second degré : on trouve le discriminant $\\Delta = -3$. Donc $\\{X(1-X)=1\\} = \\emptyset$ et sa probabilité est nulle.\n",
    "\n",
    "Si on décompose :\n",
    "$$\\P {X(1-X)=1} = \\P{X(1-X)=1, X=0} + \\P{X(1-X)=1, X=1} + \\P{X(1-X)=1, X \\notin \\{0,1\\}} $$\n",
    "$$\\P {X(1-X)=1} = \\P {\\emptyset} + \\P{\\emptyset} + 0 = 0$$"
   ]
  },
  {
   "cell_type": "markdown",
   "metadata": {},
   "source": [
    "**2.** $$\\E {X} = 0 \\times \\P{X = 0} + 1 \\times \\P{X = 1}$$\n",
    "$$\\E X = 1-p$$\n",
    "\n",
    "On peut utiliser une des formules qu'on connaît pour la variance :\n",
    "$$\\V X = \\E {(X - \\E X)^2}$$\n",
    "$$\\V X = \\E {X^2} - (\\E X)^2$$\n",
    "\n",
    "Ici on choisit d'utiliser la deuxième formule.\n",
    "$$\\V X = \\E X - (\\E X)^2$$\n",
    "(On utilise ici le fait que si $X = 0$ ou $X = 1$, alors $X^2 = X$ ; donc $X^2$ a même loi que $X$. Donc $\\E {X^2} = \\E X$.)\n",
    "$$\\V X = 1-p - (1-p)^2$$\n",
    "$$\\V X = 1-p - (1 - 2p +p^2)$$\n",
    "$$\\V X = p - p^2 = p(1-p)$$"
   ]
  },
  {
   "cell_type": "markdown",
   "metadata": {},
   "source": [
    "**3.** On utilise ici la linéarité de l'espérance :\n",
    "$$\\E {1 + 2X} = \\E{1} + 2 \\E{X} = 1 + 2(1-p) = 3-2p$$\n",
    "\n",
    "On utilise ici les propriétés de la variance. La variance, en général, n'est pas additive ; mais ici 1 est une constante ; et on sait que décaler une variable aléatoire d'une constante ne change pas sa variance.\n",
    "$$\\V {1 + 2X} = 2^2 \\V X = 4p(1-p)$$"
   ]
  },
  {
   "cell_type": "markdown",
   "metadata": {},
   "source": [
    "**4.** On veut calculer la loi de la variable aléatoire $Y = 1 - \\sqrt{1-X}$. On remarque que si $X = 0$, alors $Y = 0$ ; et si $X = 1$, alors $Y = 1$. Donc, avec probabilité $1$, la variable aléatoire $Y$ prend valeur 0 ou 1.\n",
    "Donc :\n",
    "$$\\P{Y \\notin \\{ 0,1\\}} = 0$$\n",
    "$$\\P{Y = 0} = \\P {X = 0} = p$$\n",
    "$$\\P{Y = 1} = \\P {X = 1} = 1-p$$"
   ]
  },
  {
   "cell_type": "markdown",
   "metadata": {},
   "source": [
    "### Exercice 3\n",
    "\n",
    "La vente journalière d'un certain article est une variable aléatoire $X$ qui suit\n",
    "  une loi binomiale $\\mathcal{B}(n,p)$ d'espérance $\\E X = 3,92$ et de variance\n",
    "  $\\V X = 2,8224$. Déterminer les paramètres $n$ et $p$ de cette loi."
   ]
  },
  {
   "cell_type": "markdown",
   "metadata": {},
   "source": [
    "La variable $X$ suit une loi binomiale de paramètre $n,p$; par conséquent :\n",
    "$$\\E X= np$$\n",
    "$$\\V X = n p (1-p)$$\n",
    "\n",
    "On a donc un système de deux équations à deux inconnues :\n",
    "$$3,92 = np$$\n",
    "$$2,8224 = n p (1-p)$$\n",
    "\n",
    "En remplaçant $np$ par sa valeur $3,92$ sur la deuxième ligne, on trouve :\n",
    "$$2,8224 = 3,92 (1-p)$$\n",
    "c'est-à-dire \n",
    "$$1-p = \\frac{2,8224}{3,92}$$\n",
    "$$1-p = 0,72$$\n",
    "donc $p = 0,28$.\n",
    "\n",
    "En remplaçant $p$ par sa valeur $0,28$ sur la première ligne, on trouve :\n",
    "$$n = \\frac{3,92}{0,28} = 14$$\n",
    "\n",
    "Finalement, on peut dire que la variable aléatoire $X$ suit une loi binomiale $\\mathcal{B}(14, 0.28)$."
   ]
  },
  {
   "cell_type": "markdown",
   "metadata": {},
   "source": [
    "### Exercice 4\n",
    "\n",
    "Soient $n\\in\\mathbb{N}^{*}$ et $p\\in ]0,1[$.\n",
    "  On considère une variable aléatoire $X$ telle que $X\\sim B(n,p)$: $\\forall k\\in\\{0,...,n\\},$\n",
    "  $$\\P{X=k}= \\binom{n}{k}p^{k}(1-p)^{n-k}$$\n",
    "  \n",
    "1. Vérifier que: $\\sum_{k=0}^n \\P{X=k} = 1$.\n",
    "2. Calculer $\\E X$, $\\E {X(X-1)}$ puis $\\V X$."
   ]
  },
  {
   "cell_type": "markdown",
   "metadata": {},
   "source": [
    "**1.** On va chercher à utiliser la formule du binome :\n",
    "$$(a+b)^n = \\sum_{k=0}^n {n \\choose k}a^k b^{n-k}$$\n",
    "$$(1+x)^n = \\sum_{k=0}^n {n \\choose k} x^k$$\n",
    "En posant $a = p$ et $b = 1-p$, on applique la première formule :\n",
    "$$(p+1-p)^n = \\sum_{k=0}^n {n \\choose k} p^k (1-p)^{n-k}$$\n",
    "$$1 = \\sum_{k=0}^n {n \\choose k} p^k (1-p)^{n-k}$$\n",
    "$$1 = \\sum_{k=0}^n \\P {X = k}$$"
   ]
  },
  {
   "cell_type": "markdown",
   "metadata": {},
   "source": [
    "**2.**\n",
    "Pour calculer l'espérance d'une variable aléatoire, on somme, pour toutes les valeurs possibles, cette valeur multipliée par la probabilité que la variable aléatoire prenne cette valeur :\n",
    "$$\\E X = \\sum_{k = 0}^n k \\times \\P{X=k}$$\n",
    "$$\\E X = \\sum_{k = 0}^n k {n \\choose k} p^k (1-p)^{n-k}$$\n",
    "\n",
    "On va réutiliser la formule suivante :\n",
    "$$\\sum_{k=1}^n k {n \\choose k} x^{k-1} = n (1+x)^{n-1}$$\n",
    "\n",
    "\n",
    "$$\\E X = \\sum_{k = 0}^n k {n \\choose k} p^k (1-p)^{n-k}$$\n",
    "$$\\E X = \\sum_{k = 0}^n k {n \\choose k} (\\frac{p}{1-p})^k (1-p)^{n}$$\n",
    "$$\\E X = (1-p)^{n} \\sum_{k = 0}^n k {n \\choose k} (\\frac{p}{1-p})^k$$\n",
    "$$\\E X = (1-p)^{n}\\frac{p}{1-p} \\sum_{k = 0}^n k {n \\choose k} (\\frac{p}{1-p})^{k-1}$$\n",
    "$$\\E X = (1-p)^{n}\\frac{p}{1-p} \\sum_{k = 1}^n k {n \\choose k} (\\frac{p}{1-p})^{k-1}$$\n",
    "On peut donc appliquer notre formule avec $x = p / (1-p)$ :\n",
    "$$\\E X = (1-p)^{n}\\frac{p}{1-p} n (1 + \\frac{p}{1-p})^{n-1}$$\n",
    "$$\\E X = (1-p)^{n}\\frac{p}{1-p} n (\\frac{1-p+p}{1-p})^{n-1}$$\n",
    "$$\\E X = p n $$\n",
    "\n",
    "On aurait pu faire ce calcul différemment. On sait qu'une loi binomiale de paramètres $(n,p)$ revient à compter le nombre de succès d'une expérience de Bernouilli de paramètre $p$ répétée $n$ fois. Autrement dit : soient $X_1, X_2, ..., X_n$ une famille indépendante de $n$ variables aléatoires qui suivent toutes la même loi de Bernouilli de paramètre $p$. Alors la variable aléatoire $X = X_1 + X_2 + ... + X_n$ suit une loi binomiale de paramètres $(n,p)$.\n",
    "\n",
    "On connaît l'espérance $\\E{X_i}$ de chaque variable aléatoire $X_i$ : $\\E {X_i} = p$.\n",
    "\n",
    "On peut en déduire l'espérance de $X$ en utilisant la linéarité de l'espérance :\n",
    "$$\\E X = \\E {X_1} + \\E {X_2} + ... + \\E {X_n}$$\n",
    "$$\\E X = n p$$"
   ]
  },
  {
   "cell_type": "markdown",
   "metadata": {},
   "source": [
    "On veut maintenant calculer $\\E {X(X-1)}$ :\n",
    "$$\\E{X (X-1)} = \\sum_{k=0}^n k(k-1) \\P{X = k}$$\n",
    "$$\\E{X (X-1)} = \\sum_{k=0}^n k(k-1) {n \\choose k}p^{k}(1-p)^{n-k}$$\n",
    "\n",
    "On va utiliser la formule : \n",
    "$$\\sum_{k=2}^n k(k-1) {n \\choose k}x^{k-2} = n(n-1)(1+x)^{n-2}$$\n",
    "De la même manière que précédemment, on va se débarrasser de $(1-p)^n$ et on va poser $x = p/(1-p)$.\n",
    "\n",
    "$$\\E{X (X-1)} = \\sum_{k=0}^n k(k-1) {n \\choose k}p^{k}(1-p)^{n-k}$$\n",
    "$$\\E{X (X-1)} = (1-p)^{n} \\sum_{k=0}^n k(k-1) {n \\choose k}\\frac{p}{1-p}^{k}$$\n",
    "$$\\E{X (X-1)} = (1-p)^{n}(\\frac{p}{1-p})^2 \\sum_{k=0}^n k(k-1) {n \\choose k}\\frac{p}{1-p}^{k-2}$$\n",
    "$$\\E{X (X-1)} = (1-p)^{n}(\\frac{p}{1-p})^2 \\sum_{k=2}^n k(k-1) {n \\choose k}\\frac{p}{1-p}^{k-2}$$\n",
    "On applique la formule avec $x = p/(1-p)$ :\n",
    "$$\\E{X (X-1)} = (1-p)^{n}(\\frac{p}{1-p})^2 n(n-1)(1+\\frac{p}{1-p})^{n-2}$$\n",
    "$$\\E{X (X-1)} = (1-p)^{n}(\\frac{p}{1-p})^2 n(n-1)(\\frac{1-p+p}{1-p})^{n-2}$$\n",
    "$$\\E{X (X-1)} = (1-p)^{n}(\\frac{p}{1-p})^2 n(n-1)(\\frac{1}{1-p})^{n-2}$$\n",
    "$$\\E{X (X-1)} = p^2 n (n-1)$$"
   ]
  },
  {
   "cell_type": "markdown",
   "metadata": {},
   "source": [
    "On veut maintenant en déduire la variance $\\V X$. On connaît $\\E X$ et $\\E {X (X-1)}$. On va utiliser une formule pour la variance :\n",
    "$$\\V X = \\E {X^2} - (\\E X)^2$$\n",
    "On utilise : $\\E{X(X-1)} = \\E {X^2 - X}$. Donc par linéarité de l'espérance, $\\E{X(X-1)} = \\E {X^2} - \\E{X}$.\n",
    "Donc :\n",
    "$$\\V X = \\E{X(X-1)} + \\E{X} - (\\E X)^2$$\n",
    "$$\\V X = p^2n(n-1) + np + (np)^2$$\n",
    "$$\\V X = np(1-p)$$\n",
    "\n",
    "Remarque : on aurait pu aussi calculer la variance de $X$ en utlisant comme précédemment $X = X_1 + X_2 + ... + X_n$ avec les $X_i$ une famille indépendante de variables Bernouilli de paramètre $p$ et en utilisant une propriété de la variance. Question : quelle est cette propriété ?"
   ]
  },
  {
   "cell_type": "markdown",
   "metadata": {},
   "source": [
    "### Exercice 5\n",
    "\n",
    "Soit $\\lambda >0$. On considère une v.a.r $X$ telle que\n",
    "  $X\\sim\\mathcal{P}(\\lambda)$ ($X$ suit la loi Poisson de paramètre $\\lambda$ :\n",
    "  $$ \\P{X=k}=\\mathrm{e}^{-\\lambda}\\frac{\\lambda^{k}}{k!}, \\quad k\\in\\mathbb{N}.$$\n",
    "\n",
    "1. Vérifier que $\\sum_{k=0}^{+\\infty} \\P{X=k} = 1$.\n",
    "2.  Calculer $\\E X$, $\\E{X(X-1)}$ puis $\\V X$."
   ]
  },
  {
   "cell_type": "markdown",
   "metadata": {},
   "source": [
    "On va ici manipuler beaucoup de sommes de la forme $\\sum_k \\frac{\\lambda ^k}{k!}$. On reconnaît la formule de l'exponentielle :\n",
    "$$e^x = \\sum_{n=0}^{+\\infty} \\frac{x^n}{n!}$$\n",
    "\n",
    "**1.**\n",
    "$$\\sum_{k=0}^{+\\infty}\\P{X = k} = \\sum_{k=0}^{+\\infty}e^{-\\lambda}\\frac{\\lambda^k}{k!}$$\n",
    "$$\\sum_{k=0}^{+\\infty}\\P{X = k} = e^{-\\lambda} \\sum_{k=0}^{+\\infty}\\frac{\\lambda^k}{k!}$$\n",
    "On reconnaît la formule de l'exponentielle :\n",
    "$$\\sum_{k=0}^{+\\infty}\\P{X = k} = e^{-\\lambda} e^\\lambda = e^0 = 1$$\n",
    "\n",
    "**2.** \n",
    "$$\\E X = \\sum_{k=0}^{+\\infty} k \\P{X = k}$$\n",
    "$$\\E X = \\sum_{k=0}^{+\\infty} k e^{-\\lambda}\\frac{\\lambda^{k}}{k!}$$\n",
    "$$\\E X = \\lambda \\sum_{k=1}^{+\\infty} k e^{-\\lambda}\\frac{\\lambda^{k-1}}{k!}$$\n",
    "$$\\E X = e^{-\\lambda}\\lambda \\sum_{k=1} e^{-\\lambda} \\frac{\\lambda^{k-1}}{(k-1)!}$$\n",
    "$$\\E X = e^{-\\lambda}\\lambda \\sum_{k=0} e^{-\\lambda} \\frac{\\lambda^{k}}{k!}$$\n",
    "$$\\E X = e^{-\\lambda}\\lambda e^{\\lambda} = \\lambda$$"
   ]
  },
  {
   "cell_type": "markdown",
   "metadata": {},
   "source": [
    "### Exercice 6\n",
    "\n",
    "Soit $p\\in ]0,1[$. On considère une v.a.r $X$ telle que\n",
    "  $X\\sim\\mathcal{G}(p)$ :\n",
    "\n",
    "$$\\P{X=k} = p(1-p)^{k-1}, \\quad \\forall k\\in\\mathbb{N}^{*} $$\n",
    "\n",
    "1. Vérifier que $\\sum_{k=1}^\\infty \\P{X=k} = 1$.\n",
    "2.  Calculer $\\E X$, $\\E {X(X-1)}$ et $\\V X$.\n",
    "3.  Montrer que\n",
    "    $$\\E{\\frac{1}{X}} = -\\frac{p\\ln(p)}{1-p}$$\n",
    "    \n",
    "Indication : On rappelle que pour tout\n",
    "    $ x\\in ]-1,1[,$\n",
    "    $$\\sum_{k=1}^{+\\infty}\\frac{x^{k}}{k} = -\\ln (1-x)$$"
   ]
  },
  {
   "cell_type": "markdown",
   "metadata": {},
   "source": [
    ".."
   ]
  }
 ],
 "metadata": {
  "kernelspec": {
   "display_name": "Python 3",
   "language": "python",
   "name": "python3"
  },
  "language_info": {
   "codemirror_mode": {
    "name": "ipython",
    "version": 3
   },
   "file_extension": ".py",
   "mimetype": "text/x-python",
   "name": "python",
   "nbconvert_exporter": "python",
   "pygments_lexer": "ipython3",
   "version": "3.6.1"
  }
 },
 "nbformat": 4,
 "nbformat_minor": 4
}
