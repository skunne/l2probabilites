{
 "cells": [
  {
   "cell_type": "markdown",
   "metadata": {},
   "source": [
    "# Probabilités pour les sciences exactes\n",
    "\n",
    "## TD1 - Feuille 1 - Ensembles, dénombrements, combinatoire"
   ]
  },
  {
   "cell_type": "markdown",
   "metadata": {},
   "source": [
    "### Avant toute chose"
   ]
  },
  {
   "cell_type": "markdown",
   "metadata": {},
   "source": [
    "Envoyer un email à stephan.kunne@univ-nantes.fr\n",
    "\n",
    "**Sujet:** X22M090\n",
    "\n",
    "**Corps du message:**\n",
    " * Nom, Prénom\n",
    " * Réponse aux exercices 5 et 6 ci-dessous\n",
    "\n",
    "**Format de la réponse à l'exercice à votre convenance:**\n",
    "  * Papier + Stylo + Photo\n",
    "  * Texte\n",
    "  * Document latex\n",
    "  * Lien vers une page https://mathb.in"
   ]
  },
  {
   "cell_type": "markdown",
   "metadata": {},
   "source": [
    "## Exercices à préparer"
   ]
  },
  {
   "cell_type": "markdown",
   "metadata": {},
   "source": [
    "### Exercice 5\n",
    "\n",
    "On dispose de 15 fruits différents que l'on répartit dans trois corbeilles (différentes).\n",
    "\n",
    "1. Combien y a-t-il de répartitions possibles ?\n",
    "\n",
    "2. Combien y a-t-il de répartitions laissant au moins une corbeille vide ?"
   ]
  },
  {
   "cell_type": "markdown",
   "metadata": {},
   "source": [
    "**Solution**\n",
    "*Correction de l'exercice 5 dans les diapositives.*\n",
    "\n",
    "Méthode alternative : Utiliser une formule pour calculer le cardinal de l'union de trois événéments non-disjoints:\n",
    "\n",
    "$|A \\cup B \\cup C| = ??$"
   ]
  },
  {
   "cell_type": "markdown",
   "metadata": {},
   "source": [
    "### Exercice 6\n",
    "\n",
    "On dispose de 13 livres différents : 4 de mathématiques, 6 de physique et 3\n",
    "  d'informatique.\n",
    "\n",
    "1. Combien de façons y a-t-il de les ranger sur une même étagère ?\n",
    "2. Combien de façons y a-t-il de les ranger en regroupant les livres de mathématiques?\n",
    "3. Combien de façons y a-t-il de les ranger en les regroupant par matière ?"
   ]
  },
  {
   "cell_type": "markdown",
   "metadata": {},
   "source": [
    ".."
   ]
  },
  {
   "cell_type": "markdown",
   "metadata": {},
   "source": [
    "### Exercice 7\n",
    "\n",
    "On distribue d'un jeu de 32 cartes, une main de 5 cartes.\n",
    "\n",
    "1. Combien y a-t-il de mains possibles ?\n",
    "2. Quel est le nombre de mains contenant deux rois exactement ?\n",
    "3. Quel est le nombre de mains contenant au moins deux rois ?\n",
    "4. Quel est le nombre de mains contenant au plus trois carreaux ?\n",
    "5. Quel est le nombre de mains contenant cinq cartes de la même couleur?"
   ]
  },
  {
   "cell_type": "markdown",
   "metadata": {},
   "source": [
    ".."
   ]
  },
  {
   "cell_type": "markdown",
   "metadata": {},
   "source": [
    "### Exercice 8\n",
    "\n",
    "On jette deux fois un dé équilibré et l'on considère les événements\n",
    "  suivants :\n",
    "  \n",
    "* $E =$ \"la somme des points est paire\" ;\n",
    "* $F =$ \"le 3 est obtenu au moins une fois\".\n",
    "\n",
    "1. Quel est l'ensemble $\\Omega$ de tous les issues possibles?\n",
    "2. Le jet d'un dé équilibré relève du langage codé: comment veut-on que vous le traduisiez?\n",
    "3. Calculer la probabilité des événements $E$ et $F$.\n",
    "4. Calculer la probabilité des événements $E \\cap F$, $E \\cup F$, $E \\cap \\bar F$, $(E \\cap \\bar F) \\cup \\bar E$, après en avoir précisé la signification."
   ]
  },
  {
   "cell_type": "markdown",
   "metadata": {},
   "source": [
    ".."
   ]
  },
  {
   "cell_type": "markdown",
   "metadata": {},
   "source": [
    "## Exercice 9\n",
    "\n",
    "Une urne contient 2 boules blanches et 4 boules noires. On extrait successivement et au hasard toutes les boules. Quelle est la probabilité pour que toutes les boules blanches soient extraites lors des 4 premiers tirages ?"
   ]
  },
  {
   "cell_type": "markdown",
   "metadata": {},
   "source": [
    ".."
   ]
  },
  {
   "cell_type": "markdown",
   "metadata": {},
   "source": [
    "# Coefficients binomiaux\n",
    "## Exercice 10\n",
    "\n",
    "Soit $n$ un entier.\n",
    "\n",
    "1. Calculer: $\\displaystyle\\sum_{k=0}^n k \\binom{n}{k}$ et $ \\displaystyle\\sum_{k=0}^n k(k-1) \\binom{n}{k}.$\n",
    "\n",
    "2. En déduire: $ \\displaystyle\\sum_{k=0}^n k^2 \\binom{n}{k}$."
   ]
  },
  {
   "cell_type": "markdown",
   "metadata": {},
   "source": [
    ".."
   ]
  },
  {
   "cell_type": "markdown",
   "metadata": {},
   "source": [
    "## Exercice 11\n",
    "\n",
    "Soit $n$ un entier strictement positif.\n",
    "\n",
    "1. En dénombrant les façons d'aligner $n$ boules blanches et $n$ boules noires,\n",
    "    montrer que\n",
    "    $$\\binom{2n}{n}=\\displaystyle\\sum_{k=0}^n\\binom{n}{k}^2$$\n",
    "\n",
    "2. Retrouver la relation précédente en utilisant l'identité:\n",
    "    $(1+t)^n(1+t)^n=(1+t)^{2n}$."
   ]
  },
  {
   "cell_type": "markdown",
   "metadata": {},
   "source": [
    ".."
   ]
  }
 ],
 "metadata": {
  "kernelspec": {
   "display_name": "Python 3",
   "language": "python",
   "name": "python3"
  },
  "language_info": {
   "codemirror_mode": {
    "name": "ipython",
    "version": 3
   },
   "file_extension": ".py",
   "mimetype": "text/x-python",
   "name": "python",
   "nbconvert_exporter": "python",
   "pygments_lexer": "ipython3",
   "version": "3.9.1"
  }
 },
 "nbformat": 4,
 "nbformat_minor": 4
}
