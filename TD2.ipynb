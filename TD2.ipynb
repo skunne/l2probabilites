{
 "cells": [
  {
   "cell_type": "markdown",
   "metadata": {},
   "source": [
    "# Probabilités pour les sciences exactes\n",
    "\n",
    "## TD2 - Feuille 1 - Ensembles, dénombrements, combinatoire\n",
    "\n",
    "*Les documents de la semaine dernière et d'aujourd'hui sont disponibles à l'adresse :\n",
    "https://github.com/skunne/l2probabilites .*"
   ]
  },
  {
   "cell_type": "markdown",
   "metadata": {},
   "source": [
    "### Avant toute chose"
   ]
  },
  {
   "cell_type": "markdown",
   "metadata": {},
   "source": [
    "Envoyer un email à stephan.kunne@univ-nantes.fr\n",
    "\n",
    "**Sujet:** X22M090\n",
    "\n",
    "**Corps du message:**\n",
    " * Nom, Prénom\n",
    " * Réponse aux exercices 5 et 6 ci-dessous\n",
    "\n",
    "**Format de la réponse à l'exercice à votre convenance:**\n",
    "  * Papier + Stylo + Photo\n",
    "  * Texte\n",
    "  * Document latex\n",
    "  * Lien vers une page https://mathb.in"
   ]
  },
  {
   "cell_type": "markdown",
   "metadata": {},
   "source": [
    "## Exercices à préparer"
   ]
  },
  {
   "cell_type": "markdown",
   "metadata": {},
   "source": [
    "### Exercice 5\n",
    "\n",
    "On dispose de 15 fruits différents que l'on répartit dans trois corbeilles (différentes).\n",
    "\n",
    "1. Combien y a-t-il de répartitions possibles ?\n",
    "\n",
    "2. Combien y a-t-il de répartitions laissant au moins une corbeille vide ?"
   ]
  },
  {
   "cell_type": "markdown",
   "metadata": {},
   "source": [
    "**Solution**\n",
    "*Correction de l'exercice 5 dans les diapositives.*\n",
    "\n",
    "Méthode alternative : Utiliser une formule pour calculer le cardinal de l'union de trois événéments non-disjoints:\n",
    "\n",
    "$$|A \\cup B| = |A| + |B| - | A \\cap B|$$\n",
    "\n",
    "$|A \\cup B \\cup C| = |A| + |B| + |C| - | A \\cap B| - |A \\cap C| - |B \\cap C| +  |A \\cap B \\cap C|$"
   ]
  },
  {
   "cell_type": "markdown",
   "metadata": {},
   "source": [
    "### Exercice 6\n",
    "\n",
    "On dispose de 13 livres différents : 4 de mathématiques, 6 de physique et 3\n",
    "  d'informatique.\n",
    "\n",
    "1. Combien de façons y a-t-il de les ranger sur une même étagère ?\n",
    "2. Combien de façons y a-t-il de les ranger en regroupant les livres de mathématiques?\n",
    "3. Combien de façons y a-t-il de les ranger en les regroupant par matière ?"
   ]
  },
  {
   "cell_type": "markdown",
   "metadata": {},
   "source": [
    "**1.** Il faut compter le nombre de permutations d'un ensemble à 13 éléments : $13!$\n",
    "\n",
    "**2.** Il y a $4!$ façons de ranger les 4 livres de mathématiques entre eux. Il y a $9!$ façons de ranger les autres livres entre eux. Il y a $10$ façons d'intercaler le groupe des livres de mathématiques au milieu des $9$ autres livres. Au total il y a $10 \\times 4! \\times 9!$ façons de ranger les 13 livres en regroupant les livres de mathématiques.\n",
    "\n",
    "Comment ranger les 4 livres de mathématiques au milieu des autres livres :\n",
    "\n",
    "MMMM PI PI PI PI PI PI PI PI PI,\n",
    "\n",
    "PI MMMM PI PI PI PI PI PI PI PI,\n",
    "\n",
    "PI PI MMMM PI PI PI PI PI PI PI,\n",
    "\n",
    "PI PI PI MMMM PI PI PI PI PI PI,\n",
    "\n",
    "...,\n",
    "\n",
    "PI PI PI PI PI PI PI PI MMMM PI,\n",
    "\n",
    "PI PI PI PI PI PI PI PI PI MMMM.\n",
    "\n",
    "Ici on a $9$ \"intercalaires\" qui séparent l'étagère en $9+1$ emplacements pour le groupe des livres de mathématiques. D'une manière générale, si on a $k$ intercalaires, ils séparent l'étagère en $k+1$ emplacements.\n",
    "\n",
    "**3.** Il y a $4!$ façons de ranger les 4 livres de mathématiques entre eux. Il y a $6!$ façons de ranger les 6 livres de physique entre eux. Il y a $3!$ façons de ranger les 3 livres d'informatique entre eux. Il y a $3!$ façons de ranger les trois matières entre elles. AU total il y a $4! \\times 6! \\times 3! \\times 3!$ manières de ranger en regroupant par matière."
   ]
  },
  {
   "cell_type": "markdown",
   "metadata": {},
   "source": [
    "### Exercice 7\n",
    "\n",
    "On distribue d'un jeu de 32 cartes, une main de 5 cartes.\n",
    "\n",
    "1. Combien y a-t-il de mains possibles ?\n",
    "2. Quel est le nombre de mains contenant deux rois exactement ?\n",
    "3. Quel est le nombre de mains contenant au moins deux rois ?\n",
    "4. Quel est le nombre de mains contenant au plus trois carreaux ?\n",
    "5. Quel est le nombre de mains contenant cinq cartes de la même couleur (pique, coeur, carreau ou trèfle) ?\n",
    "6. Quel est le nombre de mains contenant cinq cartes rouges ou cinq cartes noires ?"
   ]
  },
  {
   "cell_type": "markdown",
   "metadata": {},
   "source": [
    "**1.** On veut choisir 5 cartes parmi 32 cartes, donc il y a $$M_1 = {32 \\choose 5} = 201376$$ mains possibles.\n",
    "\n",
    "**2.** On choisit ${4 \\choose 2}$ rois et ${28 \\choose 3}$ non-rois. Il y a donc : $$M_2 = {4 \\choose 2} \\times {28 \\choose 3} = 19656$$\n",
    "\n",
    "**3.** On additionne le nombre de mains avec exactement deux rois, exactement trois rois et exactement 4 rois :\n",
    "$$M_3 = {4 \\choose 2} \\times {28 \\choose 3} + {4 \\choose 3} \\times {28 \\choose 2} + {4 \\choose 4} \\times {28 \\choose 1}$$\n",
    "$$M_3 = 6 \\times 3276 + 4  \\times 378 + 1 \\times 28$$\n",
    "$$M_3 = 21196$$\n",
    "\n",
    "**4.** \"Au plus trois carreaux\" est le complémentaire de \"au moins 4 carreaux\". Dans le jeu il y a 8 carreaux et $32-8=24$ non-carreaux. Donc le nombre de mains $M_4$ contenant au plus trois carreaux est :\n",
    "$$M_4 = M_1 - {8 \\choose 4} \\times {24 \\choose 1} - {8 \\choose 5}$$\n",
    "$$M_4 = 201376 - 70 \\times 24 - 56 = 199640$$\n",
    "\n",
    "Alternativement on aurait pu compter le nombre de mains à 0 carreau plus le nombre de mains à 1 carreau plus... plus le nombre de mains à 3 carreaux.\n",
    "Le nombre de mains à 0 carreaux est ${24 \\choose 5}$. Le nombre de mains à 1 carreau est ${8 \\choose 1} \\times {24 \\choose 4}$. Et ainsi de suite :\n",
    "$$M_4 = {24 \\choose 5} + {8 \\choose 1} \\times {24 \\choose 4} + {8 \\choose 2} \\times {24 \\choose 3} + {8 \\choose 3} \\times {24 \\choose 2}$$\n",
    "\n",
    "**5.** D'abord il faut choisir une couleur parmi les 4 : il y a 4 possibilités. Ensuite il faut 5 cartes parmi les 8 de cette couleur. DOnc total $$M_5 = 4 \\times {8 \\choose 5} = 4 \\times 56 = 224$$\n",
    "\n",
    "**6.** D'abord il faut choisir rouge ou noir : deux possibilités. Ensuite il faut choisir 5 cartes parmi les 6 cartes rouges ou les 16 cartes noires. Donc total : $$M_6 = 2 \\times {16 \\choose 5} = 2 \\times 4368 = 8736$$"
   ]
  },
  {
   "cell_type": "markdown",
   "metadata": {},
   "source": [
    "### Exercice 8\n",
    "\n",
    "On jette deux fois un dé équilibré et l'on considère les événements\n",
    "  suivants :\n",
    "  \n",
    "* $E =$ \"la somme des points est paire\" ;\n",
    "* $F =$ \"le 3 est obtenu au moins une fois\".\n",
    "\n",
    "1. Quel est l'ensemble $\\Omega$ de tous les issues possibles?\n",
    "2. Le jet d'un dé équilibré relève du langage codé: comment veut-on que vous le traduisiez?\n",
    "3. Calculer la probabilité des événements $E$ et $F$.\n",
    "4. Calculer la probabilité des événements $E \\cap F$, $E \\cup F$, $E \\cap \\bar F$, $(E \\cap \\bar F) \\cup \\bar E$, après en avoir précisé la signification."
   ]
  },
  {
   "cell_type": "markdown",
   "metadata": {},
   "source": [
    ".."
   ]
  },
  {
   "cell_type": "markdown",
   "metadata": {},
   "source": [
    "## Exercice 9\n",
    "\n",
    "Une urne contient 2 boules blanches et 4 boules noires. On extrait successivement et au hasard toutes les boules. Quelle est la probabilité pour que toutes les boules blanches soient extraites lors des 4 premiers tirages ?"
   ]
  },
  {
   "cell_type": "markdown",
   "metadata": {},
   "source": [
    ".."
   ]
  },
  {
   "cell_type": "markdown",
   "metadata": {},
   "source": [
    "# Coefficients binomiaux\n",
    "## Exercice 10\n",
    "\n",
    "Soit $n$ un entier.\n",
    "\n",
    "1. Calculer: $\\displaystyle\\sum_{k=0}^n k \\binom{n}{k}$ et $ \\displaystyle\\sum_{k=0}^n k(k-1) \\binom{n}{k}.$\n",
    "\n",
    "2. En déduire: $ \\displaystyle\\sum_{k=0}^n k^2 \\binom{n}{k}$."
   ]
  },
  {
   "cell_type": "markdown",
   "metadata": {},
   "source": [
    ".."
   ]
  },
  {
   "cell_type": "markdown",
   "metadata": {},
   "source": [
    "## Exercice 11\n",
    "\n",
    "Soit $n$ un entier strictement positif.\n",
    "\n",
    "1. En dénombrant les façons d'aligner $n$ boules blanches et $n$ boules noires,\n",
    "    montrer que\n",
    "    $$\\binom{2n}{n}=\\displaystyle\\sum_{k=0}^n\\binom{n}{k}^2$$\n",
    "\n",
    "2. Retrouver la relation précédente en utilisant l'identité:\n",
    "    $(1+t)^n(1+t)^n=(1+t)^{2n}$."
   ]
  },
  {
   "cell_type": "markdown",
   "metadata": {},
   "source": [
    ".."
   ]
  }
 ],
 "metadata": {
  "kernelspec": {
   "display_name": "Python 3",
   "language": "python",
   "name": "python3"
  },
  "language_info": {
   "codemirror_mode": {
    "name": "ipython",
    "version": 3
   },
   "file_extension": ".py",
   "mimetype": "text/x-python",
   "name": "python",
   "nbconvert_exporter": "python",
   "pygments_lexer": "ipython3",
   "version": "3.9.1"
  }
 },
 "nbformat": 4,
 "nbformat_minor": 4
}
