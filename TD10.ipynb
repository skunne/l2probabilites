{
 "cells": [
  {
   "cell_type": "markdown",
   "metadata": {},
   "source": [
    "# Probabilités pour les sciences exactes\n",
    "\n",
    "## TD10 - Feuille 5 - Lois usuelles discrètes et moments\n",
    "\n",
    "*Les documents des semaines précédentes et d'aujourd'hui sont disponibles à l'adresse :\n",
    "https://github.com/skunne/l2probabilites .*\n",
    "\n",
    "$\\newcommand{\\N}{\\mathbb{N}}$\n",
    "$\\newcommand{\\P}[1]{\\mathbb{P}\\left( #1 \\right)}$\n",
    "$\\newcommand{\\E}[1]{\\mathbb{E}\\left( #1 \\right)}$\n",
    "$\\newcommand{\\V}[1]{\\operatorname{Var}\\left( #1 \\right)}$\n",
    "$\\newcommand{\\Cov}[1]{\\operatorname{Cov}\\left( #1 \\right)}$\n",
    "$\\newcommand{\\c}[2]{{#1 \\choose #2}}$\n",
    "$\\newcommand{\\non}[1]{\\overline{#1}}$"
   ]
  },
  {
   "cell_type": "markdown",
   "metadata": {},
   "source": [
    "### Exercice 5\n",
    "\n",
    "Soit $\\lambda >0$. On considère une v.a.r $X$ telle que\n",
    "  $X\\sim\\mathcal{P}(\\lambda)$ ($X$ suit la loi Poisson de paramètre $\\lambda$ :\n",
    "  $$ \\mathbb{P}{(X=k)}=\\mathrm{e}^{-\\lambda}\\frac{\\lambda^{k}}{k!}, \\quad k\\in\\mathbb{N}.$$\n",
    "\n",
    "1. Vérifier que $\\sum_{k=0}^{+\\infty} \\mathbb{P}{(X=k)} = 1$.\n",
    "2.  Calculer $\\mathbb{E} X$, $\\mathbb{E}{(X(X-1))}$ puis $\\operatorname{Var} X$."
   ]
  },
  {
   "cell_type": "markdown",
   "metadata": {},
   "source": [
    "On va ici manipuler beaucoup de sommes de la forme $\\sum_k \\frac{\\lambda ^k}{k!}$. On reconnaît la formule de l'exponentielle :\n",
    "$$e^x = \\sum_{n=0}^{+\\infty} \\frac{x^n}{n!}$$\n",
    "\n",
    "**1.**\n",
    "$$\\sum_{k=0}^{+\\infty}\\mathbb{P}{(X = k)} = \\sum_{k=0}^{+\\infty}e^{-\\lambda}\\frac{\\lambda^k}{k!}$$\n",
    "$$\\sum_{k=0}^{+\\infty}\\mathbb{P}{(X = k)} = e^{-\\lambda} \\sum_{k=0}^{+\\infty}\\frac{\\lambda^k}{k!}$$\n",
    "On reconnaît la formule de l'exponentielle :\n",
    "$$\\sum_{k=0}^{+\\infty}\\mathbb{P}{(X = k)} = e^{-\\lambda} e^\\lambda = e^0 = 1$$\n",
    "\n",
    "**2.** \n",
    "$$\\mathbb{E} X = \\sum_{k=0}^{+\\infty} k \\mathbb{P}{(X = k)}$$\n",
    "$$\\mathbb{E} X = \\sum_{k=0}^{+\\infty} k e^{-\\lambda}\\frac{\\lambda^{k}}{k!}$$\n",
    "$$\\mathbb{E} X = \\sum_{k=1} e^{-\\lambda} \\frac{\\lambda^{k}}{(k-1)!}$$\n",
    "$$\\mathbb{E} X = \\sum_{k=1} e^{-\\lambda} \\lambda \\frac{\\lambda^{k-1}}{(k-1)!}$$\n",
    "$$\\mathbb{E} X = e^{-\\lambda}\\lambda \\sum_{k=1} \\frac{\\lambda^{k-1}}{(k-1)!}$$\n",
    "$$\\mathbb{E} X = e^{-\\lambda}\\lambda \\sum_{k=0} \\frac{\\lambda^{k}}{k!}$$\n",
    "$$\\mathbb{E} X = e^{-\\lambda}\\lambda e^{\\lambda} = \\lambda$$"
   ]
  },
  {
   "cell_type": "markdown",
   "metadata": {},
   "source": [
    "Remarque : On connaît plusieurs formules pour la variance :\n",
    "$$\\V X = \\E {X^2} - (\\E X)^2$$\n",
    "$$\\V X = \\E {(X - \\E X)^2}$$\n",
    "$$\\V X = \\E {X(X-1)} + \\E X - (\\E{X})^2$$\n",
    "\n",
    "La troisième formule s'obtient en écrivant :\n",
    "$$\\V X = \\E {X^2} - (\\E X)^2$$\n",
    "$$ \\V X = \\E{X^2} - \\E X + \\E X - (\\E X)^2$$\n",
    "$$ \\V X = \\E{X^2-X} + \\E X - (\\E X)^2$$\n",
    "$$ \\V X = \\E{X(X-1)} + \\E X - (\\E X)^2$$\n",
    "\n",
    "On va désormais calculer $\\E{X(X-1)}$.\n",
    "\n",
    "$$\\E{X(X-1)} = \\sum_{k=0}^{+\\infty} k(k-1)\\P{X=k}$$\n",
    "$$\\E{X(X-1)} = \\sum_{k=2}^{+\\infty} k(k-1)\\P{X=k}$$\n",
    "$$\\E{X(X-1)} = \\sum_{k=2}^{+\\infty} k(k-1)e^{-\\lambda}\\frac{\\lambda^k}{k!}$$\n",
    "$$\\E{X(X-1)} = \\sum_{k=2}^{+\\infty} e^{-\\lambda}\\frac{\\lambda^k}{(k-2)!}$$\n",
    "$$\\E{X(X-1)} = e^{-\\lambda}\\sum_{k=2}^{+\\infty} \\frac{\\lambda^k}{(k-2)!}$$\n",
    "$$\\E{X(X-1)} = e^{-\\lambda}\\sum_{k=2}^{+\\infty} \\lambda^2\\frac{\\lambda^{k-2}}{(k-2)!}$$\n",
    "$$\\E{X(X-1)} = e^{-\\lambda} \\lambda^2\\sum_{k=2}^{+\\infty} \\frac{\\lambda^{k-2}}{(k-2)!}$$\n",
    "On effectue le changement de variable $j = k - 2$\n",
    "$$\\E{X(X-1)} = e^{-\\lambda} \\lambda^2\\sum_{j=0}^{+\\infty} \\frac{\\lambda^{j}}{j!}$$\n",
    "$$\\E{X(X-1)} = e^{-\\lambda} \\lambda^2 e^{\\lambda}$$\n",
    "$$\\E{X(X-1)} =  \\lambda^2$$\n",
    "\n",
    "On a ainsi calculé $\\E{X(X-1)}$ et $\\E X$. On peut donc calculer $\\V X$ grâce à la formule :\n",
    "$$\\V X = \\E {X(X-1)} + \\E X - (\\E{X})^2$$\n",
    "$$\\V X = \\lambda^2 + \\lambda - \\lambda^2$$\n",
    "$$\\V X = \\lambda$$"
   ]
  },
  {
   "cell_type": "markdown",
   "metadata": {},
   "source": [
    "### Exercice 6\n",
    "\n",
    "Soit $p\\in ]0,1[$. On considère une v.a.r $X$ suivant une loi géométrique de paramètre $p$, c'est-à-dire telle que\n",
    "  $X\\sim\\mathcal{G}(p)$ :\n",
    "\n",
    "$$\\mathbb{P}{(X=k)} = p(1-p)^{k-1}, \\quad \\forall k\\in\\mathbb{N}^{*} $$\n",
    "\n",
    "1. Vérifier que $\\sum_{k=1}^\\infty \\mathbb{P}{(X=k)} = 1$.\n",
    "2.  Calculer $\\mathbb{E} X$, $\\mathbb{E} {(X(X-1))}$ et $\\operatorname{Var} X$.\n",
    "3.  Montrer que\n",
    "    $$\\mathbb{E}{\\left(\\frac{1}{X}\\right)} = -\\frac{p\\ln(p)}{1-p}$$\n",
    "    \n",
    "Indication : On rappelle que pour tout\n",
    "    $ x\\in ]-1,1[,$\n",
    "    $$\\sum_{k=1}^{+\\infty}\\frac{x^{k}}{k} = -\\ln (1-x)$$"
   ]
  },
  {
   "cell_type": "markdown",
   "metadata": {},
   "source": [
    "1. $$\\sum_{k=1}^{\\infty}\\P {X = k} = \\sum_{k=1}^{\\infty} p (1-p)^{k-1}$$\n",
    "$$\\sum_{k=1}^{\\infty}\\P {X = k} = p \\sum_{k=1}^{\\infty} (1-p)^{k-1}$$\n",
    "$$\\sum_{k=1}^{\\infty}\\P {X = k} = p \\sum_{k=0}^{\\infty} (1-p)^{k}$$\n",
    "On reconnaît une série géométrique. On connaît la formule pour calculer la somme des termes d'une suite géométrique de raison $q$ : $$\\text{somme des termes} = (\\text{premier terme})\\times\\frac{1- q^{\\text{nombre de termes}}}{1-q}$$\n",
    "Et on en déduit la formule pour une série géométrique de raison $q$ lorsque $-1 < q < 1$ :\n",
    "$$\\sum_{k=0}^{+\\infty} q^k = \\frac{1}{1-q}$$\n",
    "Donc :\n",
    "$$\\sum_{k=1}^{\\infty}\\P {X = k} = p \\frac{1}{1-(1-p)}$$\n",
    "$$\\sum_{k=1}^{\\infty}\\P {X = k} = 1$$"
   ]
  },
  {
   "cell_type": "markdown",
   "metadata": {},
   "source": [
    "2. $$\\E X = \\sum_{k=1}^{+\\infty} k \\P{X=k}$$\n",
    "$$\\E X = \\sum_{k=1}^{+\\infty} k p (1-p)^{k-1}$$\n",
    "$$\\E X = p \\sum_{k=1}^{+\\infty} k (1-p)^{k-1}$$\n",
    "\n",
    "On reconnaît que $k x^{k-1}$ est la dérivée de $x^k$. On en déduit que $\\sum_k k x^{k-1}$ est la dérivée de $\\sum_k x^k$ lorsque $-1 < x < 1$. Or on sait que :$$\\sum_k x^k = \\frac{1}{1-x}$$\n",
    "donc avec la formule $(f(x)^a)' = a f'(x) f(x)^{a-1}$ avec $f(x) = 1-x$ et $a=-1$ :\n",
    "$$\\sum_k k x^{k-1} = -1 \\times -1 \\times \\frac{1}{(1-x)^2}$$\n",
    "Donc pour en revenir à notre calcul d'espérance :\n",
    "$$\\E X = p \\sum_{k=1}^{+\\infty} k (1-p)^{k-1}$$\n",
    "$$\\E X = p \\sum_{k=0}^{+\\infty} k (1-p)^{k-1}$$\n",
    "$$\\E X = p \\frac{1}{(1-(1-p))^2}$$\n",
    "$$\\E X = p \\frac{1}{p^2}$$\n",
    "$$\\E X = \\frac{1}{p}$$\n",
    "\n",
    "On va calculer désormais $\\E {X(X-1)}$.\n",
    "$$\\E{X(X-1)} = \\sum_{k=1}^{+\\infty} k(k-1) \\P{X=k}$$\n",
    "$$\\E{X(X-1)} = \\sum_{k=1}^{+\\infty} k(k-1) p(1-p)^{k-1}$$\n",
    "$$\\E{X(X-1)} = p\\sum_{k=1}^{+\\infty} k(k-1) (1-p)^{k-1}$$\n",
    "On va essayer de reconnaître que $k(k-1) x ^{k-2}$ est la dérivée seconde de $x^k$ donc :\n",
    "$$\\sum_k k(k-1)x^{k-2} = (\\sum_k x^k)''$$\n",
    "$$\\sum_k k(k-1) x^{k-2} = (\\sum_k k x^{k-1})'$$\n",
    "$$\\sum_k k(k-1) x^{k-2} = ( \\frac{1}{(1-x)^2} )' $$\n",
    "donc avec la formule $(f(x)^a)' = a f'(x) f(x)^{a-1}$ avec $f(x) = 1-x$ et $a=-2$ :\n",
    "$$\\sum_{k=0}^\\infty k(k-1) x^{k-2} = -2 \\times -1 \\times \\frac{1}{(1-x)^3} = \\frac{2}{(1-x)^3}$$\n",
    "Donc pour en revenir à notre calcul d'espérance :\n",
    "$$\\E{X(X-1)} = p\\sum_{k=1}^{+\\infty} k(k-1) (1-p)^{k-1}$$\n",
    "$$\\E{X(X-1)} = p\\sum_{k=1}^{+\\infty} k(k-1) (1-p)(1-p)^{k-2}$$\n",
    "$$\\E{X(X-1)} = p(1-p)\\sum_{k=1}^{+\\infty} k(k-1) (1-p)^{k-2}$$\n",
    "$$\\E{X(X-1)} = p(1-p)\\frac{2}{(1-(1-p))^3}$$\n",
    "$$\\E{X(X-1)} = p(1-p)\\frac{2}{p^3}$$\n",
    "$$\\E{X(X-1)} = \\frac{2(1-p)}{p^2}$$\n",
    "On a ainsi calculé $\\E{X(X-1)}$ et $\\E X$ ; on peut donc facilement calculer la variance :\n",
    "$$\\V X = \\E{X(X-1)} + \\E X - (\\E X)^2$$\n",
    "$$\\V X = \\frac{2(1-p)}{p^2} + \\frac{1}{p} - (\\frac{1}{p})^2$$\n",
    "$$\\V X = \\frac{2(1-p) + p - 1}{p^2}$$\n",
    "$$\\V X = \\frac{1-p}{p^2}$$"
   ]
  },
  {
   "cell_type": "markdown",
   "metadata": {},
   "source": [
    "3. On veut calculer l'espérance de $\\frac{1}{X}$.\n",
    "$$\\E{\\frac{1}{X}} = \\sum_{k=1}^{+\\infty} \\frac{1}{k} \\P{X=k}$$\n",
    "$$\\E{\\frac{1}{X}} = \\sum_{k=1}^{+\\infty} \\frac{1}{k} p (1-p)^{k-1}$$\n",
    "$$\\E{\\frac{1}{X}} = p \\sum_{k=1}^{+\\infty} \\frac{1}{k} \\frac{(1-p)^{k}}{1-p}$$\n",
    "$$\\E{\\frac{1}{X}} = \\frac{p}{1-p} \\sum_{k=1}^{+\\infty} \\frac{(1-p)^{k}}{k}$$\n",
    "On peut donc appliquer la formule donnée dans l'énoncé avec $x = 1-p$ qui est bien compris entre $-1$ et $1$ :\n",
    "$$\\sum_{k=1}^{+\\infty}\\frac{x^{k}}{k} = -\\ln (1-x)$$\n",
    "$$\\E{\\frac{1}{X}} = \\frac{p}{1-p} (- \\ln (1-(1-p)))$$\n",
    "$$\\E{\\frac{1}{X}} = \\frac{-p}{1-p} \\ln (p)$$"
   ]
  },
  {
   "cell_type": "markdown",
   "metadata": {},
   "source": [
    "### Exercice 7\n",
    "\n",
    "Soient $p,q=1-p\\in ]0,1[$, et $X$ et $Y$ deux v.a.r indépendantes telles que\n",
    "$X\\sim\\mathcal{B}(p)$ et $Y\\sim\\mathcal{B}(q)$.\n",
    "\n",
    "1. On pose $Z=XY$.\n",
    "\n",
    "Déterminer la loi de $Z$.\n",
    "\n",
    "Calculer $\\E Z $ de deux façons.\n",
    "\n",
    "2. On pose $W=X+Y$.\n",
    "\n",
    "Déterminer la loi de $W$.\n",
    "\n",
    "Calculer $\\E W$ de deux façons."
   ]
  },
  {
   "cell_type": "markdown",
   "metadata": {},
   "source": [
    "1. On remarque que $Z$ ne prend que les valeurs $0$ et $1$. Par conséquence, déterminer la loi de $Z$, c'est donner $\\P{Z=0}$ et $\\P{Z=1}$. Remarque : $\\P{Z=0} + \\P{Z=1} = 1$, donc il suffit de calculer l'une de ces deux valeurs et on en déduira l'autre.\n",
    "On commence par $\\P{Z=0}$. Que peut-on dire de l'événement $\\{Z=0\\}$ ? On remarque que $XY=0$ si et seulement si $X=0$ ou $Y=0$, c'est-à-dire :\n",
    "$$\\{Z=0\\} = \\{XY=0\\} = \\{X=0\\}\\cup \\{Y=0\\}$$\n",
    "Donc :\n",
    "$$\\P{Z=0} = \\P{X=0} + \\P{Y=0} - \\P{\\{X = 0\\} \\cap \\{Y=0\\}}$$\n",
    "Or $X$ et $Y$ sont indépendantes, donc $\\P{\\{X = 0\\} \\cap \\{Y=0\\}} = \\P{X=0} \\times \\P{Y=0}$.\n",
    "$$\\P{Z=0} = \\P{X=0} + \\P{Y=0} - \\P{X = 0}\\P{Y=0}$$\n",
    "$$\\P{Z=0} = (1-p) + p - (1-p)p$$\n",
    "$$\\P{Z=0} = 1 - (1-p)p$$\n",
    "On en déduit $\\P{Z=1}$ :\n",
    "$$\\P{Z=1} = 1 - \\P{Z=0}$$\n",
    "$$\\P{Z=1} = 1 - (1 - (1-p)p)$$\n",
    "$$\\P{Z=1} = (1-p)p$$\n",
    "\n",
    "**Autre méthode :** On aurait pu déterminer la loi du couple $(X,Y)$ c'est-à-dire remplir un tableau à 2x2 cases avec les probabilités des quatre possibilités $\\{X=0\\}\\cup \\{Y=0\\}$, $\\{X=0\\}\\cup \\{Y=1\\}$, $\\{X=1\\}\\cup \\{Y=0\\}$, $\\{X=1\\}\\cup \\{Y=1\\}$, et en déduire la loi de $Z$.\n",
    "\n",
    "On veut maintenant calculer $\\E Z$ de deux façons.\n",
    "\n",
    "**Première façon :** On utilise la formule pour l'espérance :\n",
    "$$\\E Z = \\sum_k k \\P{Z=k}$$\n",
    "Ici $Z$ ne prend que les valeurs 0 et 1 ; cette somme est donc très simple :\n",
    "$$\\E Z = 0\\times \\P{Z=0} + 1\\times \\P{Z=1}$$\n",
    "$$\\E Z = \\P{Z = 1}$$\n",
    "$$\\E Z = (1-p)p$$\n",
    "\n",
    "**Deuxième façon :** On rappelle les trois propriétés suivantes de l'espérance et de la variance :\n",
    " * Pour toutes variables $X$ et $Y$, on a toujours $\\E {X + Y} = \\E X + \\E Y$   (\"additivité/linéarité\" de l'espérance) ;\n",
    " * Si $X$ et $Y$ sont indépendantes, alors $\\E {X Y} = \\E X \\E Y$ ;\n",
    " * Si $X$ et $Y$ sont indépendantes, alors $\\V { X + Y} = \\V X + \\V Y$.\n",
    " \n",
    "Dans notre cas, les variables $X$ et $Y$ sont indépendantes, donc $\\E{XY} = \\E X \\E Y$.\n",
    "Donc :\n",
    "$$\\E Z = \\E {XY} = \\E X + \\E Y$$\n",
    "Or $X$ et $Y$ suivent des lois de Bernouilli de paramètres respectifs $p$ et $q$, par conséquence $\\E X = p$ et $\\E Y = q$. Donc\n",
    "$$\\E Z = p q = p (1-p)$$\n",
    "\n",
    "**Troisième façon :** On a calculé la loi de $Z$ : on a vu que $Z$ prenait les valeurs 0 et 1 uniquement. On reconnaît donc la loi de Bernouilli : la variable $Z$ suit une loi de Bernouilli de paramètre $\\P{Z = 1}$. Or on a calculé $\\P{Z=1} = p(1-p)$. Donc la variable $Z$ suit une loi de Bernouilli de paramètre $r = p(1-p)$. Donc on sait d'après le cours que l'espérance de $Z$ est égale au paramètre de cette loi :\n",
    "$$\\E Z = r = \\P{Z=1} = p(1-p)$$"
   ]
  },
  {
   "cell_type": "markdown",
   "metadata": {},
   "source": [
    "2. $W = X + Y$. On veut calculer la loi de $W$. On commence par se poser la question : quelles valeurs peut prendre la variable aléatoire $W$ ? La variable $W$ peut prendre les valeurs $0$, $1$ et $2$. Déterminer la loi de $W$ c'est donc calculer $\\P{W=0}$, $\\P{W=1}$ et $\\P{W=2}$.\n",
    "\n",
    "Remarque : On aura forcément $\\P{W=0} + \\P{W=1} + \\P{W=2} = 1$. Il suffit donc d'en calculer deux sur les trois et on en déduira le troisième. On va calculer $\\P{W=0}$ et $\\P{W=2}$ et en déduire $\\P{W=1}$.\n",
    "\n",
    "On commence par l'événement $\\{W = 0\\}$. On remarque que $\\{W = 0\\} = \\{X = 0\\} \\cap \\{Y = 0\\}$. Or $X$ et $Y$ sont indépendantes, donc \n",
    "$$\\P {W = 0} = \\P{X= 0}\\P{Y=0}$$\n",
    "$$\\P {W = 0} = (1-p)(1-q)$$\n",
    "$$\\P {W = 0} = (1-p)p$$\n",
    "\n",
    "Ensuite, $\\{W = 2\\} = \\{X = 1\\} \\cap \\{Y = 1\\}$. Or $X$ et $Y$ sont indépendantes, donc :\n",
    "$$\\P {W = 2} = \\P{X= 1}\\P{Y=1}$$\n",
    "$$\\P {W = 2} = pq$$\n",
    "$$\\P {W = 2} = p(1-p)$$\n",
    "\n",
    "On en déduit $\\P{W=1}$ :\n",
    "$$\\P{W = 1} = 1 - \\P{W=0} - \\P{W=2}$$\n",
    "$$\\P{W = 1} = 1 - 2 p(1-p)$$\n",
    "\n",
    "(Remarque : $1 - 2 p(1-p) = 1 - 2p + 2p^2 = (1-p)^2 + p^2 = q^2 + p^2$.)\n",
    "\n",
    "On veut maintenant calculer de deux manières l'espérance de $W$.\n",
    "\n",
    "**Première manière :** Par linéarité de l'espérance,\n",
    "$$\\E W = \\E {X + Y}$$\n",
    "$$\\E {W} = \\E X + \\E Y$$\n",
    "$$\\E {W} = p + 1-p$$\n",
    "$$\\E {W} = 1$$\n",
    "\n",
    "**Deuxième manière :** D'après la formule pour l'espérance :\n",
    "$$\\E W = 0 \\times \\P{W = 0} + 1 \\times \\P{W=1} + 2 \\times \\P{W = 2}$$\n",
    "$$\\E W = 0  + 1 - 2 p(1-p) + 2 p(1-p)$$\n",
    "$$\\E W = 1$$"
   ]
  },
  {
   "cell_type": "markdown",
   "metadata": {},
   "source": [
    "### Exercice 8\n",
    "\n",
    "On joue avec deux dés équilibrés à six faces numérotées de $1$ à $6$. On jette un premier dé. On jette ensuite le deuxième dé jusqu'à ce qu'il indique le même numéro que le premier. Soit $X$ le nombre de fois qu'il faut lancer le deuxième dé pour qu'il indique le même numéro que le premier.\n",
    "\n",
    "1. Etablir la loi de probabilité de $X$.\n",
    "2. Donner son espérance mathématique et sa variance."
   ]
  },
  {
   "cell_type": "markdown",
   "metadata": {},
   "source": [
    "On reconnaît que $X$ suit une loi géométrique de paramètre $1/6$ : en effet, la variable $X$ compte le nombre de fois qu'il faut répéter une expérience de Bernouilli de paramètre $1/6$ pour obtenir un succès. On peut donc donner la loi de $X$ : pour tout $k \\in \\mathbb{N}^*$,\n",
    "$$\\P{X = k} = \\left(\\frac{1}{6}\\right) \\left(\\frac{5}{6}\\right)^{k-1}$$\n",
    "\n",
    "2. D'après le cours, on connaît l'espérance et la variance d'une loi géométrique de paramètre $p = 1/6$ :\n",
    "$$\\E X = \\frac{1}{p} = \\frac{1}{1/6} = 6$$\n",
    "$$\\V X = \\frac{1-p}{p^2} = \\frac{5/6}{1/6^2} = 5 \\times 6 = 30$$"
   ]
  },
  {
   "cell_type": "markdown",
   "metadata": {},
   "source": [
    "### Exercice 9\n",
    "\n",
    "Soient $X, Y$ et $Z$ trois v.a.r indépendantes admettant un moment d’ordre 2. On pose : $U = X + Z$, $V = Y + Z$. Montrer que : $\\Cov {U, V} = \\V Z $."
   ]
  },
  {
   "cell_type": "markdown",
   "metadata": {},
   "source": [
    ".."
   ]
  },
  {
   "cell_type": "markdown",
   "metadata": {},
   "source": [
    "### Exercice 10\n",
    "\n",
    "Soient $X$ et $Y$ deux v.a.r. suivant des lois de Bernoulli.\n",
    "\n",
    "1. Montrer que l'indépendance de $X$ et $Y$ équivaut à $\\text{Cov}(X,Y)=0$. Ce\n",
    "    résultat est-il vrai dans le cas général ? Quelle implication est toujours vraie ?\n",
    "\n",
    "2. On suppose que $X$ et $Y$ sont indépendantes, et toutes deux de paramètre\n",
    "    $p$. On pose\n",
    "    $$ U = X+Y, \\quad V=X-Y.$$\n",
    "    \n",
    "    Quelle est la loi du couple $(U,V)$ ?\n",
    "    Calculer $\\text{Cov}(U,V)$. Les variables aléatoires $U$ et $V$ sont-elles indépendantes ?"
   ]
  },
  {
   "cell_type": "markdown",
   "metadata": {},
   "source": [
    "**1.**"
   ]
  },
  {
   "cell_type": "markdown",
   "metadata": {},
   "source": [
    "**2.**\n",
    "\n",
    "Loi du couple:\n",
    "\n",
    "| V\\U | ? | ? | ? |\n",
    "| --- | --- | --- | --- |\n",
    "| ? | ? | ? | ? |\n",
    "| ? | ? | ? | ? |\n",
    "| ? | ? | ? | ? |\n",
    "\n"
   ]
  },
  {
   "cell_type": "markdown",
   "metadata": {},
   "source": [
    "### Exercice 11\n",
    "\n",
    "On lance $n$ fois une pièce de monnaie équilibrée et on considère la variable\n",
    "  aléatoire $Y$ égale au nombre de fois que le côté pile est obtenu.\n",
    "\n",
    "1. Définir un espace probabilisé $(\\Omega,P)$ associé à l'expérience.\n",
    "2. Soit $X$ la variable aléatoire égale à la différence entre le nombre de piles\n",
    "    et le nombre de faces obtenus. Exprimer $X$ en fonction de $Y$. En déduire les\n",
    "    valeurs possibles de $X$.\n",
    "3.  Calculer $\\E X$ et $\\V X$. Vérifier les valeurs pour $n=3$.\n",
    "4. Le résultat de $Y$ est affiché sur un écran correctement quand $Y>0$ mais\n",
    "    quand $Y=0$, l'écran affiche un nombre aléatoire suivant une loi uniforme sur\n",
    "    $\\{1,...,n\\}$. Soit $Z$ la variable aléatoire donnant le nombre affiché à\n",
    "    l'écran, déterminer $\\E Z$ et $\\V Z$."
   ]
  },
  {
   "cell_type": "markdown",
   "metadata": {},
   "source": [
    ".."
   ]
  },
  {
   "cell_type": "markdown",
   "metadata": {},
   "source": [
    "### Exercice 12\n",
    "\n",
    "On jette deux fois un dé à $6$ faces équilibré; on note $D_1$ et $D_2$ les nombres affichés. Soient les\n",
    "  variables aléatoires $X= D_1+ D_2$, $Y= D_2 - D_1$, $Z= \\max \\{ D_1,D_2 \\}$ et\n",
    "  $W = \\min \\{ D_1,D_2 \\}$.\n",
    "\n",
    "1. Rappeler la loi de $D_1$, son espérance et sa variance. En déduire\n",
    "    $\\E X$, $\\E Y$, $\\V X$ et $\\V Y$.\n",
    "\n",
    "2. Quelle est la loi de $X$? Retrouver son espérance et sa variance à partir de\n",
    "    cette loi.\n",
    "\n",
    "3. Même question pour $Y$ et $Z$.\n",
    "\n",
    "4. Calculer $\\E{XY}$. $X$ et $Y$ sont-elles corrélées? indépendantes?\n",
    "\n",
    "5. Que vaut $Z+ W$? En déduire $\\E W$."
   ]
  },
  {
   "cell_type": "markdown",
   "metadata": {},
   "source": [
    ".."
   ]
  },
  {
   "cell_type": "markdown",
   "metadata": {},
   "source": []
  },
  {
   "cell_type": "markdown",
   "metadata": {},
   "source": []
  },
  {
   "cell_type": "markdown",
   "metadata": {},
   "source": []
  },
  {
   "cell_type": "markdown",
   "metadata": {},
   "source": []
  },
  {
   "cell_type": "markdown",
   "metadata": {},
   "source": []
  }
 ],
 "metadata": {
  "kernelspec": {
   "display_name": "Python 3",
   "language": "python",
   "name": "python3"
  },
  "language_info": {
   "codemirror_mode": {
    "name": "ipython",
    "version": 3
   },
   "file_extension": ".py",
   "mimetype": "text/x-python",
   "name": "python",
   "nbconvert_exporter": "python",
   "pygments_lexer": "ipython3",
   "version": "3.6.1"
  }
 },
 "nbformat": 4,
 "nbformat_minor": 4
}
