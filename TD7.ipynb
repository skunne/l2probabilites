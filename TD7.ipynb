{
 "cells": [
  {
   "cell_type": "markdown",
   "metadata": {},
   "source": [
    "# Probabilités pour les sciences exactes\n",
    "\n",
    "## TD7 - Feuille 2 - Conditionnement, indépendance\n",
    "\n",
    "*Les documents des semaines précédentes et d'aujourd'hui sont disponibles à l'adresse :\n",
    "https://github.com/skunne/l2probabilites .*\n",
    "\n",
    "$\\newcommand{\\N}{\\mathbb{N}}$\n",
    "$\\newcommand{\\P}[1]{\\mathbb{P}\\left( #1 \\right)}$\n",
    "$\\newcommand{\\c}[2]{{#1 \\choose #2}}$\n",
    "$\\newcommand{\\non}[1]{\\overline{#1}}$"
   ]
  },
  {
   "cell_type": "markdown",
   "metadata": {},
   "source": [
    "### Exercice 9\n",
    "\n",
    " On vous présente un homme. Au cours de la conversation, vous\n",
    "  apprenez qu'il a deux enfants, dont au moins une fille.\n",
    "  \n",
    "1. Quelle est la probabilité qu'il ait deux filles ? Justifier en introduisant un espace de probabilité et des événements convenables.\n",
    "  \n",
    "2. Vous apprenez que l'aîné est une fille. Comment change la probabilité qu'il ait deux filles ?"
   ]
  },
  {
   "cell_type": "markdown",
   "metadata": {},
   "source": [
    "On définit l'univers $\\Omega = \\{f,g\\}^2 = \\{f, g\\} \\times \\{f, g\\} = \\{ (ff), (fg), (gf), (gg) \\}$ où le premier élément de chaque paire représente l'enfant le plus jeune et le deuxième élément l'enfant le plus âgé. On munit $\\Omega$ de la probabilité uniforme (ici on utilise l'hypothèse que à chaque fois qu'un enfant nait, il a une chance sur deux d'être une fille et une chance sur deux un garçon ; et les sexes des deux enfants sont indépendants).\n",
    "\n",
    "Comme $\\Omega$ est muni de la probabilité uniforme, la probabilité d'un événement $E$ est $|E| / |\\Omega|$.\n",
    "\n",
    "On définit trois événements :\n",
    " * $A =$ \"avoir deux filles\" $= \\{ (ff) \\}$ ;\n",
    " * $B =$ \"au moins une fille\" $= \\{ (ff), (fg), (gf) \\}$ ;\n",
    " * $C=$ \"l'ainé est une fille\" $= \\{ (ff), (gf) \\}$.\n",
    " \n",
    "1. Répondre à la question 1 c'est calculer $\\P{A | B}$ :\n",
    "$$\\P{A | B} = \\frac{\\P{A \\cap B}}{\\P B}$$\n",
    "On remarque que $A \\subset B$, donc $A \\cap B = A = \\{ (ff) \\}$. Donc $\\P{A \\cap B} = \\P A = |A| / |\\Omega| = \\frac{1}{4}$.\n",
    "\n",
    "Par ailleurs $\\P B = |B| / |\\Omega| = 3 / 4$.\n",
    "Donc : $$\\P{A | B} = \\frac{\\P{A \\cap B}}{\\P B} = \\frac{1/4}{3/4} = \\frac{1}{3}$$"
   ]
  },
  {
   "cell_type": "markdown",
   "metadata": {},
   "source": [
    "**2.** Répondre à la deuxième c'est calculer $\\P{A | C}$ :\n",
    "$$\\P {A | C} = \\frac{\\P{A \\cap C}}{\\P C}$$\n",
    "Ici encore, on remarque $A \\subset C$ ; donc $A \\cap C = A$ ; donc $\\P{A \\cap C} = \\P A = 1/4$.\n",
    "\n",
    "Par ailleurs $\\P C = |C| / | \\Omega | = 2 / 4 = 1/2$.\n",
    "\n",
    "Donc :\n",
    "$$\\P {A | C} = \\frac{\\P{A \\cap C}}{\\P C} = \\frac{1/4}{2/4} = \\frac{1}{2}$$"
   ]
  },
  {
   "cell_type": "markdown",
   "metadata": {},
   "source": [
    "### Exercice 10 (les malades imaginaires de Bayes)\n",
    "\n",
    "Une maladie touche une personne sur 10000. Un laboratoire pharmaceutique a mis au point un test de dépistage, et il annonce les résultats suivants :\n",
    " * si une personne porteuse de la maladie passe le test, celui-ci est positif à 99%.\n",
    " * si une personne saine passe le test, celui-ci est négatif à 99,9%.\n",
    "\n",
    "1. Calculer la probabilité que le test soit positif pour une personne saine. C'est ce qu'on appelle le taux de faux positifs.\n",
    "\n",
    "2. Calculer la probabilité que le test soit négatif pour une personne porteuse de la maladie.\n",
    "\n",
    "3. Calculer la probabilité qu'une personne dont le test est positif soit porteuse de la maladie.\n",
    "\n",
    "4. Le test est-il fiable ?"
   ]
  },
  {
   "cell_type": "markdown",
   "metadata": {},
   "source": [
    "On fait passer le test à une personne au hasard. On s'intéresse aux événements :\n",
    " * $M =$ \"la personne est malade\" ;\n",
    " * $T =$ \"le test est positif\" ;\n",
    " * $\\bar M =$ \"la personne est saine\" ;\n",
    " * $\\bar T =$ \"le test négatif\".\n",
    " \n",
    " L'énoncé nous donne les informations suivantes :\n",
    " * $\\P M = 10^{-4}$\n",
    " * $\\P {T | M} = 99 \\% = {1 - 10^{-2}}$\n",
    " * $\\P {\\bar T | \\bar M } = 99.9\\% = 1 - 10^{-3}$\n",
    " \n",
    "On rappelle que les probabilités conditionnelles donnent des lois de probabilités : $\\P { - | M}$ c'est une probabilité. En particulier  $\\P { \\bar T | M} = 1 - \\P { T | M}$ ; de la même manière, $\\P {T | \\bar M } = 1 - \\P {\\bar T | \\bar M }$. On a donc les informations complémentaires suivantes :\n",
    " * $\\P {\\bar T | M} = 1 \\% = {10^{-2}}$\n",
    " * $\\P {T | \\bar M } = 0.1 \\% = 10^{-3}$\n",
    " \n",
    "**En apparté :** Quelle est la différence entre $\\P { T \\cap M }$ et $\\P {T | M}$ ? On rappelle que la définition des probabilités conditionnelles donne :\n",
    "$$\\P {T | M} = \\frac{\\P {T \\cap M}}{\\P M}$$\n",
    "\n",
    "**1.** Calculer la probabilité que le test soit positif pour une personne saine. C'est-à-dire donner la valeur $\\P {T | \\bar M} = 10^{-3}$.\n",
    "\n",
    "**2.** Calculer la probabilité que le test soit négatif pour une personne porteuse de la maladie. C'est-à-dire donner la valeur $\\P {\\bar T | M} = 10^{-2}$.\n",
    "\n",
    "**3.** Calculer la probabilité qu'une personne dont le test est positif soit porteuse de la maladie, c'est-à-dire la probabilité qu'une personne soit porteuse de la maladie sachant que son test est positif. C'est-à-dire donner la valeur $\\P{ M | T }$.\n",
    "\n",
    "On va s'intéresser à la probabilité que la personne soit malade et son test soit positif. C'est-à-dire $\\P {T \\cap M}$. D'après la définition des probabilités conditionnelles $\\P {T | M}$ (première ligne) et  $\\P {M | T}$ (deuxième ligne) :\n",
    "$$\\P {T \\cap M} = \\P {T | M} \\P M $$\n",
    "$$\\P {T \\cap M} = \\P {M | T} \\P T $$\n",
    "On a ainsi montré : \n",
    "$$\\P {T | M} \\P M = \\P {M | T} \\P T$$.\n",
    "\n",
    "Cette formule est en fait le théorème de Bayes et va nous permettre de calculer $\\P {M | T}$. On connaît déjà $\\P {T | M}$, $\\P M$. Il nous reste à calculer $\\P T$.\n",
    "\n",
    "On va décomposer : $T = (T \\cap M) \\cup (T \\cap \\bar M)$. Il s'agit d'une union disjointe ; on peut donc sommer les probabilités : $$\\P T = \\P {T \\cap M} + \\P {T \\cap \\bar M}$$\n",
    "$$\\P T = \\P {T | M} \\P M + \\P {T | \\bar M} \\P {\\bar M}$$\n",
    "\n",
    "Donc finalement :\n",
    "$$\\P {M | T} = \\frac{\\P {T | M} \\P M}{\\P T}$$\n",
    "$$\\P {M | T} = \\frac{\\P {T | M} \\P M}{\\P {T | M} \\P M + \\P {T | \\bar M} \\P {\\bar M}}$$\n",
    "$$\\P {M | T} = \\frac{0.99 \\times 10^{-4}}{0.99 \\times 10^{-4} + 10^{-3} \\times 0.9999}$$\n",
    "$$\\P {M | T} \\approx \\frac{10^{-4}}{1.1 \\times 10^{-3}} = \\frac{1}{1.1} \\times 10^{-1} \\approx 0.09 = 9\\%.$$\n"
   ]
  },
  {
   "cell_type": "markdown",
   "metadata": {},
   "source": [
    "### Exercice 11 (les trois portes de Monty Hall)\n",
    "\n",
    "Vous participez à un jeu télévisé. Derrière trois portes sont placées par le présentateur (Hall), respectivement une voiture et deux chèvres.\n",
    "\n",
    "Le jeu se déroule en trois phases :\n",
    " * 1ère phase : Vous choisissez une porte ;\n",
    " * 2ème phase : Le présentateur ouvre une des deux portes restantes, en prenant garde à ne pas dévoiler la voiture (ceci, dans le cas où vous n’auriez pas choisi la porte avec la voiture ; dans le cas contraire, nul ne sait quelle porte il choisira).\n",
    " * 3ème phase : Vous avez l’opportunité de changer votre choix de porte.\n",
    "À la fin du jeu, vous gardez ce qu’il y a derrière la porte choisie en dernier.\n",
    "\n",
    "Le jeu commence, vous choisissez une porte, et en profitez pour numéroter mentalement les portes, la n◦1 étant celle que vous venez de choisir.\n",
    " 1. Quel est la probabilité que vous gagniez la voiture, sachant que vous avez décidé quoiqu’il arrive de ne pas changer de porte ?\n",
    " 2. Lors de la seconde phase, le présentateur ouvre une porte, derrière laquelle se trouve une chèvre. Sachant cela, quelle est la probabilité que la voiture se cache derrière la dernière porte ? Qu’en déduisez-vous ?\n",
    " \n",
    "*On pourra modéliser en croisant les configurations possibles avec le choix du présentateur, ce qui donne un univers à six éléments Ω = {CCV, CV C, V CC} × {2, 3}.*"
   ]
  },
  {
   "cell_type": "markdown",
   "metadata": {},
   "source": [
    "On définit l'univers : $$\\Omega = \\{ CCV, CVC, VCC \\} \\times \\{ 2, 3\\}$$\n",
    "$$\\Omega = \\{ (CCV, 2), (CCV, 3), (CVC, 2), (CVC, 3), (VCC, 2), (VCC, 3) \\}$$\n",
    "\n",
    "On munit $\\Omega$ d'une probabilité $\\P$ vérifiant les hypothèses suivantes :\n",
    "* $\\P { \\{(CCV, 2), (CCV, 3)\\}} = 1/3$ ; $\\P {\\{(CVC, 2), (CVC, 3)\\}} = 1/3$ ; $\\P {\\{(VCC, 2), (VCC, 3)\\}} = 1/3$ ;\n",
    "* $\\P { \\{ CCV, 3 \\} } = 0$ ; $\\P { \\{ CVC, 2 \\} } = 0$; $\\P { \\{ VCC, 2 \\} } = \\P { \\{ VCC, 2 \\} }$."
   ]
  },
  {
   "cell_type": "markdown",
   "metadata": {},
   "source": [
    "## TD6 - Feuille 3 - Variables aléatoires"
   ]
  },
  {
   "cell_type": "markdown",
   "metadata": {},
   "source": [
    "### Exercice 1\n",
    "\n",
    "Un dé cubique non pipé porte inscrit sur ses six faces les nombres $-2, -2, 1, 1, 1, 4$. Soit $X$ la variable aléatoire égale au nombre que ce dé affiche après un lancer. Déterminer la loi de $X$."
   ]
  },
  {
   "cell_type": "markdown",
   "metadata": {},
   "source": [
    ".."
   ]
  },
  {
   "cell_type": "markdown",
   "metadata": {},
   "source": [
    "### Exercice 2\n",
    "\n",
    "Soit $n \\geq 1$ un entier. Soient $X$ et $Y$ deux variables aléatoires indépendantes de même loi uniforme sur l’ensemble $\\{1,...,n\\}$. Calculer $\\P{X = Y}$ et déterminer la loi de $D = X − Y$."
   ]
  },
  {
   "cell_type": "markdown",
   "metadata": {},
   "source": [
    ".."
   ]
  },
  {
   "cell_type": "markdown",
   "metadata": {},
   "source": [
    ".."
   ]
  },
  {
   "cell_type": "markdown",
   "metadata": {},
   "source": [
    ".."
   ]
  }
 ],
 "metadata": {
  "kernelspec": {
   "display_name": "Python 3",
   "language": "python",
   "name": "python3"
  },
  "language_info": {
   "codemirror_mode": {
    "name": "ipython",
    "version": 3
   },
   "file_extension": ".py",
   "mimetype": "text/x-python",
   "name": "python",
   "nbconvert_exporter": "python",
   "pygments_lexer": "ipython3",
   "version": "3.6.1"
  }
 },
 "nbformat": 4,
 "nbformat_minor": 4
}
