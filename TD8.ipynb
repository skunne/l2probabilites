{
 "cells": [
  {
   "cell_type": "markdown",
   "metadata": {},
   "source": [
    "# Probabilités pour les sciences exactes\n",
    "\n",
    "## TD8 - Feuille 2 - Conditionnement, indépendance\n",
    "\n",
    "*Les documents des semaines précédentes et d'aujourd'hui sont disponibles à l'adresse :\n",
    "https://github.com/skunne/l2probabilites .*\n",
    "\n",
    "$\\newcommand{\\N}{\\mathbb{N}}$\n",
    "$\\newcommand{\\mathbb{P}}[1]{\\mathbb{P}\\left( #1 \\right)}$\n",
    "$\\newcommand{\\c}[2]{{#1 \\choose #2}}$\n",
    "$\\newcommand{\\non}[1]{\\overline{#1}}$"
   ]
  },
  {
   "cell_type": "markdown",
   "metadata": {},
   "source": [
    "### Exercice 11 (les trois portes de Monty Hall)\n",
    "\n",
    "Vous participez à un jeu télévisé. Derrière trois portes sont placées par le présentateur (Hall), respectivement une voiture et deux chèvres.\n",
    "\n",
    "Le jeu se déroule en trois phases :\n",
    " * 1ère phase : Vous choisissez une porte ;\n",
    " * 2ème phase : Le présentateur ouvre une des deux portes restantes, en prenant garde à ne pas dévoiler la voiture (ceci, dans le cas où vous n’auriez pas choisi la porte avec la voiture ; dans le cas contraire, nul ne sait quelle porte il choisira).\n",
    " * 3ème phase : Vous avez l’opportunité de changer votre choix de porte.\n",
    "À la fin du jeu, vous gardez ce qu’il y a derrière la porte choisie en dernier.\n",
    "\n",
    "Le jeu commence, vous choisissez une porte, et en profitez pour numéroter mentalement les portes, la n◦1 étant celle que vous venez de choisir.\n",
    " 1. Quel est la probabilité que vous gagniez la voiture, sachant que vous avez décidé quoiqu’il arrive de ne pas changer de porte ?\n",
    " 2. Lors de la seconde phase, le présentateur ouvre une porte, derrière laquelle se trouve une chèvre. Sachant cela, quelle est la probabilité que la voiture se cache derrière la dernière porte ? Qu’en déduisez-vous ?\n",
    " \n",
    "*On pourra modéliser en croisant les configurations possibles avec le choix du présentateur, ce qui donne un univers à six éléments Ω = {CCV, CV C, V CC} × {2, 3}.*"
   ]
  },
  {
   "cell_type": "markdown",
   "metadata": {},
   "source": [
    "**Solution**\n",
    "\n",
    "On définit l'univers : $$\\Omega = \\{ CCV, CVC, VCC \\} \\times \\{ 2, 3\\}$$\n",
    "$$\\Omega = \\{ (CCV, 2), (CCV, 3), (CVC, 2), (CVC, 3), (VCC, 2), (VCC, 3) \\}$$\n",
    "\n",
    "On munit $\\Omega$ d'une probabilité $\\mathbb{P}$ vérifiant les hypothèses suivantes :\n",
    "* $\\mathbb{P} ( \\{(CCV, 2), (CCV, 3)\\}) = 1/3$ ; $\\mathbb{P} (\\{(CVC, 2), (CVC, 3)\\}) = 1/3$ ; $\\mathbb{P} (\\{(VCC, 2), (VCC, 3)\\}) = 1/3$ ;\n",
    "* $\\mathbb{P} ( \\{ CCV, 3 \\} ) = 0$ ; $\\mathbb{P} ( \\{ CVC, 2 \\} ) = 0$; $\\mathbb{P} ( \\{ VCC, 2 \\} ) = \\mathbb{P} ( \\{ VCC, 3 \\} )$."
   ]
  },
  {
   "cell_type": "markdown",
   "metadata": {},
   "source": [
    "**1.** On s'intéresse à l'événement $E$ = \"on gagne la voiture, sachant qu'on a décidé de ne pas changer de porte\". C'est-à-dire $E$ = \"la voiture se trouve derrière la première porte\" :\n",
    "$$E = \\{(VCC, 2), (VCC, 3)\\}$$\n",
    "D'après les données sur la loi $\\mathbb{P}$, on connaît la probabilité de l'événement $E$ :\n",
    "$$\\mathbb{P} (E) = 1/3$$"
   ]
  },
  {
   "cell_type": "markdown",
   "metadata": {},
   "source": [
    "**2.** On s'intéresse cette fois-ci à l'événement $F$ = \"la voiture se cache derrière la dernière porte\". C'est-à-dire :\n",
    "$$F = \\{ (CCV, 2), (CVC, 3) \\}$$\n",
    "On décompose $F = F_2 \\cup F_3$ avec $F_2 = \\{ (CCV, 2) \\}$ et $F_3 = \\{ (CVC, 3) \\}$. Il s'agit d'une union disjointe donc $\\mathbb{P} (F) = \\mathbb{P} {(F_2)} + \\mathbb{P} {(F_3)}$.\n",
    "\n",
    "On calcule d'abord $\\mathbb{P} (F_2)$. On remarque que :\n",
    "$$F_2 = \\{(CCV, 2), (CCV, 3)\\} \\setminus \\{ CCV, 3 \\}$$\n",
    "Ici $\\{ CCV, 3 \\} \\subset \\{(CCV, 2), (CCV, 3)\\}$ donc on peut prendre la différence des probabilités :\n",
    "$$\\mathbb{P} (F_2) = \\mathbb{P}(\\{(CCV, 2), (CCV, 3)\\}) - \\mathbb{P}(\\{ CCV, 3 \\})$$\n",
    "(**Rappel :** En général, pour deux événements $A$ et $B$, on a toujours $\\mathbb{P}(A \\setminus B) = \\mathbb{P} (A) - \\mathbb{P}{(A \\cap B)}$ ; si de plus $B \\subset A$, alors $A \\cap B = B$ donc $\\mathbb{P}{(A \\setminus B)} = \\mathbb{P} (A) - \\mathbb{P}{(B)}$.)\n",
    "\n",
    "Donc $\\mathbb{P}{(F_2)} = 1/3$.\n",
    "\n",
    "On remarque que les événements $F_2$ = \"la voiture se trouve derrière la troisième porte et le présentateur ouvre la deuxième porte\" et $F_3$ = \"la voiture se trouve derrière la deuxième porte et le présentateur ouvre la troisième porte\" sont complètement symétriques ; on peut donc calculer $\\mathbb{P} {(F_3)}$ de la même manière qu'on a calculé $/P {(F_2)}$ : on trouve $$\\mathbb{P}{(F_3)} = \\mathbb{P} \\left(  \\{(CVC, 2), (CVC, 3)\\} \\right) - \\mathbb{P} \\left((CVC, 2) \\right) = 1/3 - 0 = 1/3.$$\n",
    "\n",
    "On peut finalement répondre à la question : la probabilité que la voiture se trouve derrière la dernière porte (la porte choisie ni par nous à la première phase, ni ouverte par le présentateur à la deuxième phase) est :\n",
    "$$\\mathbb{P} (F) = \\mathbb{P} {(F_2)} + \\mathbb{P} {(F_3)} = 1/3 + 1/3 = 2/3.$$"
   ]
  },
  {
   "cell_type": "markdown",
   "metadata": {},
   "source": [
    "## TD6 - Feuille 3 - Variables aléatoires"
   ]
  },
  {
   "cell_type": "markdown",
   "metadata": {},
   "source": [
    "### Exercice 1\n",
    "\n",
    "Un dé cubique non pipé porte inscrit sur ses six faces les nombres $-2, -2, 1, 1, 1, 4$. Soit $X$ la variable aléatoire égale au nombre que ce dé affiche après un lancer. Déterminer la loi de $X$."
   ]
  },
  {
   "cell_type": "markdown",
   "metadata": {},
   "source": [
    "**Solution**\n",
    "\n",
    "Déterminer la loi de $X$ c'est calculer $\\mathbb{P} {(X = k)}$ pour chaque $k \\in \\{-2, 1, 4\\}$.\n",
    "\n",
    "On commence par définir $\\Omega = \\{ 1, 2, 3, 4, 5, 6 \\}$ muni de la probabilité uniforme. La variable aléatoire $X$ est donc la fonction :\n",
    "$$X : \\Omega \\longrightarrow \\mathbb{R}$$\n",
    "définie par : $X(1) = -2, X(2) = -2, X(3) = 1, X(4) = 1, X(5) = 1, X(6) = 4$.\n",
    "\n",
    "Donner la loi de $X$ c'est donner les probabilités des trois événements $X=-2$, $X=1$ et $X=4$. On sait que $\\Omega$ est muni de la loi uniforme ; donc la probabilité d'un événement $E$ est $\\mathbb{P} (E) = |E| / |\\Omega| = |E| / 6$.\n",
    "$$\\mathbb{P}{(X = -2)} = 2/6 = 1/3$$\n",
    "$$\\mathbb{P}{(X = 1)} = 3/6 = 1/2$$\n",
    "$$\\mathbb{P}{(X = 4)} = 1/6$$"
   ]
  },
  {
   "cell_type": "markdown",
   "metadata": {},
   "source": [
    "### Exercice 2\n",
    "\n",
    "Soit $n \\geq 1$ un entier. Soient $X$ et $Y$ deux variables aléatoires indépendantes de même loi uniforme sur l’ensemble $\\{1,...,n\\}$. Calculer $\\mathbb{P}{(X = Y)}$ et déterminer la loi de $D = X - Y$."
   ]
  },
  {
   "cell_type": "markdown",
   "metadata": {},
   "source": [
    "**Solution**\n",
    "\n",
    "On s'intéresse à l'évenement $E = \\{ X=Y \\}$. Cet événement est l'union des $n$ événements disjoints : $(X,Y) = (1, 1), (X,Y) = (2,2), ..., (X,Y) = n,n$. C'est la diagonale du tableau qui représente les $n$ valeurs possibles de $X$ et les $n$ valeurs possibles de $Y$. La probabilité de chaque événement $(X,Y) = (j,j)$ est $\\mathbb{P}{((X,Y) = (j,j))} = \\mathbb{P}{\\left( (X=j) \\cap (Y=j) \\right)} = \\mathbb{P}{(X=j)} \\mathbb{P}{(Y = j)}$ car $X$ et $Y$ sont indépendantes. Donc $\\mathbb{P}{\\left( (X,Y) = (j,j) \\right) } = 1/{n^2}$.\n",
    "\n",
    "Donc l'événement $E$ est l'union disjointe de $n$ événements qui ont chacun probabilité $1/n^2$. Donc $\\mathbb{P} (E) = 1/n^2 + ... + 1/n^2 = n/n^2 = 1/n$."
   ]
  },
  {
   "cell_type": "markdown",
   "metadata": {},
   "source": [
    "### Exercice 3\n",
    "\n",
    "Un sac contient 9 jetons numérotés de 1 à 9. On tire au hasard et simultanément 3 jetons du sac. Soit $X$ la variable aléatoire égale au nombre de numéros impairs figurant parmi les 3 numéros obtenus.\n",
    "\n",
    "1. Définir un espace de probabilités adapté à cette expérience.\n",
    "\n",
    "2. Déterminer la loi de la variable aléatoire $X$."
   ]
  },
  {
   "cell_type": "markdown",
   "metadata": {},
   "source": [
    "**Solution**\n",
    "\n",
    "**1.** On définit l'univers $\\Omega$ : choisir une issue de $\\Omega$ c'est choisir 3 éléments parmi 9. C'est-à-dire qu'une issue est un sous-ensemble de cardinal 3 de $\\{1, 2, 3, ..., 9\\}$.\n",
    "$$\\Omega = \\{ \\omega \\subset \\{1, 2, 3, ..., 9\\} \\,|\\, |\\omega| = 3 \\}$$\n",
    "On munit $\\Omega$ de la loi uniforme. Donc pour tout événement $E \\subset \\Omega$, on aura $\\mathbb{P} (E) = |E| / |\\Omega|$ ; avec $$\\Omega = {9 \\choose 3} = \\frac{9!}{3! \\times 6!} = \\frac{9 \\times 8 \\times 7}{3 \\times 2 \\times 1} = 84$$\n",
    "\n",
    "**2.** Déterminer la loi de $X$, c'est déterminer $\\mathbb{P}{(X = k)}$ pour chaque $k \\in \\{ 0, 1, 2, 3 \\}$.\n",
    "\n",
    "Soit $k \\in \\{ 0, 1, 2, 3 \\}$. On s'intéresse à l'événement \"$X = k$\". On cherche sa probabilité. On va commencer par calculer son cardinal $|X = k|$ c'est-à-dire le nombre de combinaisons qui contiennnent $k$ numéros impairs. Choisir une combinaison de trois jetons qui appartient à l'événement $X = k$ c'est choisir $k$ jetons parmi $\\{ 1, 3, 5, 7, 9 \\}$ et $3 - k$ jetons parmi $\\{ 2, 4, 6, 8 \\}$. Il y a donc \n",
    "$$|X = k| = {5 \\choose k} \\times {4 \\choose {3-k}}$$manières de choisir une issue de $X=k$.\n",
    "\n",
    "Donc la loi de $X$ est donnée par : pour tout $k \\in \\{0, 1, 2, 3\\}$ :\n",
    "$$\\mathbb{P}{(X = k)} = \\frac{| \\{X = k\\} |}{| \\Omega| } = \\frac{1}{84} {5 \\choose k} {4 \\choose {3-k}}$$"
   ]
  },
  {
   "cell_type": "markdown",
   "metadata": {},
   "source": [
    "### Exercice 4\n",
    "\n",
    "Soient $p \\in ] 0, 1[ $ et $n \\in \\N$. On considère une variable aléatoire $X$ de loi binomiale $B(n,p)$. On pose $Y=n-X$. Quelle loi suit la variable aléatoire $Y$?"
   ]
  },
  {
   "cell_type": "markdown",
   "metadata": {},
   "source": [
    "**Solution**\n",
    "\n",
    "La variable aléatoire $X$ suit une loi binomiale $B(n,p)$. C'est-à-dire que pour tout $j \\in \\{0, n\\}$ :\n",
    "$$\\mathbb{P}{(X = j)} = {n \\choose j} p^j (1-p)^{n-j}$$\n",
    "\n",
    "On cherche la loi de $Y$. On sait que $X$ est à valeurs entières entre 0 et $n$ ; et $Y = n - X$ ; donc $Y$ est à valeurs entières entre $0$ à $n$. Donner la loi de $Y$ c'est donner pour chaque $k \\in \\{0, n\\}$ la probabilité $\\mathbb{P}{(Y = k)}$.\n",
    "\n",
    "$$\\mathbb{P}{(Y = k)} = \\mathbb{P}{n - X = k}$$\n",
    "$$\\mathbb{P}{(Y = k)} = \\mathbb{P}{X = n -k}$$\n",
    "$$\\mathbb{P}{(Y = k)} = {n \\choose n-k} p^{n-k} (1-p)^{n-(n-k)}$$\n",
    "$$\\mathbb{P}{(Y = k)} = {n \\choose k} p^{n-k} (1-p)^{k}$$\n",
    "$$\\mathbb{P}{(Y = k)} = {n \\choose k} (1-p)^{k}p^{n-k}$$\n",
    "\n",
    "On reconnaît ici la loi binomiale : la variable aléatoire $Y$ suit la loi binomiale $B(n,1-p)$."
   ]
  },
  {
   "cell_type": "markdown",
   "metadata": {},
   "source": [
    "### Exercice 5\n",
    "\n",
    "Chaque graine d’une variété de maïs pousse une fois semée avec une probabilité de $0,9$. On sème $20$ graines. Soit $X$ la variable aléatoire égale au nombre de graines qui vont pousser. Déterminer la loi de $X$."
   ]
  },
  {
   "cell_type": "markdown",
   "metadata": {},
   "source": [
    "**Solution**\n",
    "\n",
    "On remarque que $X$ est à valeur entière entre 0 et 20. On a répété 20 expériences indépendantes de même loi Bernouilli de paramètre $0,9$. La variable aléatoire $X$ compte le nombre de succès. Donc $X$ suit une loi binomiale $B(20,0.9)$.\n",
    "\n",
    "La loi de $X$ est donnée par la formule : pour chaque $k \\in \\{0, 20\\},$\n",
    "$$\\mathbb{P}{(X = k)} = {20 \\choose k}0.9^k 0.1^{20-k}$$"
   ]
  },
  {
   "cell_type": "markdown",
   "metadata": {},
   "source": [
    "## Couples aléatoires\n",
    "\n",
    "### Exercice 6\n",
    "\n",
    "Soient $X$ et $Y$ deux variables aléatoires discrètes et soient $a$ et $b$ deux réels tels que la loi du couple $(X, Y )$ soit donnée par le tableau suivant :\n",
    "\n",
    "$$\\mathbb{P}\\left( (0,-1) \\right) = 1/4 ; \\mathbb{P}\\left( (0,0)\\right) = a ; \\mathbb{P}\\left( (0,1)\\right) = 1/4 ; $$\n",
    "$$\\mathbb{P}\\left( (1,-1)\\right) = 1/6 ; \\mathbb{P}\\left( (1,0)\\right) = b ; \\mathbb{P}\\left( (1,1)\\right) = 1/6 ; $$\n",
    "\n",
    "1. Donner la loi de $X$ et la loi de $Y$.\n",
    "\n",
    "2. Déterminer $a$ et $b$ de sorte que $X$ et $Y$ soient indépendantes.\n",
    "\n",
    "3. On suppose que $a = \\frac{1}{6}$. Quelle est la valeur de $b$?"
   ]
  },
  {
   "cell_type": "markdown",
   "metadata": {},
   "source": [
    "**Solution**\n",
    "\n",
    "Avant de répondre aux questions, on remarque que les probabilités doivent sommer à 1 : \n",
    "$$1/4 + a + 1/4 + 1/6 + b + 1/6 = 1$$\n",
    "$$a + b = 1 - 2/4 - 2/6$$\n",
    "$$a + b = 1 - (1/2 + 1/3) = 1 - 5/6$$\n",
    "$$a + b = 1/6$$\n",
    "\n",
    "**1.** $X$ peut prendre les valeurs 0 et 1 ; et $Y$ peut prendre les valeurs $-1$, $0$ et $1$. Donner la loi de $X$ c'est donner $\\mathbb{P}{(X = 0)}$ et $\\mathbb{P}{(X = 1)}$. La loi de $X$ s'obtient en sommant chaque ligne du tableau : en effet, en utilisant plusieurs fois la formule $A = (A \\cap B) \\cup (A \\cap \\non B)$, on obtient :\n",
    "$$\\{X = 0\\} = \\{X=0,Y=-1\\} \\cup \\{X=0,Y=0\\} \\cup \\{X=0,Y=1\\}$$\n",
    "Il s'agit d'une union disjointe, donc on peut sommer les trois probabilités pour obtenir $\\mathbb{P}{(X = 0)}$.\n",
    "\n",
    "On obtient donc :\n",
    "$$\\mathbb{P}{(X = 0)} = 1/4 + a + 1/4 = 1/2 + a$$\n",
    "$$\\mathbb{P}{(X=1)} = 1/6 + b + 1/6 = 1/3 + b$$\n",
    "\n",
    "De la même manière, on obtient la loi de $Y$ en sommant chaque colonne du tableau : en effet, $\\mathbb{P}{(Y = -1)} = \\mathbb{P}{(X=0,Y=-1)} + \\mathbb{P}{(X=1, Y=-1)}$. De même pour $\\mathbb{P}{(Y = 0)}$ et $\\mathbb{P}{(Y=1)}$. On obtient donc :\n",
    "$$\\mathbb{P}{(Y = -1)} = 1/4+1/6 = 5/12$$\n",
    "$$\\mathbb{P}{(Y = 0)} = a+b = 1/6$$\n",
    "$$\\mathbb{P}{(Y = 1)} = 1/4+1/6 = 5/12$$"
   ]
  },
  {
   "cell_type": "markdown",
   "metadata": {},
   "source": [
    "**2.** Les variables $X$ et $Y$ sont indépendantes si et seulement si pour chacune de six possibilités $(i,j)$ avec $i \\in \\{0, 1\\}$ et $j \\in \\{-1, 0, 1\\}$, on a indépendance des événements $X=i$ et $Y=j$, c'est-à-dire :\n",
    "$$\\mathbb{P}{\\left( (X,Y) = (i,j) \\right)} = \\mathbb{P}{(X=i)} \\mathbb{P}{(Y=j)}$$\n",
    "\n",
    "Cela revient à vérifier que notre tableau de probabilités est une table de multiplication : il faut et il suffit que chaque case $\\mathbb{P}{\\left( (X,Y) = (i,j)\\right)}$ du tableau soit le produit des valeurs $P{(X=i)}$ (écrite à la fin de chaque ligne) et $\\mathbb{P}{(Y = j)}$ (écrite à la fin de chaque colonne).\n",
    "\n",
    "Donc $a$ et $b$ doivent vérifier les six équations correspondant aux multiplications du tableau. En particulier, avec la première colonne du tableau, on a les deux équations :\n",
    "$$1/4 = (1/2 + a) \\times 5/12$$\n",
    "$$1/6 = (1/3 + b) \\times 5/12$$\n",
    "On en déduit $a = 12/5 \\times 1/4 - 1/2 = 1/10$ et $b = 12/5 \\times 1/6 - 1/3 = 1/15$.\n",
    "\n",
    "On vérifie par ailleurs que $a+b = 1/6$.\n",
    "\n",
    "Puis il faut vérifier que ces valeurs de $a$ et $b$ vérifient les quatre autres équations pour que le tableau soit une table de multiplication.\n",
    "\n",
    "Donc on en conclue que $X$ et $Y$ sont indépendants si et seulement si $a = 1/10$ et $b = 1/15$."
   ]
  },
  {
   "cell_type": "markdown",
   "metadata": {},
   "source": [
    "### Exercice 7\n",
    "\n",
    "Derrière trois portes numérotées sont placées respectivement une voiture et deux chèvres. Le jeu se déroule en trois phases :\n",
    "\n",
    "* 1ère phase : Vous choisissez une porte.\n",
    "* 2ème phase : Le présentateur ouvre une des deux portes restantes, en prenant garde à ne pas dévoiler la voiture.\n",
    "* 3ème phase : Vous avez l’opportunité de changer votre choix de porte.\n",
    "\n",
    "A la fin du jeu, vous emportez ce qu’il y a derrière la porte choisie.\n",
    "\n",
    "Le jeu commence, vous choisissez la porte n°1. On s’intéresse alors à la seconde phase. \n",
    "\n",
    "Sans chercher à préciser votre choix d’un espace probabilisé fini décrivant la situation après la seconde phase (ceci a été fait dans la feuille précédente), on définit :\n",
    "\n",
    " * $V$ la variable aléatoire qui fournit le numéro de la porte derrière laquelle la voiture est placée, et\n",
    " * $O$ le numéro de la porte ouverte par le présentateur.\n",
    "\n",
    "Questions :\n",
    "\n",
    " 1. Donner dans un tableau la loi du couple $(V, O)$, avec les lois marginales.\n",
    " 2. Les variables $V$ et $O$ sont-elles indépendantes ?\n",
    " 3. Le présentateur a ouvert la porte n°2. Sachant cela, quelle est la probabilité que la voiture se cache derrière la porte n°3? Qu’en déduisez-vous ?"
   ]
  },
  {
   "cell_type": "markdown",
   "metadata": {},
   "source": [
    "**Solution**\n",
    "\n",
    "**1.** La variable $V$ peut prendre les valeurs $1,2,3$. La variable $O$ peut prendre les valeurs $2, 3$. On va donc remplir un tableau à trois lignes et deux colonnes pour la loi du couple $(V,O)$, avec une colonne supplémentaire pour la loi de $V$ et une ligne supplémentaire pour la loi de $O$.\n",
    "\n",
    "D'après l'exercice 11 de la feuille précédente, on connaît les valeurs suivantes :\n",
    "$$\\mathbb{P}(V = 1) = 1/3 ; \\mathbb{P}(V = 2) = 1/3 ; \\mathbb{P}(V = 3) = 1/3$$\n",
    "$$\\mathbb{P}(O = 2 \\,|\\, V = 3) = 1 ; \\mathbb{P}(O = 3\\,|\\, V = 2) = 1$$\n",
    "$$\\mathbb{P}(O = 2 \\,|\\, V = 2) = 0 ; \\mathbb{P}(O = 3\\,|\\, V = 3) = 0$$\n",
    "$$\\mathbb{P}(O = 2 \\,|\\, V = 1) = 1/2 ; \\mathbb{P}(O = 3\\,|\\, V = 1) = 1/2$$\n",
    "\n",
    "On peut donc remplir le tableau, en utilisant les formules :\n",
    "$$\\mathbb{P}(V = i, O = j) = \\mathbb{P}(V = i) \\mathbb{P}(O = j \\,|\\, V=i)$$\n",
    "\n",
    "$$\\qquad 2 \\qquad 3 \\qquad $$\n",
    "$$1 \\qquad 1/6 \\qquad 1/6$$\n",
    "$$2 \\qquad 0 \\qquad 1/3$$\n",
    "$$3 \\qquad 1/3 \\qquad 0$$\n",
    "\n",
    "En sommant chaque ligne, on retrouve la loi marginale de $V$ qu'on connaissait déjà ; en sommant chaque colonne, on obtient la loi marginale de $O$ :\n",
    "$$\\mathbb{P}(O = 2) = 1/2$$\n",
    "$$\\mathbb{P}(O = 3) = 1/2$$\n",
    "\n",
    "**2.** Non, les variables $V$ et $O$ ne sont pas indépendantes ; en effet, si on regarde la case $(V,O) = (2,2)$, on constate que les événements $V=2$ et $O=2$ ne sont pas indépendants :\n",
    "$$\\mathbb{P}((V,O) = (2,2)) = 0 \\neq 1/3 \\times 1/2 = \\mathbb{P}(V=2) \\mathbb{P}(O = 2)$$\n",
    "\n",
    "**3.** On nous demande de calculer : $\\mathbb{P}( V = 3 \\,|\\, O = 2)$. On va utiliser la formule de définition d'une probabilité conditionelle :\n",
    "\n",
    "$$\\mathbb{P}( V = 3 \\,|\\, O = 2) = \\frac{ \\mathbb{P}(V = 3 \\cap O = 2)}{\\mathbb{P}(O = 2)}$$\n",
    "$$\\mathbb{P}( V = 3 \\,|\\, O = 2) = \\frac{1/3}{1/2}$$\n",
    "$$\\mathbb{P}( V = 3 \\,|\\, O = 2) = \\frac{2}{3}$$\n",
    "\n",
    "De manière symétrique, on aurait pu calculer $\\mathbb{P}( V = 2 \\,|\\, O = 3) = \\frac{2}{3}$.\n",
    "\n",
    "En conclusion, si l'on sait que le présentateur a ouvert l'une des deux portes 2 ou 3, alors il y a probabilité 2/3 que la voiture soit derrière l'autre porte. Donc on a toujours intérêt à changer de porte."
   ]
  },
  {
   "cell_type": "markdown",
   "metadata": {},
   "source": [
    "### Exercice 8\n",
    "\n",
    "Soient X, Y deux variables aléatoires indépendantes et de loi uniforme sur $\\{0, . . . , n − 1\\}$. On étudie la variable aléatoire $Z = \\min(X, Y )$.\n",
    "\n",
    "1. Soit $z$ un nombre réel. Montrer que: $\\mathbb{P}(X\\geq z, Y \\geq z) = \\mathbb{P}(X \\geq z)\\mathbb{P}(Y \\geq z)$.\n",
    "2. En déduire $\\mathbb{P}(Z \\geq z)$.\n",
    "3. Trouver la loi de la variable aléatoire $Z = \\min(X, Y )$.\n"
   ]
  },
  {
   "cell_type": "markdown",
   "metadata": {},
   "source": [
    "**Solution**\n",
    "\n",
    "**1.** On définit les deux événements $E_z = (X \\geq z)$ et $F_z = (Y \\geq z)$. Les deux variables aléatoires $X$ et $Y$ sont indépendantes, donc les événements $E_z$ et $F_z$ sont indépendants. Donc $\\mathbb{P}(E_z \\cap F_z) = \\mathbb{P}(E_z) \\mathbb{P}(F_Z)$, ce qui est exactement l'égalité demandée."
   ]
  },
  {
   "cell_type": "markdown",
   "metadata": {},
   "source": [
    "**Pour la semaine prochaine :**\n",
    "\n",
    "* exercice donné tout à l'heure ;\n",
    "* exercice 8 de cette feuille (feuille 3) ;\n",
    "* on passera aux premiers exercices de la feuille 5."
   ]
  },
  {
   "cell_type": "code",
   "execution_count": null,
   "metadata": {},
   "outputs": [],
   "source": []
  }
 ],
 "metadata": {
  "kernelspec": {
   "display_name": "Python 3",
   "language": "python",
   "name": "python3"
  },
  "language_info": {
   "codemirror_mode": {
    "name": "ipython",
    "version": 3
   },
   "file_extension": ".py",
   "mimetype": "text/x-python",
   "name": "python",
   "nbconvert_exporter": "python",
   "pygments_lexer": "ipython3",
   "version": "3.6.1"
  }
 },
 "nbformat": 4,
 "nbformat_minor": 4
}
